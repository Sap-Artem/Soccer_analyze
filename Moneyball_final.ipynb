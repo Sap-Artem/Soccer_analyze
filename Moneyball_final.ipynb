{
 "cells": [
  {
   "cell_type": "code",
   "execution_count": 76,
   "id": "27fefa26-5e93-4c55-9810-30358384a256",
   "metadata": {},
   "outputs": [],
   "source": [
    "import pandas as pd\n",
    "import numpy as np\n",
    "import plotly.graph_objects as go\n",
    "import plotly.express as px\n",
    "from scipy.stats import linregress\n",
    "from scipy.stats import t\n",
    "from scipy.stats import pearsonr\n",
    "import matplotlib.pyplot as plt\n",
    "import seaborn as sns\n",
    "\n",
    "pd.set_option('display.max_columns', None)"
   ]
  },
  {
   "cell_type": "code",
   "execution_count": 2,
   "id": "26522ee8-4e3a-49d9-8661-f385ecaca928",
   "metadata": {},
   "outputs": [],
   "source": [
    "# Начнём с информации об игроках"
   ]
  },
  {
   "cell_type": "code",
   "execution_count": 77,
   "id": "74efc6c6-e5b2-4444-86eb-af2144ee48be",
   "metadata": {},
   "outputs": [],
   "source": [
    "data_players = pd.read_csv(\"C:/Users/artsa/Downloads/top5-players.csv\")"
   ]
  },
  {
   "cell_type": "code",
   "execution_count": 78,
   "id": "1ecb3359-b289-4ac9-bd12-9d1a4181d143",
   "metadata": {},
   "outputs": [
    {
     "data": {
      "text/html": [
       "<div>\n",
       "<style scoped>\n",
       "    .dataframe tbody tr th:only-of-type {\n",
       "        vertical-align: middle;\n",
       "    }\n",
       "\n",
       "    .dataframe tbody tr th {\n",
       "        vertical-align: top;\n",
       "    }\n",
       "\n",
       "    .dataframe thead th {\n",
       "        text-align: right;\n",
       "    }\n",
       "</style>\n",
       "<table border=\"1\" class=\"dataframe\">\n",
       "  <thead>\n",
       "    <tr style=\"text-align: right;\">\n",
       "      <th></th>\n",
       "      <th>Rk</th>\n",
       "      <th>Player</th>\n",
       "      <th>Nation</th>\n",
       "      <th>Pos</th>\n",
       "      <th>Squad</th>\n",
       "      <th>Comp</th>\n",
       "      <th>Age</th>\n",
       "      <th>Born</th>\n",
       "      <th>MP</th>\n",
       "      <th>Starts</th>\n",
       "      <th>Min</th>\n",
       "      <th>90s</th>\n",
       "      <th>Gls</th>\n",
       "      <th>Ast</th>\n",
       "      <th>G+A</th>\n",
       "      <th>G-PK</th>\n",
       "      <th>PK</th>\n",
       "      <th>PKatt</th>\n",
       "      <th>CrdY</th>\n",
       "      <th>CrdR</th>\n",
       "      <th>xG</th>\n",
       "      <th>npxG</th>\n",
       "      <th>xAG</th>\n",
       "      <th>npxG+xAG</th>\n",
       "      <th>PrgC</th>\n",
       "      <th>PrgP</th>\n",
       "      <th>PrgR</th>\n",
       "      <th>Gls_90</th>\n",
       "      <th>Ast_90</th>\n",
       "      <th>G+A_90</th>\n",
       "      <th>G-PK_90</th>\n",
       "      <th>G+A-PK_90</th>\n",
       "      <th>xG_90</th>\n",
       "      <th>xAG_90</th>\n",
       "      <th>xG+xAG_90</th>\n",
       "      <th>npxG_90</th>\n",
       "      <th>npxG+xAG_90</th>\n",
       "    </tr>\n",
       "  </thead>\n",
       "  <tbody>\n",
       "    <tr>\n",
       "      <th>0</th>\n",
       "      <td>1</td>\n",
       "      <td>Max Aarons</td>\n",
       "      <td>eng ENG</td>\n",
       "      <td>DF</td>\n",
       "      <td>Bournemouth</td>\n",
       "      <td>eng Premier League</td>\n",
       "      <td>23.0</td>\n",
       "      <td>2000.0</td>\n",
       "      <td>20</td>\n",
       "      <td>13</td>\n",
       "      <td>1237</td>\n",
       "      <td>13.7</td>\n",
       "      <td>0</td>\n",
       "      <td>1</td>\n",
       "      <td>1</td>\n",
       "      <td>0</td>\n",
       "      <td>0</td>\n",
       "      <td>0</td>\n",
       "      <td>1</td>\n",
       "      <td>0</td>\n",
       "      <td>0.0</td>\n",
       "      <td>0.0</td>\n",
       "      <td>0.8</td>\n",
       "      <td>0.9</td>\n",
       "      <td>22.0</td>\n",
       "      <td>43.0</td>\n",
       "      <td>26.0</td>\n",
       "      <td>0.00</td>\n",
       "      <td>0.07</td>\n",
       "      <td>0.07</td>\n",
       "      <td>0.00</td>\n",
       "      <td>0.07</td>\n",
       "      <td>0.00</td>\n",
       "      <td>0.06</td>\n",
       "      <td>0.06</td>\n",
       "      <td>0.00</td>\n",
       "      <td>0.06</td>\n",
       "    </tr>\n",
       "    <tr>\n",
       "      <th>1</th>\n",
       "      <td>2</td>\n",
       "      <td>Brenden Aaronson</td>\n",
       "      <td>us USA</td>\n",
       "      <td>MF,FW</td>\n",
       "      <td>Union Berlin</td>\n",
       "      <td>de Bundesliga</td>\n",
       "      <td>22.0</td>\n",
       "      <td>2000.0</td>\n",
       "      <td>30</td>\n",
       "      <td>14</td>\n",
       "      <td>1267</td>\n",
       "      <td>14.1</td>\n",
       "      <td>2</td>\n",
       "      <td>2</td>\n",
       "      <td>4</td>\n",
       "      <td>2</td>\n",
       "      <td>0</td>\n",
       "      <td>0</td>\n",
       "      <td>3</td>\n",
       "      <td>1</td>\n",
       "      <td>2.0</td>\n",
       "      <td>2.0</td>\n",
       "      <td>1.9</td>\n",
       "      <td>3.8</td>\n",
       "      <td>37.0</td>\n",
       "      <td>56.0</td>\n",
       "      <td>91.0</td>\n",
       "      <td>0.14</td>\n",
       "      <td>0.14</td>\n",
       "      <td>0.28</td>\n",
       "      <td>0.14</td>\n",
       "      <td>0.28</td>\n",
       "      <td>0.14</td>\n",
       "      <td>0.13</td>\n",
       "      <td>0.27</td>\n",
       "      <td>0.14</td>\n",
       "      <td>0.27</td>\n",
       "    </tr>\n",
       "    <tr>\n",
       "      <th>2</th>\n",
       "      <td>3</td>\n",
       "      <td>Paxten Aaronson</td>\n",
       "      <td>us USA</td>\n",
       "      <td>MF</td>\n",
       "      <td>Eint Frankfurt</td>\n",
       "      <td>de Bundesliga</td>\n",
       "      <td>19.0</td>\n",
       "      <td>2003.0</td>\n",
       "      <td>7</td>\n",
       "      <td>1</td>\n",
       "      <td>101</td>\n",
       "      <td>1.1</td>\n",
       "      <td>0</td>\n",
       "      <td>1</td>\n",
       "      <td>1</td>\n",
       "      <td>0</td>\n",
       "      <td>0</td>\n",
       "      <td>0</td>\n",
       "      <td>0</td>\n",
       "      <td>0</td>\n",
       "      <td>0.1</td>\n",
       "      <td>0.1</td>\n",
       "      <td>0.1</td>\n",
       "      <td>0.2</td>\n",
       "      <td>2.0</td>\n",
       "      <td>5.0</td>\n",
       "      <td>7.0</td>\n",
       "      <td>0.00</td>\n",
       "      <td>0.89</td>\n",
       "      <td>0.89</td>\n",
       "      <td>0.00</td>\n",
       "      <td>0.89</td>\n",
       "      <td>0.11</td>\n",
       "      <td>0.07</td>\n",
       "      <td>0.19</td>\n",
       "      <td>0.11</td>\n",
       "      <td>0.19</td>\n",
       "    </tr>\n",
       "    <tr>\n",
       "      <th>3</th>\n",
       "      <td>4</td>\n",
       "      <td>Keyliane Abdallah</td>\n",
       "      <td>fr FRA</td>\n",
       "      <td>FW</td>\n",
       "      <td>Marseille</td>\n",
       "      <td>fr Ligue 1</td>\n",
       "      <td>17.0</td>\n",
       "      <td>2006.0</td>\n",
       "      <td>1</td>\n",
       "      <td>0</td>\n",
       "      <td>4</td>\n",
       "      <td>0.0</td>\n",
       "      <td>0</td>\n",
       "      <td>0</td>\n",
       "      <td>0</td>\n",
       "      <td>0</td>\n",
       "      <td>0</td>\n",
       "      <td>0</td>\n",
       "      <td>0</td>\n",
       "      <td>0</td>\n",
       "      <td>0.0</td>\n",
       "      <td>0.0</td>\n",
       "      <td>0.0</td>\n",
       "      <td>0.0</td>\n",
       "      <td>0.0</td>\n",
       "      <td>0.0</td>\n",
       "      <td>0.0</td>\n",
       "      <td>0.00</td>\n",
       "      <td>0.00</td>\n",
       "      <td>0.00</td>\n",
       "      <td>0.00</td>\n",
       "      <td>0.00</td>\n",
       "      <td>0.00</td>\n",
       "      <td>0.00</td>\n",
       "      <td>0.00</td>\n",
       "      <td>0.00</td>\n",
       "      <td>0.00</td>\n",
       "    </tr>\n",
       "    <tr>\n",
       "      <th>4</th>\n",
       "      <td>5</td>\n",
       "      <td>Yunis Abdelhamid</td>\n",
       "      <td>ma MAR</td>\n",
       "      <td>DF</td>\n",
       "      <td>Reims</td>\n",
       "      <td>fr Ligue 1</td>\n",
       "      <td>35.0</td>\n",
       "      <td>1987.0</td>\n",
       "      <td>31</td>\n",
       "      <td>31</td>\n",
       "      <td>2781</td>\n",
       "      <td>30.9</td>\n",
       "      <td>4</td>\n",
       "      <td>0</td>\n",
       "      <td>4</td>\n",
       "      <td>3</td>\n",
       "      <td>1</td>\n",
       "      <td>1</td>\n",
       "      <td>5</td>\n",
       "      <td>0</td>\n",
       "      <td>3.4</td>\n",
       "      <td>2.6</td>\n",
       "      <td>0.3</td>\n",
       "      <td>2.9</td>\n",
       "      <td>36.0</td>\n",
       "      <td>137.0</td>\n",
       "      <td>9.0</td>\n",
       "      <td>0.13</td>\n",
       "      <td>0.00</td>\n",
       "      <td>0.13</td>\n",
       "      <td>0.10</td>\n",
       "      <td>0.10</td>\n",
       "      <td>0.11</td>\n",
       "      <td>0.01</td>\n",
       "      <td>0.12</td>\n",
       "      <td>0.09</td>\n",
       "      <td>0.09</td>\n",
       "    </tr>\n",
       "  </tbody>\n",
       "</table>\n",
       "</div>"
      ],
      "text/plain": [
       "   Rk             Player   Nation    Pos           Squad                Comp  \\\n",
       "0   1         Max Aarons  eng ENG     DF     Bournemouth  eng Premier League   \n",
       "1   2   Brenden Aaronson   us USA  MF,FW    Union Berlin       de Bundesliga   \n",
       "2   3    Paxten Aaronson   us USA     MF  Eint Frankfurt       de Bundesliga   \n",
       "3   4  Keyliane Abdallah   fr FRA     FW       Marseille          fr Ligue 1   \n",
       "4   5   Yunis Abdelhamid   ma MAR     DF           Reims          fr Ligue 1   \n",
       "\n",
       "    Age    Born  MP  Starts   Min   90s  Gls  Ast  G+A  G-PK  PK  PKatt  CrdY  \\\n",
       "0  23.0  2000.0  20      13  1237  13.7    0    1    1     0   0      0     1   \n",
       "1  22.0  2000.0  30      14  1267  14.1    2    2    4     2   0      0     3   \n",
       "2  19.0  2003.0   7       1   101   1.1    0    1    1     0   0      0     0   \n",
       "3  17.0  2006.0   1       0     4   0.0    0    0    0     0   0      0     0   \n",
       "4  35.0  1987.0  31      31  2781  30.9    4    0    4     3   1      1     5   \n",
       "\n",
       "   CrdR   xG  npxG  xAG  npxG+xAG  PrgC   PrgP  PrgR  Gls_90  Ast_90  G+A_90  \\\n",
       "0     0  0.0   0.0  0.8       0.9  22.0   43.0  26.0    0.00    0.07    0.07   \n",
       "1     1  2.0   2.0  1.9       3.8  37.0   56.0  91.0    0.14    0.14    0.28   \n",
       "2     0  0.1   0.1  0.1       0.2   2.0    5.0   7.0    0.00    0.89    0.89   \n",
       "3     0  0.0   0.0  0.0       0.0   0.0    0.0   0.0    0.00    0.00    0.00   \n",
       "4     0  3.4   2.6  0.3       2.9  36.0  137.0   9.0    0.13    0.00    0.13   \n",
       "\n",
       "   G-PK_90  G+A-PK_90  xG_90  xAG_90  xG+xAG_90  npxG_90  npxG+xAG_90  \n",
       "0     0.00       0.07   0.00    0.06       0.06     0.00         0.06  \n",
       "1     0.14       0.28   0.14    0.13       0.27     0.14         0.27  \n",
       "2     0.00       0.89   0.11    0.07       0.19     0.11         0.19  \n",
       "3     0.00       0.00   0.00    0.00       0.00     0.00         0.00  \n",
       "4     0.10       0.10   0.11    0.01       0.12     0.09         0.09  "
      ]
     },
     "execution_count": 78,
     "metadata": {},
     "output_type": "execute_result"
    }
   ],
   "source": [
    "data_players.head()"
   ]
  },
  {
   "cell_type": "code",
   "execution_count": null,
   "id": "053091cf-1392-482d-8c33-552648914c19",
   "metadata": {},
   "outputs": [],
   "source": [
    "# Посмотрим, есть ли NaN значения"
   ]
  },
  {
   "cell_type": "code",
   "execution_count": 79,
   "id": "b7a5d57f-f8d4-46a7-bd97-a0bca3bdd752",
   "metadata": {},
   "outputs": [
    {
     "name": "stdout",
     "output_type": "stream",
     "text": [
      "<class 'pandas.core.frame.DataFrame'>\n",
      "RangeIndex: 2852 entries, 0 to 2851\n",
      "Data columns (total 37 columns):\n",
      " #   Column       Non-Null Count  Dtype  \n",
      "---  ------       --------------  -----  \n",
      " 0   Rk           2852 non-null   int64  \n",
      " 1   Player       2852 non-null   object \n",
      " 2   Nation       2849 non-null   object \n",
      " 3   Pos          2852 non-null   object \n",
      " 4   Squad        2852 non-null   object \n",
      " 5   Comp         2852 non-null   object \n",
      " 6   Age          2848 non-null   float64\n",
      " 7   Born         2848 non-null   float64\n",
      " 8   MP           2852 non-null   int64  \n",
      " 9   Starts       2852 non-null   int64  \n",
      " 10  Min          2852 non-null   int64  \n",
      " 11  90s          2852 non-null   float64\n",
      " 12  Gls          2852 non-null   int64  \n",
      " 13  Ast          2852 non-null   int64  \n",
      " 14  G+A          2852 non-null   int64  \n",
      " 15  G-PK         2852 non-null   int64  \n",
      " 16  PK           2852 non-null   int64  \n",
      " 17  PKatt        2852 non-null   int64  \n",
      " 18  CrdY         2852 non-null   int64  \n",
      " 19  CrdR         2852 non-null   int64  \n",
      " 20  xG           2851 non-null   float64\n",
      " 21  npxG         2851 non-null   float64\n",
      " 22  xAG          2851 non-null   float64\n",
      " 23  npxG+xAG     2851 non-null   float64\n",
      " 24  PrgC         2851 non-null   float64\n",
      " 25  PrgP         2851 non-null   float64\n",
      " 26  PrgR         2851 non-null   float64\n",
      " 27  Gls_90       2852 non-null   float64\n",
      " 28  Ast_90       2852 non-null   float64\n",
      " 29  G+A_90       2852 non-null   float64\n",
      " 30  G-PK_90      2852 non-null   float64\n",
      " 31  G+A-PK_90    2852 non-null   float64\n",
      " 32  xG_90        2851 non-null   float64\n",
      " 33  xAG_90       2851 non-null   float64\n",
      " 34  xG+xAG_90    2851 non-null   float64\n",
      " 35  npxG_90      2851 non-null   float64\n",
      " 36  npxG+xAG_90  2851 non-null   float64\n",
      "dtypes: float64(20), int64(12), object(5)\n",
      "memory usage: 824.5+ KB\n"
     ]
    }
   ],
   "source": [
    "data_players.info()"
   ]
  },
  {
   "cell_type": "code",
   "execution_count": null,
   "id": "b3babb1c-5ec7-4602-8a05-4b1b5c100e8c",
   "metadata": {},
   "outputs": [],
   "source": [
    "# Оказывается, что есть, но их немного, мы вполне можем обработать их точечно"
   ]
  },
  {
   "cell_type": "code",
   "execution_count": 80,
   "id": "d0b5db0e-535f-4709-a88e-9362ab60e185",
   "metadata": {},
   "outputs": [
    {
     "name": "stdout",
     "output_type": "stream",
     "text": [
      "        Rk              Player  Nation    Pos        Squad           Comp  \\\n",
      "1395  1396   Mahmut Kücüksahin     NaN     MF     Augsburg  de Bundesliga   \n",
      "1638  1639  Tommaso Martinelli  it ITA     GK   Fiorentina     it Serie A   \n",
      "1784  1785       Max Moerstedt  de GER  DF,FW   Hoffenheim  de Bundesliga   \n",
      "2074  2075    Marco Pellegrino     NaN     DF  Salernitana     it Serie A   \n",
      "2075  2076    Marco Pellegrino     NaN     DF        Milan     it Serie A   \n",
      "2529  2530        Max Svensson  es ESP     FW      Osasuna     es La Liga   \n",
      "\n",
      "       Age    Born  MP  Starts  Min  90s  Gls  Ast  G+A  G-PK  PK  PKatt  \\\n",
      "1395  19.0  2004.0   1       0    1  0.0    0    0    0     0   0      0   \n",
      "1638  17.0  2006.0   1       1   90  1.0    0    0    0     0   0      0   \n",
      "1784   NaN     NaN   1       0   12  0.1    0    0    0     0   0      0   \n",
      "2074   NaN     NaN  10       5  545  6.1    0    0    0     0   0      0   \n",
      "2075   NaN     NaN   1       0   68  0.8    0    0    0     0   0      0   \n",
      "2529   NaN     NaN   1       0    3  0.0    0    0    0     0   0      0   \n",
      "\n",
      "      CrdY  CrdR   xG  npxG  xAG  npxG+xAG  PrgC  PrgP  PrgR  Gls_90  Ast_90  \\\n",
      "1395     0     0  0.0   0.0  0.0       0.0   0.0   0.0   0.0     0.0     0.0   \n",
      "1638     0     0  NaN   NaN  NaN       NaN   NaN   NaN   NaN     0.0     0.0   \n",
      "1784     0     0  0.0   0.0  0.0       0.0   0.0   0.0   1.0     0.0     0.0   \n",
      "2074     1     0  0.0   0.0  0.0       0.1   0.0   7.0   1.0     0.0     0.0   \n",
      "2075     0     0  0.0   0.0  0.0       0.0   1.0   3.0   0.0     0.0     0.0   \n",
      "2529     0     0  0.0   0.0  0.0       0.0   0.0   0.0   0.0     0.0     0.0   \n",
      "\n",
      "      G+A_90  G-PK_90  G+A-PK_90  xG_90  xAG_90  xG+xAG_90  npxG_90  \\\n",
      "1395     0.0      0.0        0.0   0.00    0.00       0.00     0.00   \n",
      "1638     0.0      0.0        0.0    NaN     NaN        NaN      NaN   \n",
      "1784     0.0      0.0        0.0   0.00    0.00       0.00     0.00   \n",
      "2074     0.0      0.0        0.0   0.01    0.01       0.01     0.01   \n",
      "2075     0.0      0.0        0.0   0.03    0.00       0.03     0.03   \n",
      "2529     0.0      0.0        0.0   0.00    0.00       0.00     0.00   \n",
      "\n",
      "      npxG+xAG_90  \n",
      "1395         0.00  \n",
      "1638          NaN  \n",
      "1784         0.00  \n",
      "2074         0.01  \n",
      "2075         0.03  \n",
      "2529         0.00  \n"
     ]
    }
   ],
   "source": [
    "print(data_players[((data_players['Nation'].isna()) | (data_players['Age'].isna()) | (data_players['Born'].isna())  | (data_players['xG'].isna()))])"
   ]
  },
  {
   "cell_type": "code",
   "execution_count": null,
   "id": "eb0e8dd1-e25f-407d-a312-ab817260a29c",
   "metadata": {},
   "outputs": [],
   "source": [
    "# По информации из интернета: Mahmut Kücüksahin - турок (tr TUR), Marco Pellegrino - аргентинец (ar ARG), 2002 года рождения (22 года), Max Moerstedt -\n",
    "# 2006 года рождения (19 лет), Max Svensson - 2001 года рождения (23 года), а вот у Tommaso Martinelli - очень много пропущенных значений и информации о\n",
    "# нём нет (ему только 19) и сыграл он только 1 матч, поэтому справедливо заменить эти значения на нули"
   ]
  },
  {
   "cell_type": "code",
   "execution_count": 81,
   "id": "8b34f00d-60ac-4340-83c4-a824cdd6a4e8",
   "metadata": {},
   "outputs": [],
   "source": [
    "data_players.loc[data_players['Rk'] == 1396, 'Nation'] = 'tr TUR'\n",
    "data_players.loc[(data_players['Rk'] == 2075) | (data_players['Rk'] == 2076), 'Nation'] = 'ar ARG'\n",
    "data_players.loc[data_players['Rk'] == 1785, ['Age', 'Born']] = [22, 2002]\n",
    "data_players.loc[data_players['Rk'] == 2075, ['Age', 'Born']] = [19, 2006]\n",
    "data_players.loc[data_players['Rk'] == 2076, ['Age', 'Born']] = [19, 2006]\n",
    "data_players.loc[data_players['Rk'] == 2530, ['Age', 'Born']] = [23, 2001]"
   ]
  },
  {
   "cell_type": "code",
   "execution_count": 82,
   "id": "9a064089-c151-4d19-b333-84f675566d80",
   "metadata": {},
   "outputs": [],
   "source": [
    "data_players.fillna(value=0, inplace=True)"
   ]
  },
  {
   "cell_type": "code",
   "execution_count": null,
   "id": "0d14be9f-bdad-47c2-8d65-d8b6040f4f81",
   "metadata": {},
   "outputs": [],
   "source": [
    "# Проверим:"
   ]
  },
  {
   "cell_type": "code",
   "execution_count": 83,
   "id": "0db2c975-ed7f-473b-90b6-75e5c0aa1d13",
   "metadata": {},
   "outputs": [
    {
     "name": "stdout",
     "output_type": "stream",
     "text": [
      "<class 'pandas.core.frame.DataFrame'>\n",
      "RangeIndex: 2852 entries, 0 to 2851\n",
      "Data columns (total 37 columns):\n",
      " #   Column       Non-Null Count  Dtype  \n",
      "---  ------       --------------  -----  \n",
      " 0   Rk           2852 non-null   int64  \n",
      " 1   Player       2852 non-null   object \n",
      " 2   Nation       2852 non-null   object \n",
      " 3   Pos          2852 non-null   object \n",
      " 4   Squad        2852 non-null   object \n",
      " 5   Comp         2852 non-null   object \n",
      " 6   Age          2852 non-null   float64\n",
      " 7   Born         2852 non-null   float64\n",
      " 8   MP           2852 non-null   int64  \n",
      " 9   Starts       2852 non-null   int64  \n",
      " 10  Min          2852 non-null   int64  \n",
      " 11  90s          2852 non-null   float64\n",
      " 12  Gls          2852 non-null   int64  \n",
      " 13  Ast          2852 non-null   int64  \n",
      " 14  G+A          2852 non-null   int64  \n",
      " 15  G-PK         2852 non-null   int64  \n",
      " 16  PK           2852 non-null   int64  \n",
      " 17  PKatt        2852 non-null   int64  \n",
      " 18  CrdY         2852 non-null   int64  \n",
      " 19  CrdR         2852 non-null   int64  \n",
      " 20  xG           2852 non-null   float64\n",
      " 21  npxG         2852 non-null   float64\n",
      " 22  xAG          2852 non-null   float64\n",
      " 23  npxG+xAG     2852 non-null   float64\n",
      " 24  PrgC         2852 non-null   float64\n",
      " 25  PrgP         2852 non-null   float64\n",
      " 26  PrgR         2852 non-null   float64\n",
      " 27  Gls_90       2852 non-null   float64\n",
      " 28  Ast_90       2852 non-null   float64\n",
      " 29  G+A_90       2852 non-null   float64\n",
      " 30  G-PK_90      2852 non-null   float64\n",
      " 31  G+A-PK_90    2852 non-null   float64\n",
      " 32  xG_90        2852 non-null   float64\n",
      " 33  xAG_90       2852 non-null   float64\n",
      " 34  xG+xAG_90    2852 non-null   float64\n",
      " 35  npxG_90      2852 non-null   float64\n",
      " 36  npxG+xAG_90  2852 non-null   float64\n",
      "dtypes: float64(20), int64(12), object(5)\n",
      "memory usage: 824.5+ KB\n"
     ]
    }
   ],
   "source": [
    "data_players.info()"
   ]
  },
  {
   "cell_type": "code",
   "execution_count": null,
   "id": "d17bc43f-2c9d-40ec-b79e-ed4e569b0d6b",
   "metadata": {},
   "outputs": [],
   "source": [
    "# Перейдём ко второму датасету"
   ]
  },
  {
   "cell_type": "code",
   "execution_count": 84,
   "id": "721984fa-8f29-4b7d-a305-cd97835e9760",
   "metadata": {},
   "outputs": [],
   "source": [
    "data_teams = pd.read_csv(\"C:/Users/artsa/Downloads/Team_result.csv\")"
   ]
  },
  {
   "cell_type": "code",
   "execution_count": 85,
   "id": "7a22c4a4-9ca1-4ff8-9565-637a2af28d5d",
   "metadata": {},
   "outputs": [
    {
     "data": {
      "text/html": [
       "<div>\n",
       "<style scoped>\n",
       "    .dataframe tbody tr th:only-of-type {\n",
       "        vertical-align: middle;\n",
       "    }\n",
       "\n",
       "    .dataframe tbody tr th {\n",
       "        vertical-align: top;\n",
       "    }\n",
       "\n",
       "    .dataframe thead th {\n",
       "        text-align: right;\n",
       "    }\n",
       "</style>\n",
       "<table border=\"1\" class=\"dataframe\">\n",
       "  <thead>\n",
       "    <tr style=\"text-align: right;\">\n",
       "      <th></th>\n",
       "      <th>id</th>\n",
       "      <th>League</th>\n",
       "      <th>Team</th>\n",
       "      <th>Team_Rus</th>\n",
       "      <th>Plays</th>\n",
       "      <th>Wins</th>\n",
       "      <th>Draws</th>\n",
       "      <th>Falls</th>\n",
       "      <th>Goals</th>\n",
       "      <th>Miss goals</th>\n",
       "      <th>Different</th>\n",
       "      <th>Score</th>\n",
       "      <th>Rank</th>\n",
       "    </tr>\n",
       "  </thead>\n",
       "  <tbody>\n",
       "    <tr>\n",
       "      <th>0</th>\n",
       "      <td>1</td>\n",
       "      <td>eng Premier League</td>\n",
       "      <td>Manchester City</td>\n",
       "      <td>Манчестер Сити</td>\n",
       "      <td>38</td>\n",
       "      <td>28</td>\n",
       "      <td>7</td>\n",
       "      <td>3</td>\n",
       "      <td>96</td>\n",
       "      <td>34</td>\n",
       "      <td>62</td>\n",
       "      <td>91</td>\n",
       "      <td>1</td>\n",
       "    </tr>\n",
       "    <tr>\n",
       "      <th>1</th>\n",
       "      <td>2</td>\n",
       "      <td>eng Premier League</td>\n",
       "      <td>Arsenal</td>\n",
       "      <td>Арсенал</td>\n",
       "      <td>38</td>\n",
       "      <td>28</td>\n",
       "      <td>5</td>\n",
       "      <td>5</td>\n",
       "      <td>91</td>\n",
       "      <td>29</td>\n",
       "      <td>62</td>\n",
       "      <td>89</td>\n",
       "      <td>2</td>\n",
       "    </tr>\n",
       "    <tr>\n",
       "      <th>2</th>\n",
       "      <td>3</td>\n",
       "      <td>eng Premier League</td>\n",
       "      <td>Liverpool</td>\n",
       "      <td>Ливерпуль</td>\n",
       "      <td>38</td>\n",
       "      <td>24</td>\n",
       "      <td>10</td>\n",
       "      <td>4</td>\n",
       "      <td>86</td>\n",
       "      <td>41</td>\n",
       "      <td>45</td>\n",
       "      <td>82</td>\n",
       "      <td>3</td>\n",
       "    </tr>\n",
       "    <tr>\n",
       "      <th>3</th>\n",
       "      <td>4</td>\n",
       "      <td>eng Premier League</td>\n",
       "      <td>Aston Villa</td>\n",
       "      <td>Астон Вилла</td>\n",
       "      <td>38</td>\n",
       "      <td>20</td>\n",
       "      <td>8</td>\n",
       "      <td>10</td>\n",
       "      <td>76</td>\n",
       "      <td>61</td>\n",
       "      <td>15</td>\n",
       "      <td>68</td>\n",
       "      <td>4</td>\n",
       "    </tr>\n",
       "    <tr>\n",
       "      <th>4</th>\n",
       "      <td>5</td>\n",
       "      <td>eng Premier League</td>\n",
       "      <td>Tottenham</td>\n",
       "      <td>Тоттенхэм Хотспур</td>\n",
       "      <td>38</td>\n",
       "      <td>20</td>\n",
       "      <td>6</td>\n",
       "      <td>12</td>\n",
       "      <td>74</td>\n",
       "      <td>61</td>\n",
       "      <td>13</td>\n",
       "      <td>66</td>\n",
       "      <td>5</td>\n",
       "    </tr>\n",
       "  </tbody>\n",
       "</table>\n",
       "</div>"
      ],
      "text/plain": [
       "   id              League             Team           Team_Rus  Plays  Wins  \\\n",
       "0   1  eng Premier League  Manchester City     Манчестер Сити     38    28   \n",
       "1   2  eng Premier League          Arsenal            Арсенал     38    28   \n",
       "2   3  eng Premier League        Liverpool          Ливерпуль     38    24   \n",
       "3   4  eng Premier League      Aston Villa        Астон Вилла     38    20   \n",
       "4   5  eng Premier League        Tottenham  Тоттенхэм Хотспур     38    20   \n",
       "\n",
       "   Draws  Falls  Goals  Miss goals Different  Score  Rank  \n",
       "0      7      3     96          34        62     91     1  \n",
       "1      5      5     91          29        62     89     2  \n",
       "2     10      4     86          41        45     82     3  \n",
       "3      8     10     76          61        15     68     4  \n",
       "4      6     12     74          61        13     66     5  "
      ]
     },
     "execution_count": 85,
     "metadata": {},
     "output_type": "execute_result"
    }
   ],
   "source": [
    "data_teams.head()"
   ]
  },
  {
   "cell_type": "code",
   "execution_count": null,
   "id": "6da2113a-eaac-41bf-ad47-733a29c94957",
   "metadata": {},
   "outputs": [],
   "source": [
    "# Гипотеза 1: чем больше игроков команды выступили лучше ожидаемого, тем выше эта команда в таблице лидеров\n",
    "# Предлагается сравнить показатели Gls (фактически забитые мячи) и xG (метрика, которая показывает, сколько голов ожидалось от игрока)\n",
    "# P.S xG учитывает созданные игроками опасные моменты, удары по воротам и тд, это некое мат.ожидание от игрока"
   ]
  },
  {
   "cell_type": "code",
   "execution_count": null,
   "id": "c4aa6589-3452-4e36-9d58-aa882db11c4c",
   "metadata": {},
   "outputs": [],
   "source": [
    "# Чтобы учитывать ещё и ассисты, будем сравнивать сумму Gls+A-PK с npxG+xAG, то есть сумму ожидаемых голов и ассистов без учёта пенальти\n",
    "# Добавим столбец is_better, который будет принимать значение True, если Gls-PK+A > npxG+xAG и false если нет"
   ]
  },
  {
   "cell_type": "code",
   "execution_count": 86,
   "id": "b7e7362b-3d5b-475e-aa33-0639d9f0713e",
   "metadata": {},
   "outputs": [],
   "source": [
    "data_players['is_better'] = data_players['G+A'] - data_players['PK'] > data_players['npxG+xAG']"
   ]
  },
  {
   "cell_type": "code",
   "execution_count": null,
   "id": "25a05f37-e653-454a-a01e-ed98210e8a91",
   "metadata": {},
   "outputs": [],
   "source": [
    "# Добавим в таблицу data_team столбец, в котором будет храниться количество проявивших себя игроков на количество человек в команде\n",
    "# (получится некая вероятность для игрока сыграть лучше ожиданий)"
   ]
  },
  {
   "cell_type": "code",
   "execution_count": 87,
   "id": "4bfa139d-dee2-42dc-925b-b4dba9e77095",
   "metadata": {},
   "outputs": [],
   "source": [
    "data_players.rename(columns={'Squad':'Team'}, inplace=True)"
   ]
  },
  {
   "cell_type": "code",
   "execution_count": 88,
   "id": "9e499d8f-ee5f-46a8-a805-43d69b81d2c5",
   "metadata": {},
   "outputs": [],
   "source": [
    "best_players_per_team = data_players[data_players['is_better'] == True].groupby('Team').size()\n",
    "total_players_per_team = data_players[data_players['Pos'] != \"GK\"].groupby('Team').size()\n",
    "ratio_best_to_total = best_players_per_team.divide(total_players_per_team).reset_index(name='p_better')\n",
    "data_teams = data_teams.merge(ratio_best_to_total, how='left', on='Team')"
   ]
  },
  {
   "cell_type": "code",
   "execution_count": 89,
   "id": "e0b623df-4ab1-49d9-97bf-61c3df57db7c",
   "metadata": {},
   "outputs": [
    {
     "data": {
      "text/html": [
       "<div>\n",
       "<style scoped>\n",
       "    .dataframe tbody tr th:only-of-type {\n",
       "        vertical-align: middle;\n",
       "    }\n",
       "\n",
       "    .dataframe tbody tr th {\n",
       "        vertical-align: top;\n",
       "    }\n",
       "\n",
       "    .dataframe thead th {\n",
       "        text-align: right;\n",
       "    }\n",
       "</style>\n",
       "<table border=\"1\" class=\"dataframe\">\n",
       "  <thead>\n",
       "    <tr style=\"text-align: right;\">\n",
       "      <th></th>\n",
       "      <th>id</th>\n",
       "      <th>League</th>\n",
       "      <th>Team</th>\n",
       "      <th>Team_Rus</th>\n",
       "      <th>Plays</th>\n",
       "      <th>Wins</th>\n",
       "      <th>Draws</th>\n",
       "      <th>Falls</th>\n",
       "      <th>Goals</th>\n",
       "      <th>Miss goals</th>\n",
       "      <th>Different</th>\n",
       "      <th>Score</th>\n",
       "      <th>Rank</th>\n",
       "      <th>p_better</th>\n",
       "    </tr>\n",
       "  </thead>\n",
       "  <tbody>\n",
       "    <tr>\n",
       "      <th>0</th>\n",
       "      <td>1</td>\n",
       "      <td>eng Premier League</td>\n",
       "      <td>Manchester City</td>\n",
       "      <td>Манчестер Сити</td>\n",
       "      <td>38</td>\n",
       "      <td>28</td>\n",
       "      <td>7</td>\n",
       "      <td>3</td>\n",
       "      <td>96</td>\n",
       "      <td>34</td>\n",
       "      <td>62</td>\n",
       "      <td>91</td>\n",
       "      <td>1</td>\n",
       "      <td>0.391304</td>\n",
       "    </tr>\n",
       "    <tr>\n",
       "      <th>1</th>\n",
       "      <td>2</td>\n",
       "      <td>eng Premier League</td>\n",
       "      <td>Arsenal</td>\n",
       "      <td>Арсенал</td>\n",
       "      <td>38</td>\n",
       "      <td>28</td>\n",
       "      <td>5</td>\n",
       "      <td>5</td>\n",
       "      <td>91</td>\n",
       "      <td>29</td>\n",
       "      <td>62</td>\n",
       "      <td>89</td>\n",
       "      <td>2</td>\n",
       "      <td>0.434783</td>\n",
       "    </tr>\n",
       "    <tr>\n",
       "      <th>2</th>\n",
       "      <td>3</td>\n",
       "      <td>eng Premier League</td>\n",
       "      <td>Liverpool</td>\n",
       "      <td>Ливерпуль</td>\n",
       "      <td>38</td>\n",
       "      <td>24</td>\n",
       "      <td>10</td>\n",
       "      <td>4</td>\n",
       "      <td>86</td>\n",
       "      <td>41</td>\n",
       "      <td>45</td>\n",
       "      <td>82</td>\n",
       "      <td>3</td>\n",
       "      <td>0.250000</td>\n",
       "    </tr>\n",
       "    <tr>\n",
       "      <th>3</th>\n",
       "      <td>4</td>\n",
       "      <td>eng Premier League</td>\n",
       "      <td>Aston Villa</td>\n",
       "      <td>Астон Вилла</td>\n",
       "      <td>38</td>\n",
       "      <td>20</td>\n",
       "      <td>8</td>\n",
       "      <td>10</td>\n",
       "      <td>76</td>\n",
       "      <td>61</td>\n",
       "      <td>15</td>\n",
       "      <td>68</td>\n",
       "      <td>4</td>\n",
       "      <td>0.379310</td>\n",
       "    </tr>\n",
       "    <tr>\n",
       "      <th>4</th>\n",
       "      <td>5</td>\n",
       "      <td>eng Premier League</td>\n",
       "      <td>Tottenham</td>\n",
       "      <td>Тоттенхэм Хотспур</td>\n",
       "      <td>38</td>\n",
       "      <td>20</td>\n",
       "      <td>6</td>\n",
       "      <td>12</td>\n",
       "      <td>74</td>\n",
       "      <td>61</td>\n",
       "      <td>13</td>\n",
       "      <td>66</td>\n",
       "      <td>5</td>\n",
       "      <td>0.392857</td>\n",
       "    </tr>\n",
       "  </tbody>\n",
       "</table>\n",
       "</div>"
      ],
      "text/plain": [
       "   id              League             Team           Team_Rus  Plays  Wins  \\\n",
       "0   1  eng Premier League  Manchester City     Манчестер Сити     38    28   \n",
       "1   2  eng Premier League          Arsenal            Арсенал     38    28   \n",
       "2   3  eng Premier League        Liverpool          Ливерпуль     38    24   \n",
       "3   4  eng Premier League      Aston Villa        Астон Вилла     38    20   \n",
       "4   5  eng Premier League        Tottenham  Тоттенхэм Хотспур     38    20   \n",
       "\n",
       "   Draws  Falls  Goals  Miss goals Different  Score  Rank  p_better  \n",
       "0      7      3     96          34        62     91     1  0.391304  \n",
       "1      5      5     91          29        62     89     2  0.434783  \n",
       "2     10      4     86          41        45     82     3  0.250000  \n",
       "3      8     10     76          61        15     68     4  0.379310  \n",
       "4      6     12     74          61        13     66     5  0.392857  "
      ]
     },
     "execution_count": 89,
     "metadata": {},
     "output_type": "execute_result"
    }
   ],
   "source": [
    "data_teams.head()"
   ]
  },
  {
   "cell_type": "code",
   "execution_count": null,
   "id": "6bd27169-0038-4e9d-831d-de393dabd553",
   "metadata": {},
   "outputs": [],
   "source": [
    "# Построим график"
   ]
  },
  {
   "cell_type": "code",
   "execution_count": 90,
   "id": "0ebad7cc-2626-4365-80b2-9a24e088c3da",
   "metadata": {},
   "outputs": [
    {
     "data": {
      "application/vnd.plotly.v1+json": {
       "config": {
        "plotlyServerURL": "https://plot.ly"
       },
       "data": [
        {
         "marker": {
          "color": "lightseagreen"
         },
         "name": "Средняя доля лучших игроков",
         "type": "bar",
         "x": [
          1,
          2,
          3,
          4,
          5,
          6,
          7,
          8,
          9,
          10,
          11,
          12,
          13,
          14,
          15,
          16,
          17,
          18,
          19,
          20
         ],
         "y": [
          0.529892571196919,
          0.4440553440637592,
          0.3819990798251668,
          0.41432360742705565,
          0.34298168498168496,
          0.41888397522018206,
          0.3384741379310345,
          0.39150708311998633,
          0.3293956043956044,
          0.2839385252428731,
          0.3924707287933094,
          0.3315069925748457,
          0.3188640973630832,
          0.26875,
          0.32572294372294375,
          0.3747889791368052,
          0.2259067131647777,
          0.28123010610079574,
          0.2739121510673235,
          0.23484848484848486
         ]
        },
        {
         "line": {
          "color": "firebrick"
         },
         "mode": "lines+markers",
         "name": "Линия тренда",
         "type": "scatter",
         "x": [
          1,
          2,
          3,
          4,
          5,
          6,
          7,
          8,
          9,
          10,
          11,
          12,
          13,
          14,
          15,
          16,
          17,
          18,
          19,
          20
         ],
         "y": [
          0.442917017128955,
          0.4326281353794683,
          0.4223392536299817,
          0.41205037188049504,
          0.40176149013100837,
          0.3914726083815217,
          0.38118372663203504,
          0.3708948448825484,
          0.36060596313306176,
          0.3503170813835751,
          0.3400281996340884,
          0.32973931788460176,
          0.31945043613511515,
          0.3091615543856284,
          0.2988726726361418,
          0.28858379088665514,
          0.2782949091371685,
          0.26800602738768187,
          0.25771714563819514,
          0.24742826388870853
         ]
        }
       ],
       "layout": {
        "font": {
         "color": "#7f7f7f",
         "family": "Arial",
         "size": 12
        },
        "height": 360,
        "showlegend": true,
        "template": {
         "data": {
          "bar": [
           {
            "error_x": {
             "color": "#2a3f5f"
            },
            "error_y": {
             "color": "#2a3f5f"
            },
            "marker": {
             "line": {
              "color": "#E5ECF6",
              "width": 0.5
             },
             "pattern": {
              "fillmode": "overlay",
              "size": 10,
              "solidity": 0.2
             }
            },
            "type": "bar"
           }
          ],
          "barpolar": [
           {
            "marker": {
             "line": {
              "color": "#E5ECF6",
              "width": 0.5
             },
             "pattern": {
              "fillmode": "overlay",
              "size": 10,
              "solidity": 0.2
             }
            },
            "type": "barpolar"
           }
          ],
          "carpet": [
           {
            "aaxis": {
             "endlinecolor": "#2a3f5f",
             "gridcolor": "white",
             "linecolor": "white",
             "minorgridcolor": "white",
             "startlinecolor": "#2a3f5f"
            },
            "baxis": {
             "endlinecolor": "#2a3f5f",
             "gridcolor": "white",
             "linecolor": "white",
             "minorgridcolor": "white",
             "startlinecolor": "#2a3f5f"
            },
            "type": "carpet"
           }
          ],
          "choropleth": [
           {
            "colorbar": {
             "outlinewidth": 0,
             "ticks": ""
            },
            "type": "choropleth"
           }
          ],
          "contour": [
           {
            "colorbar": {
             "outlinewidth": 0,
             "ticks": ""
            },
            "colorscale": [
             [
              0,
              "#0d0887"
             ],
             [
              0.1111111111111111,
              "#46039f"
             ],
             [
              0.2222222222222222,
              "#7201a8"
             ],
             [
              0.3333333333333333,
              "#9c179e"
             ],
             [
              0.4444444444444444,
              "#bd3786"
             ],
             [
              0.5555555555555556,
              "#d8576b"
             ],
             [
              0.6666666666666666,
              "#ed7953"
             ],
             [
              0.7777777777777778,
              "#fb9f3a"
             ],
             [
              0.8888888888888888,
              "#fdca26"
             ],
             [
              1,
              "#f0f921"
             ]
            ],
            "type": "contour"
           }
          ],
          "contourcarpet": [
           {
            "colorbar": {
             "outlinewidth": 0,
             "ticks": ""
            },
            "type": "contourcarpet"
           }
          ],
          "heatmap": [
           {
            "colorbar": {
             "outlinewidth": 0,
             "ticks": ""
            },
            "colorscale": [
             [
              0,
              "#0d0887"
             ],
             [
              0.1111111111111111,
              "#46039f"
             ],
             [
              0.2222222222222222,
              "#7201a8"
             ],
             [
              0.3333333333333333,
              "#9c179e"
             ],
             [
              0.4444444444444444,
              "#bd3786"
             ],
             [
              0.5555555555555556,
              "#d8576b"
             ],
             [
              0.6666666666666666,
              "#ed7953"
             ],
             [
              0.7777777777777778,
              "#fb9f3a"
             ],
             [
              0.8888888888888888,
              "#fdca26"
             ],
             [
              1,
              "#f0f921"
             ]
            ],
            "type": "heatmap"
           }
          ],
          "heatmapgl": [
           {
            "colorbar": {
             "outlinewidth": 0,
             "ticks": ""
            },
            "colorscale": [
             [
              0,
              "#0d0887"
             ],
             [
              0.1111111111111111,
              "#46039f"
             ],
             [
              0.2222222222222222,
              "#7201a8"
             ],
             [
              0.3333333333333333,
              "#9c179e"
             ],
             [
              0.4444444444444444,
              "#bd3786"
             ],
             [
              0.5555555555555556,
              "#d8576b"
             ],
             [
              0.6666666666666666,
              "#ed7953"
             ],
             [
              0.7777777777777778,
              "#fb9f3a"
             ],
             [
              0.8888888888888888,
              "#fdca26"
             ],
             [
              1,
              "#f0f921"
             ]
            ],
            "type": "heatmapgl"
           }
          ],
          "histogram": [
           {
            "marker": {
             "pattern": {
              "fillmode": "overlay",
              "size": 10,
              "solidity": 0.2
             }
            },
            "type": "histogram"
           }
          ],
          "histogram2d": [
           {
            "colorbar": {
             "outlinewidth": 0,
             "ticks": ""
            },
            "colorscale": [
             [
              0,
              "#0d0887"
             ],
             [
              0.1111111111111111,
              "#46039f"
             ],
             [
              0.2222222222222222,
              "#7201a8"
             ],
             [
              0.3333333333333333,
              "#9c179e"
             ],
             [
              0.4444444444444444,
              "#bd3786"
             ],
             [
              0.5555555555555556,
              "#d8576b"
             ],
             [
              0.6666666666666666,
              "#ed7953"
             ],
             [
              0.7777777777777778,
              "#fb9f3a"
             ],
             [
              0.8888888888888888,
              "#fdca26"
             ],
             [
              1,
              "#f0f921"
             ]
            ],
            "type": "histogram2d"
           }
          ],
          "histogram2dcontour": [
           {
            "colorbar": {
             "outlinewidth": 0,
             "ticks": ""
            },
            "colorscale": [
             [
              0,
              "#0d0887"
             ],
             [
              0.1111111111111111,
              "#46039f"
             ],
             [
              0.2222222222222222,
              "#7201a8"
             ],
             [
              0.3333333333333333,
              "#9c179e"
             ],
             [
              0.4444444444444444,
              "#bd3786"
             ],
             [
              0.5555555555555556,
              "#d8576b"
             ],
             [
              0.6666666666666666,
              "#ed7953"
             ],
             [
              0.7777777777777778,
              "#fb9f3a"
             ],
             [
              0.8888888888888888,
              "#fdca26"
             ],
             [
              1,
              "#f0f921"
             ]
            ],
            "type": "histogram2dcontour"
           }
          ],
          "mesh3d": [
           {
            "colorbar": {
             "outlinewidth": 0,
             "ticks": ""
            },
            "type": "mesh3d"
           }
          ],
          "parcoords": [
           {
            "line": {
             "colorbar": {
              "outlinewidth": 0,
              "ticks": ""
             }
            },
            "type": "parcoords"
           }
          ],
          "pie": [
           {
            "automargin": true,
            "type": "pie"
           }
          ],
          "scatter": [
           {
            "fillpattern": {
             "fillmode": "overlay",
             "size": 10,
             "solidity": 0.2
            },
            "type": "scatter"
           }
          ],
          "scatter3d": [
           {
            "line": {
             "colorbar": {
              "outlinewidth": 0,
              "ticks": ""
             }
            },
            "marker": {
             "colorbar": {
              "outlinewidth": 0,
              "ticks": ""
             }
            },
            "type": "scatter3d"
           }
          ],
          "scattercarpet": [
           {
            "marker": {
             "colorbar": {
              "outlinewidth": 0,
              "ticks": ""
             }
            },
            "type": "scattercarpet"
           }
          ],
          "scattergeo": [
           {
            "marker": {
             "colorbar": {
              "outlinewidth": 0,
              "ticks": ""
             }
            },
            "type": "scattergeo"
           }
          ],
          "scattergl": [
           {
            "marker": {
             "colorbar": {
              "outlinewidth": 0,
              "ticks": ""
             }
            },
            "type": "scattergl"
           }
          ],
          "scattermapbox": [
           {
            "marker": {
             "colorbar": {
              "outlinewidth": 0,
              "ticks": ""
             }
            },
            "type": "scattermapbox"
           }
          ],
          "scatterpolar": [
           {
            "marker": {
             "colorbar": {
              "outlinewidth": 0,
              "ticks": ""
             }
            },
            "type": "scatterpolar"
           }
          ],
          "scatterpolargl": [
           {
            "marker": {
             "colorbar": {
              "outlinewidth": 0,
              "ticks": ""
             }
            },
            "type": "scatterpolargl"
           }
          ],
          "scatterternary": [
           {
            "marker": {
             "colorbar": {
              "outlinewidth": 0,
              "ticks": ""
             }
            },
            "type": "scatterternary"
           }
          ],
          "surface": [
           {
            "colorbar": {
             "outlinewidth": 0,
             "ticks": ""
            },
            "colorscale": [
             [
              0,
              "#0d0887"
             ],
             [
              0.1111111111111111,
              "#46039f"
             ],
             [
              0.2222222222222222,
              "#7201a8"
             ],
             [
              0.3333333333333333,
              "#9c179e"
             ],
             [
              0.4444444444444444,
              "#bd3786"
             ],
             [
              0.5555555555555556,
              "#d8576b"
             ],
             [
              0.6666666666666666,
              "#ed7953"
             ],
             [
              0.7777777777777778,
              "#fb9f3a"
             ],
             [
              0.8888888888888888,
              "#fdca26"
             ],
             [
              1,
              "#f0f921"
             ]
            ],
            "type": "surface"
           }
          ],
          "table": [
           {
            "cells": {
             "fill": {
              "color": "#EBF0F8"
             },
             "line": {
              "color": "white"
             }
            },
            "header": {
             "fill": {
              "color": "#C8D4E3"
             },
             "line": {
              "color": "white"
             }
            },
            "type": "table"
           }
          ]
         },
         "layout": {
          "annotationdefaults": {
           "arrowcolor": "#2a3f5f",
           "arrowhead": 0,
           "arrowwidth": 1
          },
          "autotypenumbers": "strict",
          "coloraxis": {
           "colorbar": {
            "outlinewidth": 0,
            "ticks": ""
           }
          },
          "colorscale": {
           "diverging": [
            [
             0,
             "#8e0152"
            ],
            [
             0.1,
             "#c51b7d"
            ],
            [
             0.2,
             "#de77ae"
            ],
            [
             0.3,
             "#f1b6da"
            ],
            [
             0.4,
             "#fde0ef"
            ],
            [
             0.5,
             "#f7f7f7"
            ],
            [
             0.6,
             "#e6f5d0"
            ],
            [
             0.7,
             "#b8e186"
            ],
            [
             0.8,
             "#7fbc41"
            ],
            [
             0.9,
             "#4d9221"
            ],
            [
             1,
             "#276419"
            ]
           ],
           "sequential": [
            [
             0,
             "#0d0887"
            ],
            [
             0.1111111111111111,
             "#46039f"
            ],
            [
             0.2222222222222222,
             "#7201a8"
            ],
            [
             0.3333333333333333,
             "#9c179e"
            ],
            [
             0.4444444444444444,
             "#bd3786"
            ],
            [
             0.5555555555555556,
             "#d8576b"
            ],
            [
             0.6666666666666666,
             "#ed7953"
            ],
            [
             0.7777777777777778,
             "#fb9f3a"
            ],
            [
             0.8888888888888888,
             "#fdca26"
            ],
            [
             1,
             "#f0f921"
            ]
           ],
           "sequentialminus": [
            [
             0,
             "#0d0887"
            ],
            [
             0.1111111111111111,
             "#46039f"
            ],
            [
             0.2222222222222222,
             "#7201a8"
            ],
            [
             0.3333333333333333,
             "#9c179e"
            ],
            [
             0.4444444444444444,
             "#bd3786"
            ],
            [
             0.5555555555555556,
             "#d8576b"
            ],
            [
             0.6666666666666666,
             "#ed7953"
            ],
            [
             0.7777777777777778,
             "#fb9f3a"
            ],
            [
             0.8888888888888888,
             "#fdca26"
            ],
            [
             1,
             "#f0f921"
            ]
           ]
          },
          "colorway": [
           "#636efa",
           "#EF553B",
           "#00cc96",
           "#ab63fa",
           "#FFA15A",
           "#19d3f3",
           "#FF6692",
           "#B6E880",
           "#FF97FF",
           "#FECB52"
          ],
          "font": {
           "color": "#2a3f5f"
          },
          "geo": {
           "bgcolor": "white",
           "lakecolor": "white",
           "landcolor": "#E5ECF6",
           "showlakes": true,
           "showland": true,
           "subunitcolor": "white"
          },
          "hoverlabel": {
           "align": "left"
          },
          "hovermode": "closest",
          "mapbox": {
           "style": "light"
          },
          "paper_bgcolor": "white",
          "plot_bgcolor": "#E5ECF6",
          "polar": {
           "angularaxis": {
            "gridcolor": "white",
            "linecolor": "white",
            "ticks": ""
           },
           "bgcolor": "#E5ECF6",
           "radialaxis": {
            "gridcolor": "white",
            "linecolor": "white",
            "ticks": ""
           }
          },
          "scene": {
           "xaxis": {
            "backgroundcolor": "#E5ECF6",
            "gridcolor": "white",
            "gridwidth": 2,
            "linecolor": "white",
            "showbackground": true,
            "ticks": "",
            "zerolinecolor": "white"
           },
           "yaxis": {
            "backgroundcolor": "#E5ECF6",
            "gridcolor": "white",
            "gridwidth": 2,
            "linecolor": "white",
            "showbackground": true,
            "ticks": "",
            "zerolinecolor": "white"
           },
           "zaxis": {
            "backgroundcolor": "#E5ECF6",
            "gridcolor": "white",
            "gridwidth": 2,
            "linecolor": "white",
            "showbackground": true,
            "ticks": "",
            "zerolinecolor": "white"
           }
          },
          "shapedefaults": {
           "line": {
            "color": "#2a3f5f"
           }
          },
          "ternary": {
           "aaxis": {
            "gridcolor": "white",
            "linecolor": "white",
            "ticks": ""
           },
           "baxis": {
            "gridcolor": "white",
            "linecolor": "white",
            "ticks": ""
           },
           "bgcolor": "#E5ECF6",
           "caxis": {
            "gridcolor": "white",
            "linecolor": "white",
            "ticks": ""
           }
          },
          "title": {
           "x": 0.05
          },
          "xaxis": {
           "automargin": true,
           "gridcolor": "white",
           "linecolor": "white",
           "ticks": "",
           "title": {
            "standoff": 15
           },
           "zerolinecolor": "white",
           "zerolinewidth": 2
          },
          "yaxis": {
           "automargin": true,
           "gridcolor": "white",
           "linecolor": "white",
           "ticks": "",
           "title": {
            "standoff": 15
           },
           "zerolinecolor": "white",
           "zerolinewidth": 2
          }
         }
        },
        "title": {
         "text": "Средняя доля лучших игроков по местам с линией тренда"
        },
        "width": 700,
        "xaxis": {
         "autorange": true,
         "range": [
          -0.28908554572271394,
          21.289085545722713
         ],
         "title": {
          "text": "Место"
         },
         "type": "linear"
        },
        "yaxis": {
         "autorange": true,
         "range": [
          0,
          0.5577816538914937
         ],
         "title": {
          "text": "Средняя доля лучших игроков"
         },
         "type": "linear"
        }
       }
      },
      "image/png": "[encoded data removed]",
      "text/html": [
       "<div>                            <div id=\"50eeba71-c4b5-4ecd-a1c9-84006d7e2cae\" class=\"plotly-graph-div\" style=\"height:525px; width:700px;\"></div>            <script type=\"text/javascript\">                require([\"plotly\"], function(Plotly) {                    window.PLOTLYENV=window.PLOTLYENV || {};                                    if (document.getElementById(\"50eeba71-c4b5-4ecd-a1c9-84006d7e2cae\")) {                    Plotly.newPlot(                        \"50eeba71-c4b5-4ecd-a1c9-84006d7e2cae\",                        [{\"marker\":{\"color\":\"lightseagreen\"},\"name\":\"\\u0421\\u0440\\u0435\\u0434\\u043d\\u044f\\u044f \\u0434\\u043e\\u043b\\u044f \\u043b\\u0443\\u0447\\u0448\\u0438\\u0445 \\u0438\\u0433\\u0440\\u043e\\u043a\\u043e\\u0432\",\"x\":[1,2,3,4,5,6,7,8,9,10,11,12,13,14,15,16,17,18,19,20],\"y\":[0.529892571196919,0.4440553440637592,0.3819990798251668,0.41432360742705565,0.34298168498168496,0.41888397522018206,0.3384741379310345,0.39150708311998633,0.3293956043956044,0.2839385252428731,0.3924707287933094,0.3315069925748457,0.3188640973630832,0.26875,0.32572294372294375,0.3747889791368052,0.2259067131647777,0.28123010610079574,0.2739121510673235,0.23484848484848486],\"type\":\"bar\"},{\"line\":{\"color\":\"firebrick\"},\"mode\":\"lines+markers\",\"name\":\"\\u041b\\u0438\\u043d\\u0438\\u044f \\u0442\\u0440\\u0435\\u043d\\u0434\\u0430\",\"x\":[1,2,3,4,5,6,7,8,9,10,11,12,13,14,15,16,17,18,19,20],\"y\":[0.442917017128955,0.4326281353794683,0.4223392536299817,0.41205037188049504,0.40176149013100837,0.3914726083815217,0.38118372663203504,0.3708948448825484,0.36060596313306176,0.3503170813835751,0.3400281996340884,0.32973931788460176,0.31945043613511515,0.3091615543856284,0.2988726726361418,0.28858379088665514,0.2782949091371685,0.26800602738768187,0.25771714563819514,0.24742826388870853],\"type\":\"scatter\"}],                        {\"template\":{\"data\":{\"histogram2dcontour\":[{\"type\":\"histogram2dcontour\",\"colorbar\":{\"outlinewidth\":0,\"ticks\":\"\"},\"colorscale\":[[0.0,\"#0d0887\"],[0.1111111111111111,\"#46039f\"],[0.2222222222222222,\"#7201a8\"],[0.3333333333333333,\"#9c179e\"],[0.4444444444444444,\"#bd3786\"],[0.5555555555555556,\"#d8576b\"],[0.6666666666666666,\"#ed7953\"],[0.7777777777777778,\"#fb9f3a\"],[0.8888888888888888,\"#fdca26\"],[1.0,\"#f0f921\"]]}],\"choropleth\":[{\"type\":\"choropleth\",\"colorbar\":{\"outlinewidth\":0,\"ticks\":\"\"}}],\"histogram2d\":[{\"type\":\"histogram2d\",\"colorbar\":{\"outlinewidth\":0,\"ticks\":\"\"},\"colorscale\":[[0.0,\"#0d0887\"],[0.1111111111111111,\"#46039f\"],[0.2222222222222222,\"#7201a8\"],[0.3333333333333333,\"#9c179e\"],[0.4444444444444444,\"#bd3786\"],[0.5555555555555556,\"#d8576b\"],[0.6666666666666666,\"#ed7953\"],[0.7777777777777778,\"#fb9f3a\"],[0.8888888888888888,\"#fdca26\"],[1.0,\"#f0f921\"]]}],\"heatmap\":[{\"type\":\"heatmap\",\"colorbar\":{\"outlinewidth\":0,\"ticks\":\"\"},\"colorscale\":[[0.0,\"#0d0887\"],[0.1111111111111111,\"#46039f\"],[0.2222222222222222,\"#7201a8\"],[0.3333333333333333,\"#9c179e\"],[0.4444444444444444,\"#bd3786\"],[0.5555555555555556,\"#d8576b\"],[0.6666666666666666,\"#ed7953\"],[0.7777777777777778,\"#fb9f3a\"],[0.8888888888888888,\"#fdca26\"],[1.0,\"#f0f921\"]]}],\"heatmapgl\":[{\"type\":\"heatmapgl\",\"colorbar\":{\"outlinewidth\":0,\"ticks\":\"\"},\"colorscale\":[[0.0,\"#0d0887\"],[0.1111111111111111,\"#46039f\"],[0.2222222222222222,\"#7201a8\"],[0.3333333333333333,\"#9c179e\"],[0.4444444444444444,\"#bd3786\"],[0.5555555555555556,\"#d8576b\"],[0.6666666666666666,\"#ed7953\"],[0.7777777777777778,\"#fb9f3a\"],[0.8888888888888888,\"#fdca26\"],[1.0,\"#f0f921\"]]}],\"contourcarpet\":[{\"type\":\"contourcarpet\",\"colorbar\":{\"outlinewidth\":0,\"ticks\":\"\"}}],\"contour\":[{\"type\":\"contour\",\"colorbar\":{\"outlinewidth\":0,\"ticks\":\"\"},\"colorscale\":[[0.0,\"#0d0887\"],[0.1111111111111111,\"#46039f\"],[0.2222222222222222,\"#7201a8\"],[0.3333333333333333,\"#9c179e\"],[0.4444444444444444,\"#bd3786\"],[0.5555555555555556,\"#d8576b\"],[0.6666666666666666,\"#ed7953\"],[0.7777777777777778,\"#fb9f3a\"],[0.8888888888888888,\"#fdca26\"],[1.0,\"#f0f921\"]]}],\"surface\":[{\"type\":\"surface\",\"colorbar\":{\"outlinewidth\":0,\"ticks\":\"\"},\"colorscale\":[[0.0,\"#0d0887\"],[0.1111111111111111,\"#46039f\"],[0.2222222222222222,\"#7201a8\"],[0.3333333333333333,\"#9c179e\"],[0.4444444444444444,\"#bd3786\"],[0.5555555555555556,\"#d8576b\"],[0.6666666666666666,\"#ed7953\"],[0.7777777777777778,\"#fb9f3a\"],[0.8888888888888888,\"#fdca26\"],[1.0,\"#f0f921\"]]}],\"mesh3d\":[{\"type\":\"mesh3d\",\"colorbar\":{\"outlinewidth\":0,\"ticks\":\"\"}}],\"scatter\":[{\"fillpattern\":{\"fillmode\":\"overlay\",\"size\":10,\"solidity\":0.2},\"type\":\"scatter\"}],\"parcoords\":[{\"type\":\"parcoords\",\"line\":{\"colorbar\":{\"outlinewidth\":0,\"ticks\":\"\"}}}],\"scatterpolargl\":[{\"type\":\"scatterpolargl\",\"marker\":{\"colorbar\":{\"outlinewidth\":0,\"ticks\":\"\"}}}],\"bar\":[{\"error_x\":{\"color\":\"#2a3f5f\"},\"error_y\":{\"color\":\"#2a3f5f\"},\"marker\":{\"line\":{\"color\":\"#E5ECF6\",\"width\":0.5},\"pattern\":{\"fillmode\":\"overlay\",\"size\":10,\"solidity\":0.2}},\"type\":\"bar\"}],\"scattergeo\":[{\"type\":\"scattergeo\",\"marker\":{\"colorbar\":{\"outlinewidth\":0,\"ticks\":\"\"}}}],\"scatterpolar\":[{\"type\":\"scatterpolar\",\"marker\":{\"colorbar\":{\"outlinewidth\":0,\"ticks\":\"\"}}}],\"histogram\":[{\"marker\":{\"pattern\":{\"fillmode\":\"overlay\",\"size\":10,\"solidity\":0.2}},\"type\":\"histogram\"}],\"scattergl\":[{\"type\":\"scattergl\",\"marker\":{\"colorbar\":{\"outlinewidth\":0,\"ticks\":\"\"}}}],\"scatter3d\":[{\"type\":\"scatter3d\",\"line\":{\"colorbar\":{\"outlinewidth\":0,\"ticks\":\"\"}},\"marker\":{\"colorbar\":{\"outlinewidth\":0,\"ticks\":\"\"}}}],\"scattermapbox\":[{\"type\":\"scattermapbox\",\"marker\":{\"colorbar\":{\"outlinewidth\":0,\"ticks\":\"\"}}}],\"scatterternary\":[{\"type\":\"scatterternary\",\"marker\":{\"colorbar\":{\"outlinewidth\":0,\"ticks\":\"\"}}}],\"scattercarpet\":[{\"type\":\"scattercarpet\",\"marker\":{\"colorbar\":{\"outlinewidth\":0,\"ticks\":\"\"}}}],\"carpet\":[{\"aaxis\":{\"endlinecolor\":\"#2a3f5f\",\"gridcolor\":\"white\",\"linecolor\":\"white\",\"minorgridcolor\":\"white\",\"startlinecolor\":\"#2a3f5f\"},\"baxis\":{\"endlinecolor\":\"#2a3f5f\",\"gridcolor\":\"white\",\"linecolor\":\"white\",\"minorgridcolor\":\"white\",\"startlinecolor\":\"#2a3f5f\"},\"type\":\"carpet\"}],\"table\":[{\"cells\":{\"fill\":{\"color\":\"#EBF0F8\"},\"line\":{\"color\":\"white\"}},\"header\":{\"fill\":{\"color\":\"#C8D4E3\"},\"line\":{\"color\":\"white\"}},\"type\":\"table\"}],\"barpolar\":[{\"marker\":{\"line\":{\"color\":\"#E5ECF6\",\"width\":0.5},\"pattern\":{\"fillmode\":\"overlay\",\"size\":10,\"solidity\":0.2}},\"type\":\"barpolar\"}],\"pie\":[{\"automargin\":true,\"type\":\"pie\"}]},\"layout\":{\"autotypenumbers\":\"strict\",\"colorway\":[\"#636efa\",\"#EF553B\",\"#00cc96\",\"#ab63fa\",\"#FFA15A\",\"#19d3f3\",\"#FF6692\",\"#B6E880\",\"#FF97FF\",\"#FECB52\"],\"font\":{\"color\":\"#2a3f5f\"},\"hovermode\":\"closest\",\"hoverlabel\":{\"align\":\"left\"},\"paper_bgcolor\":\"white\",\"plot_bgcolor\":\"#E5ECF6\",\"polar\":{\"bgcolor\":\"#E5ECF6\",\"angularaxis\":{\"gridcolor\":\"white\",\"linecolor\":\"white\",\"ticks\":\"\"},\"radialaxis\":{\"gridcolor\":\"white\",\"linecolor\":\"white\",\"ticks\":\"\"}},\"ternary\":{\"bgcolor\":\"#E5ECF6\",\"aaxis\":{\"gridcolor\":\"white\",\"linecolor\":\"white\",\"ticks\":\"\"},\"baxis\":{\"gridcolor\":\"white\",\"linecolor\":\"white\",\"ticks\":\"\"},\"caxis\":{\"gridcolor\":\"white\",\"linecolor\":\"white\",\"ticks\":\"\"}},\"coloraxis\":{\"colorbar\":{\"outlinewidth\":0,\"ticks\":\"\"}},\"colorscale\":{\"sequential\":[[0.0,\"#0d0887\"],[0.1111111111111111,\"#46039f\"],[0.2222222222222222,\"#7201a8\"],[0.3333333333333333,\"#9c179e\"],[0.4444444444444444,\"#bd3786\"],[0.5555555555555556,\"#d8576b\"],[0.6666666666666666,\"#ed7953\"],[0.7777777777777778,\"#fb9f3a\"],[0.8888888888888888,\"#fdca26\"],[1.0,\"#f0f921\"]],\"sequentialminus\":[[0.0,\"#0d0887\"],[0.1111111111111111,\"#46039f\"],[0.2222222222222222,\"#7201a8\"],[0.3333333333333333,\"#9c179e\"],[0.4444444444444444,\"#bd3786\"],[0.5555555555555556,\"#d8576b\"],[0.6666666666666666,\"#ed7953\"],[0.7777777777777778,\"#fb9f3a\"],[0.8888888888888888,\"#fdca26\"],[1.0,\"#f0f921\"]],\"diverging\":[[0,\"#8e0152\"],[0.1,\"#c51b7d\"],[0.2,\"#de77ae\"],[0.3,\"#f1b6da\"],[0.4,\"#fde0ef\"],[0.5,\"#f7f7f7\"],[0.6,\"#e6f5d0\"],[0.7,\"#b8e186\"],[0.8,\"#7fbc41\"],[0.9,\"#4d9221\"],[1,\"#276419\"]]},\"xaxis\":{\"gridcolor\":\"white\",\"linecolor\":\"white\",\"ticks\":\"\",\"title\":{\"standoff\":15},\"zerolinecolor\":\"white\",\"automargin\":true,\"zerolinewidth\":2},\"yaxis\":{\"gridcolor\":\"white\",\"linecolor\":\"white\",\"ticks\":\"\",\"title\":{\"standoff\":15},\"zerolinecolor\":\"white\",\"automargin\":true,\"zerolinewidth\":2},\"scene\":{\"xaxis\":{\"backgroundcolor\":\"#E5ECF6\",\"gridcolor\":\"white\",\"linecolor\":\"white\",\"showbackground\":true,\"ticks\":\"\",\"zerolinecolor\":\"white\",\"gridwidth\":2},\"yaxis\":{\"backgroundcolor\":\"#E5ECF6\",\"gridcolor\":\"white\",\"linecolor\":\"white\",\"showbackground\":true,\"ticks\":\"\",\"zerolinecolor\":\"white\",\"gridwidth\":2},\"zaxis\":{\"backgroundcolor\":\"#E5ECF6\",\"gridcolor\":\"white\",\"linecolor\":\"white\",\"showbackground\":true,\"ticks\":\"\",\"zerolinecolor\":\"white\",\"gridwidth\":2}},\"shapedefaults\":{\"line\":{\"color\":\"#2a3f5f\"}},\"annotationdefaults\":{\"arrowcolor\":\"#2a3f5f\",\"arrowhead\":0,\"arrowwidth\":1},\"geo\":{\"bgcolor\":\"white\",\"landcolor\":\"#E5ECF6\",\"subunitcolor\":\"white\",\"showland\":true,\"showlakes\":true,\"lakecolor\":\"white\"},\"title\":{\"x\":0.05},\"mapbox\":{\"style\":\"light\"}}},\"font\":{\"family\":\"Arial\",\"size\":12,\"color\":\"#7f7f7f\"},\"title\":{\"text\":\"\\u0421\\u0440\\u0435\\u0434\\u043d\\u044f\\u044f \\u0434\\u043e\\u043b\\u044f \\u043b\\u0443\\u0447\\u0448\\u0438\\u0445 \\u0438\\u0433\\u0440\\u043e\\u043a\\u043e\\u0432 \\u043f\\u043e \\u043c\\u0435\\u0441\\u0442\\u0430\\u043c \\u0441 \\u043b\\u0438\\u043d\\u0438\\u0435\\u0439 \\u0442\\u0440\\u0435\\u043d\\u0434\\u0430\"},\"xaxis\":{\"title\":{\"text\":\"\\u041c\\u0435\\u0441\\u0442\\u043e\"}},\"yaxis\":{\"title\":{\"text\":\"\\u0421\\u0440\\u0435\\u0434\\u043d\\u044f\\u044f \\u0434\\u043e\\u043b\\u044f \\u043b\\u0443\\u0447\\u0448\\u0438\\u0445 \\u0438\\u0433\\u0440\\u043e\\u043a\\u043e\\u0432\"}},\"width\":700,\"showlegend\":true},                        {\"responsive\": true}                    ).then(function(){\n",
       "                            \n",
       "var gd = document.getElementById('50eeba71-c4b5-4ecd-a1c9-84006d7e2cae');\n",
       "var x = new MutationObserver(function (mutations, observer) {{\n",
       "        var display = window.getComputedStyle(gd).display;\n",
       "        if (!display || display === 'none') {{\n",
       "            console.log([gd, 'removed!']);\n",
       "            Plotly.purge(gd);\n",
       "            observer.disconnect();\n",
       "        }}\n",
       "}});\n",
       "\n",
       "// Listen for the removal of the full notebook cells\n",
       "var notebookContainer = gd.closest('#notebook-container');\n",
       "if (notebookContainer) {{\n",
       "    x.observe(notebookContainer, {childList: true});\n",
       "}}\n",
       "\n",
       "// Listen for the clearing of the current output cell\n",
       "var outputEl = gd.closest('.output');\n",
       "if (outputEl) {{\n",
       "    x.observe(outputEl, {childList: true});\n",
       "}}\n",
       "\n",
       "                        })                };                });            </script>        </div>"
      ]
     },
     "metadata": {},
     "output_type": "display_data"
    }
   ],
   "source": [
    "average_per_rank = data_teams.groupby('Rank')['p_better'].mean().reset_index()\n",
    "slope, intercept, r_value, p_value, std_err = linregress(average_per_rank['Rank'], average_per_rank['p_better'])\n",
    "line_x = average_per_rank['Rank']\n",
    "line_y = slope * line_x + intercept\n",
    "fig = go.Figure()\n",
    "fig.add_trace(go.Bar(\n",
    "    x=average_per_rank['Rank'],\n",
    "    y=average_per_rank['p_better'],\n",
    "    marker_color='lightseagreen',\n",
    "    name='Средняя доля лучших игроков'\n",
    "))\n",
    "fig.add_trace(go.Scatter(\n",
    "    x=line_x,\n",
    "    y=line_y,\n",
    "    mode='lines+markers',\n",
    "    line=dict(color='firebrick'),\n",
    "    name='Линия тренда'\n",
    "))\n",
    "fig.update_layout(\n",
    "    title='Средняя доля лучших игроков по местам с линией тренда',\n",
    "    xaxis_title='Место',\n",
    "    yaxis_title='Средняя доля лучших игроков',\n",
    "    width=700,\n",
    "    font=dict(family=\"Arial\", size=12, color=\"#7f7f7f\"),\n",
    "    showlegend=True\n",
    ")\n",
    "fig.show()"
   ]
  },
  {
   "cell_type": "code",
   "execution_count": 91,
   "id": "ac9c2f2b-8b4d-4b59-ab3a-117bd11c9132",
   "metadata": {},
   "outputs": [
    {
     "name": "stdout",
     "output_type": "stream",
     "text": [
      "Средние: X̄=0.3452, Ȳ=10.5000\n",
      "Sxy=-6.8421, Sxx=0.1074, Syy=665.0000\n",
      "slope=-63.6830, intercept=32.4816\n",
      "r=-0.8095\n",
      "t-stat=-5.8488, p-value=0.00002\n",
      "✅ Гипотеза подтверждается: чем больше успешных игроков, тем выше команда в таблице.\n"
     ]
    }
   ],
   "source": [
    "X = np.array(average_per_rank['p_better'])\n",
    "Y = np.array(average_per_rank['Rank'])\n",
    "n = len(X)\n",
    "\n",
    "X_mean = np.mean(X)\n",
    "Y_mean = np.mean(Y)\n",
    "\n",
    "Sxy = np.sum((X - X_mean) * (Y - Y_mean))\n",
    "Sxx = np.sum((X - X_mean)**2)\n",
    "Syy = np.sum((Y - Y_mean)**2)\n",
    "\n",
    "slope = Sxy / Sxx\n",
    "intercept = Y_mean - slope * X_mean\n",
    "r = Sxy / np.sqrt(Sxx * Syy)\n",
    "\n",
    "t_stat = r * np.sqrt((n - 2) / (1 - r**2))\n",
    "df = n - 2\n",
    "p_value = 2 * (1 - t.cdf(abs(t_stat), df))\n",
    "\n",
    "print(f\"Средние: X̄={X_mean:.4f}, Ȳ={Y_mean:.4f}\")\n",
    "print(f\"Sxy={Sxy:.4f}, Sxx={Sxx:.4f}, Syy={Syy:.4f}\")\n",
    "print(f\"slope={slope:.4f}, intercept={intercept:.4f}\")\n",
    "print(f\"r={r:.4f}\")\n",
    "print(f\"t-stat={t_stat:.4f}, p-value={p_value:.5f}\")\n",
    "\n",
    "if slope < 0 and p_value < 0.05:\n",
    "    print(\"✅ Гипотеза подтверждается: чем больше успешных игроков, тем выше команда в таблице.\")\n",
    "else:\n",
    "    print(\"❌ Гипотеза не подтверждается.\")"
   ]
  },
  {
   "cell_type": "code",
   "execution_count": null,
   "id": "ed679b64-9526-45ef-b13f-ce0e1361e258",
   "metadata": {},
   "outputs": [],
   "source": [
    "# Вывод: в топовых клубах, игроки зачастую проявляют себя выше ожиданий. Поэтому тренеру стоит обращать внимание на тех игроков, у которых фактическая\n",
    "# результативность выше расчётной"
   ]
  },
  {
   "cell_type": "code",
   "execution_count": null,
   "id": "824f7d79-e437-46aa-b6cb-dc3343001be0",
   "metadata": {},
   "outputs": [],
   "source": [
    "# Гипотеза 2: в сильных командах, мячи забивают преимущественно нападающие, а в слабых - как придётся.\n",
    "# Эта гипотеза помогает понять важность тактики в игре команд: соблюдается ли классическая тактика: защитники (вынос) -> полузащитники (ассист) -> \n",
    "# -> нападающие (гол). Как нарушение этой схемы отразится на результатах команды"
   ]
  },
  {
   "cell_type": "code",
   "execution_count": 92,
   "id": "c9752c49-6d0e-423d-90ec-6883c29e1abf",
   "metadata": {},
   "outputs": [
    {
     "data": {
      "text/plain": [
       "array(['DF', 'MF,FW', 'MF', 'FW', 'FW,MF', 'DF,FW', 'GK', 'DF,MF',\n",
       "       'MF,DF', 'FW,DF'], dtype=object)"
      ]
     },
     "execution_count": 92,
     "metadata": {},
     "output_type": "execute_result"
    }
   ],
   "source": [
    "data_players['Pos'].unique()"
   ]
  },
  {
   "cell_type": "code",
   "execution_count": null,
   "id": "a562e934-a650-477a-8adc-95b991c7abdc",
   "metadata": {},
   "outputs": [],
   "source": [
    "# Избавимся от повторов"
   ]
  },
  {
   "cell_type": "code",
   "execution_count": 93,
   "id": "d0f6ad81-8fb2-41c7-88fd-472dec3dae6d",
   "metadata": {},
   "outputs": [
    {
     "name": "stdout",
     "output_type": "stream",
     "text": [
      "['DF' 'FW, MF' 'MF' 'FW' 'DF, FW' 'GK' 'DF, MF']\n"
     ]
    }
   ],
   "source": [
    "def normalize_position(pos):\n",
    "    parts = sorted([p.strip() for p in pos.split(',')])\n",
    "    return ', '.join(parts)\n",
    "data_players['Pos'] = data_players['Pos'].apply(normalize_position)\n",
    "positions_list = data_players['Pos'].unique()\n",
    "print(positions_list)"
   ]
  },
  {
   "cell_type": "code",
   "execution_count": null,
   "id": "c2341e93-dc1e-40a7-b5d1-0ed1971e827f",
   "metadata": {},
   "outputs": [],
   "source": [
    "# Здесь DF - защитник, MF - полузащитник, FW - нападающий, остальные - гибриды. Будем считать, что если у игрока в позиции есть часть FW, то его голы не\n",
    "# будут считаться нарушением тактики. Посчитаем процент мячей, которые забили представители каждой позиции"
   ]
  },
  {
   "cell_type": "code",
   "execution_count": 94,
   "id": "5a3edcc9-be8d-46e4-8ffa-0dd3c44b5bf8",
   "metadata": {},
   "outputs": [],
   "source": [
    "for pos in positions_list:\n",
    "    players_at_pos = data_players[data_players['Pos'] == pos]\n",
    "    goals_by_pos = players_at_pos.groupby('Team')['G-PK'].sum()\n",
    "    total_goals_by_team = data_players.groupby('Team')['G-PK'].sum()\n",
    "    percentage_by_team = goals_by_pos.divide(total_goals_by_team, fill_value=0)\n",
    "    column_name = f'{pos}_Percentage'\n",
    "    data_teams[column_name] = data_teams['Team'].map(percentage_by_team)"
   ]
  },
  {
   "cell_type": "code",
   "execution_count": 95,
   "id": "bd036067-d2d5-409f-9f5e-7e485f33aa12",
   "metadata": {},
   "outputs": [
    {
     "data": {
      "text/html": [
       "<div>\n",
       "<style scoped>\n",
       "    .dataframe tbody tr th:only-of-type {\n",
       "        vertical-align: middle;\n",
       "    }\n",
       "\n",
       "    .dataframe tbody tr th {\n",
       "        vertical-align: top;\n",
       "    }\n",
       "\n",
       "    .dataframe thead th {\n",
       "        text-align: right;\n",
       "    }\n",
       "</style>\n",
       "<table border=\"1\" class=\"dataframe\">\n",
       "  <thead>\n",
       "    <tr style=\"text-align: right;\">\n",
       "      <th></th>\n",
       "      <th>id</th>\n",
       "      <th>League</th>\n",
       "      <th>Team</th>\n",
       "      <th>Team_Rus</th>\n",
       "      <th>Plays</th>\n",
       "      <th>Wins</th>\n",
       "      <th>Draws</th>\n",
       "      <th>Falls</th>\n",
       "      <th>Goals</th>\n",
       "      <th>Miss goals</th>\n",
       "      <th>Different</th>\n",
       "      <th>Score</th>\n",
       "      <th>Rank</th>\n",
       "      <th>p_better</th>\n",
       "      <th>DF_Percentage</th>\n",
       "      <th>FW, MF_Percentage</th>\n",
       "      <th>MF_Percentage</th>\n",
       "      <th>FW_Percentage</th>\n",
       "      <th>DF, FW_Percentage</th>\n",
       "      <th>GK_Percentage</th>\n",
       "      <th>DF, MF_Percentage</th>\n",
       "    </tr>\n",
       "  </thead>\n",
       "  <tbody>\n",
       "    <tr>\n",
       "      <th>0</th>\n",
       "      <td>1</td>\n",
       "      <td>eng Premier League</td>\n",
       "      <td>Manchester City</td>\n",
       "      <td>Манчестер Сити</td>\n",
       "      <td>38</td>\n",
       "      <td>28</td>\n",
       "      <td>7</td>\n",
       "      <td>3</td>\n",
       "      <td>96</td>\n",
       "      <td>34</td>\n",
       "      <td>62</td>\n",
       "      <td>91</td>\n",
       "      <td>1</td>\n",
       "      <td>0.391304</td>\n",
       "      <td>0.070588</td>\n",
       "      <td>0.482353</td>\n",
       "      <td>0.152941</td>\n",
       "      <td>0.235294</td>\n",
       "      <td>0.0</td>\n",
       "      <td>0.0</td>\n",
       "      <td>0.058824</td>\n",
       "    </tr>\n",
       "    <tr>\n",
       "      <th>1</th>\n",
       "      <td>2</td>\n",
       "      <td>eng Premier League</td>\n",
       "      <td>Arsenal</td>\n",
       "      <td>Арсенал</td>\n",
       "      <td>38</td>\n",
       "      <td>28</td>\n",
       "      <td>5</td>\n",
       "      <td>5</td>\n",
       "      <td>91</td>\n",
       "      <td>29</td>\n",
       "      <td>62</td>\n",
       "      <td>89</td>\n",
       "      <td>2</td>\n",
       "      <td>0.434783</td>\n",
       "      <td>0.184211</td>\n",
       "      <td>0.315789</td>\n",
       "      <td>0.171053</td>\n",
       "      <td>0.328947</td>\n",
       "      <td>0.0</td>\n",
       "      <td>0.0</td>\n",
       "      <td>0.000000</td>\n",
       "    </tr>\n",
       "    <tr>\n",
       "      <th>2</th>\n",
       "      <td>3</td>\n",
       "      <td>eng Premier League</td>\n",
       "      <td>Liverpool</td>\n",
       "      <td>Ливерпуль</td>\n",
       "      <td>38</td>\n",
       "      <td>24</td>\n",
       "      <td>10</td>\n",
       "      <td>4</td>\n",
       "      <td>86</td>\n",
       "      <td>41</td>\n",
       "      <td>45</td>\n",
       "      <td>82</td>\n",
       "      <td>3</td>\n",
       "      <td>0.250000</td>\n",
       "      <td>0.148649</td>\n",
       "      <td>0.148649</td>\n",
       "      <td>0.135135</td>\n",
       "      <td>0.567568</td>\n",
       "      <td>0.0</td>\n",
       "      <td>0.0</td>\n",
       "      <td>0.000000</td>\n",
       "    </tr>\n",
       "    <tr>\n",
       "      <th>3</th>\n",
       "      <td>4</td>\n",
       "      <td>eng Premier League</td>\n",
       "      <td>Aston Villa</td>\n",
       "      <td>Астон Вилла</td>\n",
       "      <td>38</td>\n",
       "      <td>20</td>\n",
       "      <td>8</td>\n",
       "      <td>10</td>\n",
       "      <td>76</td>\n",
       "      <td>61</td>\n",
       "      <td>15</td>\n",
       "      <td>68</td>\n",
       "      <td>4</td>\n",
       "      <td>0.379310</td>\n",
       "      <td>0.117647</td>\n",
       "      <td>0.514706</td>\n",
       "      <td>0.088235</td>\n",
       "      <td>0.279412</td>\n",
       "      <td>0.0</td>\n",
       "      <td>0.0</td>\n",
       "      <td>0.000000</td>\n",
       "    </tr>\n",
       "    <tr>\n",
       "      <th>4</th>\n",
       "      <td>5</td>\n",
       "      <td>eng Premier League</td>\n",
       "      <td>Tottenham</td>\n",
       "      <td>Тоттенхэм Хотспур</td>\n",
       "      <td>38</td>\n",
       "      <td>20</td>\n",
       "      <td>6</td>\n",
       "      <td>12</td>\n",
       "      <td>74</td>\n",
       "      <td>61</td>\n",
       "      <td>13</td>\n",
       "      <td>66</td>\n",
       "      <td>5</td>\n",
       "      <td>0.392857</td>\n",
       "      <td>0.223881</td>\n",
       "      <td>0.119403</td>\n",
       "      <td>0.149254</td>\n",
       "      <td>0.507463</td>\n",
       "      <td>0.0</td>\n",
       "      <td>0.0</td>\n",
       "      <td>0.000000</td>\n",
       "    </tr>\n",
       "  </tbody>\n",
       "</table>\n",
       "</div>"
      ],
      "text/plain": [
       "   id              League             Team           Team_Rus  Plays  Wins  \\\n",
       "0   1  eng Premier League  Manchester City     Манчестер Сити     38    28   \n",
       "1   2  eng Premier League          Arsenal            Арсенал     38    28   \n",
       "2   3  eng Premier League        Liverpool          Ливерпуль     38    24   \n",
       "3   4  eng Premier League      Aston Villa        Астон Вилла     38    20   \n",
       "4   5  eng Premier League        Tottenham  Тоттенхэм Хотспур     38    20   \n",
       "\n",
       "   Draws  Falls  Goals  Miss goals Different  Score  Rank  p_better  \\\n",
       "0      7      3     96          34        62     91     1  0.391304   \n",
       "1      5      5     91          29        62     89     2  0.434783   \n",
       "2     10      4     86          41        45     82     3  0.250000   \n",
       "3      8     10     76          61        15     68     4  0.379310   \n",
       "4      6     12     74          61        13     66     5  0.392857   \n",
       "\n",
       "   DF_Percentage  FW, MF_Percentage  MF_Percentage  FW_Percentage  \\\n",
       "0       0.070588           0.482353       0.152941       0.235294   \n",
       "1       0.184211           0.315789       0.171053       0.328947   \n",
       "2       0.148649           0.148649       0.135135       0.567568   \n",
       "3       0.117647           0.514706       0.088235       0.279412   \n",
       "4       0.223881           0.119403       0.149254       0.507463   \n",
       "\n",
       "   DF, FW_Percentage  GK_Percentage  DF, MF_Percentage  \n",
       "0                0.0            0.0           0.058824  \n",
       "1                0.0            0.0           0.000000  \n",
       "2                0.0            0.0           0.000000  \n",
       "3                0.0            0.0           0.000000  \n",
       "4                0.0            0.0           0.000000  "
      ]
     },
     "execution_count": 95,
     "metadata": {},
     "output_type": "execute_result"
    }
   ],
   "source": [
    "data_teams.head()"
   ]
  },
  {
   "cell_type": "code",
   "execution_count": null,
   "id": "c81c2d56-5e6b-4e87-8dca-8f83d838f179",
   "metadata": {},
   "outputs": [],
   "source": [
    "# Визуализируем наши данные"
   ]
  },
  {
   "cell_type": "code",
   "execution_count": 96,
   "id": "ac77175b-c63d-4157-bc4f-92e1f4b47905",
   "metadata": {},
   "outputs": [
    {
     "data": {
      "text/plain": [
       "Index(['id', 'League', 'Team', 'Team_Rus', 'Plays', 'Wins', 'Draws', 'Falls',\n",
       "       'Goals', 'Miss goals', 'Different', 'Score', 'Rank', 'p_better',\n",
       "       'DF_Percentage', 'FW, MF_Percentage', 'MF_Percentage', 'FW_Percentage',\n",
       "       'DF, FW_Percentage', 'GK_Percentage', 'DF, MF_Percentage'],\n",
       "      dtype='object')"
      ]
     },
     "execution_count": 96,
     "metadata": {},
     "output_type": "execute_result"
    }
   ],
   "source": [
    "data_teams.columns"
   ]
  },
  {
   "cell_type": "code",
   "execution_count": 99,
   "id": "60a76f25-b09c-4f71-b62f-20a6a6bdf1f2",
   "metadata": {},
   "outputs": [
    {
     "data": {
      "application/vnd.plotly.v1+json": {
       "config": {
        "plotlyServerURL": "https://plot.ly"
       },
       "data": [
        {
         "alignmentgroup": "True",
         "hovertemplate": "Position=GK_Percentage<br>Место=%{x}<br>Доля голов (%)=%{y}<extra></extra>",
         "legendgroup": "GK_Percentage",
         "marker": {
          "color": "#636efa",
          "line": {
           "color": "white",
           "width": 1
          },
          "pattern": {
           "shape": ""
          }
         },
         "name": "GK_Percentage",
         "offsetgroup": "GK_Percentage",
         "orientation": "v",
         "showlegend": true,
         "textposition": "auto",
         "type": "bar",
         "visible": "legendonly",
         "x": [
          1,
          2,
          3,
          4,
          5,
          6,
          7,
          8,
          9,
          10,
          11,
          12,
          13,
          14,
          15,
          16,
          17,
          18,
          19,
          20
         ],
         "xaxis": "x",
         "y": [
          0,
          0,
          0,
          0,
          0,
          0,
          0,
          0,
          0,
          0,
          0,
          0,
          0,
          0,
          0,
          0,
          0,
          0,
          0,
          0
         ],
         "yaxis": "y"
        },
        {
         "alignmentgroup": "True",
         "hovertemplate": "Position=DF_Percentage<br>Место=%{x}<br>Доля голов (%)=%{y}<extra></extra>",
         "legendgroup": "DF_Percentage",
         "marker": {
          "color": "#EF553B",
          "line": {
           "color": "white",
           "width": 1
          },
          "pattern": {
           "shape": ""
          }
         },
         "name": "DF_Percentage",
         "offsetgroup": "DF_Percentage",
         "orientation": "v",
         "showlegend": true,
         "textposition": "auto",
         "type": "bar",
         "visible": "legendonly",
         "x": [
          1,
          2,
          3,
          4,
          5,
          6,
          7,
          8,
          9,
          10,
          11,
          12,
          13,
          14,
          15,
          16,
          17,
          18,
          19,
          20
         ],
         "xaxis": "x",
         "y": [
          0.18057703261509941,
          0.12372688999897004,
          0.1466227151637486,
          0.12097255320038462,
          0.15891869725524035,
          0.13031677920111062,
          0.13175956247142687,
          0.16330010533053577,
          0.14787530932692222,
          0.12698817332538265,
          0.14681915431594508,
          0.09760180995475112,
          0.0993937593937594,
          0.12055233311047264,
          0.1755289739500266,
          0.19381609313298118,
          0.09013975155279504,
          0.1564242424242424,
          0.12429214929214931,
          0.18803418803418803
         ],
         "yaxis": "y"
        },
        {
         "alignmentgroup": "True",
         "hovertemplate": "Position=DF, MF_Percentage<br>Место=%{x}<br>Доля голов (%)=%{y}<extra></extra>",
         "legendgroup": "DF, MF_Percentage",
         "marker": {
          "color": "#00cc96",
          "line": {
           "color": "white",
           "width": 1
          },
          "pattern": {
           "shape": ""
          }
         },
         "name": "DF, MF_Percentage",
         "offsetgroup": "DF, MF_Percentage",
         "orientation": "v",
         "showlegend": true,
         "textposition": "auto",
         "type": "bar",
         "visible": "legendonly",
         "x": [
          1,
          2,
          3,
          4,
          5,
          6,
          7,
          8,
          9,
          10,
          11,
          12,
          13,
          14,
          15,
          16,
          17,
          18,
          19,
          20
         ],
         "xaxis": "x",
         "y": [
          0.053046037305388635,
          0.026785714285714284,
          0.013172541743970315,
          0.04126984126984127,
          0.006060606060606061,
          0.08088597210828548,
          0.003389830508474576,
          0.012617220801364024,
          0.039369237272463074,
          0.059829059829059825,
          0.036778309409888355,
          0.04296128707893414,
          0.048695448695448694,
          0.04531375773236238,
          0.04666666666666667,
          0.009326974032856386,
          0.023219461697722564,
          0.06327272727272727,
          0.016666666666666666,
          0.044444444444444446
         ],
         "yaxis": "y"
        },
        {
         "alignmentgroup": "True",
         "hovertemplate": "Position=MF_Percentage<br>Место=%{x}<br>Доля голов (%)=%{y}<extra></extra>",
         "legendgroup": "MF_Percentage",
         "marker": {
          "color": "#ab63fa",
          "line": {
           "color": "white",
           "width": 1
          },
          "pattern": {
           "shape": ""
          }
         },
         "name": "MF_Percentage",
         "offsetgroup": "MF_Percentage",
         "orientation": "v",
         "showlegend": true,
         "textposition": "auto",
         "type": "bar",
         "visible": "legendonly",
         "x": [
          1,
          2,
          3,
          4,
          5,
          6,
          7,
          8,
          9,
          10,
          11,
          12,
          13,
          14,
          15,
          16,
          17,
          18,
          19,
          20
         ],
         "xaxis": "x",
         "y": [
          0.19701588253895413,
          0.12888640694201256,
          0.1841422522273586,
          0.1467136307259222,
          0.14686652618766244,
          0.14887521010572694,
          0.2393126760245404,
          0.11027326452789195,
          0.1999189071769717,
          0.07492894056847546,
          0.13134230624602897,
          0.09601206636500755,
          0.08358461358461358,
          0.11915017798738729,
          0.21520290625553784,
          0.14669538608817545,
          0.15859213250517598,
          0.19036363636363635,
          0.1583011583011583,
          0.13076923076923078
         ],
         "yaxis": "y"
        },
        {
         "alignmentgroup": "True",
         "hovertemplate": "Position=FW, MF_Percentage<br>Место=%{x}<br>Доля голов (%)=%{y}<extra></extra>",
         "legendgroup": "FW, MF_Percentage",
         "marker": {
          "color": "#FFA15A",
          "line": {
           "color": "white",
           "width": 1
          },
          "pattern": {
           "shape": ""
          }
         },
         "name": "FW, MF_Percentage",
         "offsetgroup": "FW, MF_Percentage",
         "orientation": "v",
         "showlegend": true,
         "textposition": "auto",
         "type": "bar",
         "visible": "legendonly",
         "x": [
          1,
          2,
          3,
          4,
          5,
          6,
          7,
          8,
          9,
          10,
          11,
          12,
          13,
          14,
          15,
          16,
          17,
          18,
          19,
          20
         ],
         "xaxis": "x",
         "y": [
          0.20443613228376858,
          0.3280759475744155,
          0.18182778365149185,
          0.30141724849143636,
          0.24539644675658154,
          0.34613778346346025,
          0.2514602685450143,
          0.29648166361071127,
          0.2299069450682354,
          0.39560276287020474,
          0.34140376810466666,
          0.36147712418300654,
          0.41165456165456166,
          0.4018134957204724,
          0.29892632465000885,
          0.2915687983999179,
          0.4058333333333334,
          0.3314747474747475,
          0.3065637065637066,
          0.37435897435897436
         ],
         "yaxis": "y"
        },
        {
         "alignmentgroup": "True",
         "hovertemplate": "Position=FW_Percentage<br>Место=%{x}<br>Доля голов (%)=%{y}<extra></extra>",
         "legendgroup": "FW_Percentage",
         "marker": {
          "color": "#19d3f3",
          "line": {
           "color": "white",
           "width": 1
          },
          "pattern": {
           "shape": ""
          }
         },
         "name": "FW_Percentage",
         "offsetgroup": "FW_Percentage",
         "orientation": "v",
         "showlegend": true,
         "textposition": "auto",
         "type": "bar",
         "x": [
          1,
          2,
          3,
          4,
          5,
          6,
          7,
          8,
          9,
          10,
          11,
          12,
          13,
          14,
          15,
          16,
          17,
          18,
          19,
          20
         ],
         "xaxis": "x",
         "y": [
          0.3649249152567893,
          0.3894000411988876,
          0.4634740393099056,
          0.38546005964574886,
          0.4427577237399096,
          0.2824635004044356,
          0.3095291262409906,
          0.4129799196425405,
          0.38292960115540764,
          0.3370955078513218,
          0.32544507980964976,
          0.3920653594771242,
          0.3566716166716167,
          0.29347792775699755,
          0.26367512847776003,
          0.33061182624749985,
          0.29530020703933746,
          0.18890909090909092,
          0.3941763191763192,
          0.2512820512820513
         ],
         "yaxis": "y"
        },
        {
         "alignmentgroup": "True",
         "hovertemplate": "Position=DF, FW_Percentage<br>Место=%{x}<br>Доля голов (%)=%{y}<extra></extra>",
         "legendgroup": "DF, FW_Percentage",
         "marker": {
          "color": "#FF6692",
          "line": {
           "color": "white",
           "width": 1
          },
          "pattern": {
           "shape": ""
          }
         },
         "name": "DF, FW_Percentage",
         "offsetgroup": "DF, FW_Percentage",
         "orientation": "v",
         "showlegend": true,
         "textposition": "auto",
         "type": "bar",
         "visible": "legendonly",
         "x": [
          1,
          2,
          3,
          4,
          5,
          6,
          7,
          8,
          9,
          10,
          11,
          12,
          13,
          14,
          15,
          16,
          17,
          18,
          19,
          20
         ],
         "xaxis": "x",
         "y": [
          0,
          0.003125,
          0.010760667903525045,
          0.004166666666666667,
          0,
          0.011320754716981133,
          0.06454853620955317,
          0.004347826086956522,
          0,
          0.005555555555555555,
          0.018211382113821138,
          0.00988235294117647,
          0,
          0.019692307692307693,
          0,
          0.02798092209856916,
          0.02691511387163561,
          0.06955555555555556,
          0,
          0.011111111111111112
         ],
         "yaxis": "y"
        }
       ],
       "layout": {
        "autosize": true,
        "barmode": "stack",
        "legend": {
         "title": {
          "text": "Позиция"
         },
         "tracegroupgap": 0,
         "traceorder": "normal"
        },
        "template": {
         "data": {
          "bar": [
           {
            "error_x": {
             "color": "#2a3f5f"
            },
            "error_y": {
             "color": "#2a3f5f"
            },
            "marker": {
             "line": {
              "color": "#E5ECF6",
              "width": 0.5
             },
             "pattern": {
              "fillmode": "overlay",
              "size": 10,
              "solidity": 0.2
             }
            },
            "type": "bar"
           }
          ],
          "barpolar": [
           {
            "marker": {
             "line": {
              "color": "#E5ECF6",
              "width": 0.5
             },
             "pattern": {
              "fillmode": "overlay",
              "size": 10,
              "solidity": 0.2
             }
            },
            "type": "barpolar"
           }
          ],
          "carpet": [
           {
            "aaxis": {
             "endlinecolor": "#2a3f5f",
             "gridcolor": "white",
             "linecolor": "white",
             "minorgridcolor": "white",
             "startlinecolor": "#2a3f5f"
            },
            "baxis": {
             "endlinecolor": "#2a3f5f",
             "gridcolor": "white",
             "linecolor": "white",
             "minorgridcolor": "white",
             "startlinecolor": "#2a3f5f"
            },
            "type": "carpet"
           }
          ],
          "choropleth": [
           {
            "colorbar": {
             "outlinewidth": 0,
             "ticks": ""
            },
            "type": "choropleth"
           }
          ],
          "contour": [
           {
            "colorbar": {
             "outlinewidth": 0,
             "ticks": ""
            },
            "colorscale": [
             [
              0,
              "#0d0887"
             ],
             [
              0.1111111111111111,
              "#46039f"
             ],
             [
              0.2222222222222222,
              "#7201a8"
             ],
             [
              0.3333333333333333,
              "#9c179e"
             ],
             [
              0.4444444444444444,
              "#bd3786"
             ],
             [
              0.5555555555555556,
              "#d8576b"
             ],
             [
              0.6666666666666666,
              "#ed7953"
             ],
             [
              0.7777777777777778,
              "#fb9f3a"
             ],
             [
              0.8888888888888888,
              "#fdca26"
             ],
             [
              1,
              "#f0f921"
             ]
            ],
            "type": "contour"
           }
          ],
          "contourcarpet": [
           {
            "colorbar": {
             "outlinewidth": 0,
             "ticks": ""
            },
            "type": "contourcarpet"
           }
          ],
          "heatmap": [
           {
            "colorbar": {
             "outlinewidth": 0,
             "ticks": ""
            },
            "colorscale": [
             [
              0,
              "#0d0887"
             ],
             [
              0.1111111111111111,
              "#46039f"
             ],
             [
              0.2222222222222222,
              "#7201a8"
             ],
             [
              0.3333333333333333,
              "#9c179e"
             ],
             [
              0.4444444444444444,
              "#bd3786"
             ],
             [
              0.5555555555555556,
              "#d8576b"
             ],
             [
              0.6666666666666666,
              "#ed7953"
             ],
             [
              0.7777777777777778,
              "#fb9f3a"
             ],
             [
              0.8888888888888888,
              "#fdca26"
             ],
             [
              1,
              "#f0f921"
             ]
            ],
            "type": "heatmap"
           }
          ],
          "heatmapgl": [
           {
            "colorbar": {
             "outlinewidth": 0,
             "ticks": ""
            },
            "colorscale": [
             [
              0,
              "#0d0887"
             ],
             [
              0.1111111111111111,
              "#46039f"
             ],
             [
              0.2222222222222222,
              "#7201a8"
             ],
             [
              0.3333333333333333,
              "#9c179e"
             ],
             [
              0.4444444444444444,
              "#bd3786"
             ],
             [
              0.5555555555555556,
              "#d8576b"
             ],
             [
              0.6666666666666666,
              "#ed7953"
             ],
             [
              0.7777777777777778,
              "#fb9f3a"
             ],
             [
              0.8888888888888888,
              "#fdca26"
             ],
             [
              1,
              "#f0f921"
             ]
            ],
            "type": "heatmapgl"
           }
          ],
          "histogram": [
           {
            "marker": {
             "pattern": {
              "fillmode": "overlay",
              "size": 10,
              "solidity": 0.2
             }
            },
            "type": "histogram"
           }
          ],
          "histogram2d": [
           {
            "colorbar": {
             "outlinewidth": 0,
             "ticks": ""
            },
            "colorscale": [
             [
              0,
              "#0d0887"
             ],
             [
              0.1111111111111111,
              "#46039f"
             ],
             [
              0.2222222222222222,
              "#7201a8"
             ],
             [
              0.3333333333333333,
              "#9c179e"
             ],
             [
              0.4444444444444444,
              "#bd3786"
             ],
             [
              0.5555555555555556,
              "#d8576b"
             ],
             [
              0.6666666666666666,
              "#ed7953"
             ],
             [
              0.7777777777777778,
              "#fb9f3a"
             ],
             [
              0.8888888888888888,
              "#fdca26"
             ],
             [
              1,
              "#f0f921"
             ]
            ],
            "type": "histogram2d"
           }
          ],
          "histogram2dcontour": [
           {
            "colorbar": {
             "outlinewidth": 0,
             "ticks": ""
            },
            "colorscale": [
             [
              0,
              "#0d0887"
             ],
             [
              0.1111111111111111,
              "#46039f"
             ],
             [
              0.2222222222222222,
              "#7201a8"
             ],
             [
              0.3333333333333333,
              "#9c179e"
             ],
             [
              0.4444444444444444,
              "#bd3786"
             ],
             [
              0.5555555555555556,
              "#d8576b"
             ],
             [
              0.6666666666666666,
              "#ed7953"
             ],
             [
              0.7777777777777778,
              "#fb9f3a"
             ],
             [
              0.8888888888888888,
              "#fdca26"
             ],
             [
              1,
              "#f0f921"
             ]
            ],
            "type": "histogram2dcontour"
           }
          ],
          "mesh3d": [
           {
            "colorbar": {
             "outlinewidth": 0,
             "ticks": ""
            },
            "type": "mesh3d"
           }
          ],
          "parcoords": [
           {
            "line": {
             "colorbar": {
              "outlinewidth": 0,
              "ticks": ""
             }
            },
            "type": "parcoords"
           }
          ],
          "pie": [
           {
            "automargin": true,
            "type": "pie"
           }
          ],
          "scatter": [
           {
            "fillpattern": {
             "fillmode": "overlay",
             "size": 10,
             "solidity": 0.2
            },
            "type": "scatter"
           }
          ],
          "scatter3d": [
           {
            "line": {
             "colorbar": {
              "outlinewidth": 0,
              "ticks": ""
             }
            },
            "marker": {
             "colorbar": {
              "outlinewidth": 0,
              "ticks": ""
             }
            },
            "type": "scatter3d"
           }
          ],
          "scattercarpet": [
           {
            "marker": {
             "colorbar": {
              "outlinewidth": 0,
              "ticks": ""
             }
            },
            "type": "scattercarpet"
           }
          ],
          "scattergeo": [
           {
            "marker": {
             "colorbar": {
              "outlinewidth": 0,
              "ticks": ""
             }
            },
            "type": "scattergeo"
           }
          ],
          "scattergl": [
           {
            "marker": {
             "colorbar": {
              "outlinewidth": 0,
              "ticks": ""
             }
            },
            "type": "scattergl"
           }
          ],
          "scattermapbox": [
           {
            "marker": {
             "colorbar": {
              "outlinewidth": 0,
              "ticks": ""
             }
            },
            "type": "scattermapbox"
           }
          ],
          "scatterpolar": [
           {
            "marker": {
             "colorbar": {
              "outlinewidth": 0,
              "ticks": ""
             }
            },
            "type": "scatterpolar"
           }
          ],
          "scatterpolargl": [
           {
            "marker": {
             "colorbar": {
              "outlinewidth": 0,
              "ticks": ""
             }
            },
            "type": "scatterpolargl"
           }
          ],
          "scatterternary": [
           {
            "marker": {
             "colorbar": {
              "outlinewidth": 0,
              "ticks": ""
             }
            },
            "type": "scatterternary"
           }
          ],
          "surface": [
           {
            "colorbar": {
             "outlinewidth": 0,
             "ticks": ""
            },
            "colorscale": [
             [
              0,
              "#0d0887"
             ],
             [
              0.1111111111111111,
              "#46039f"
             ],
             [
              0.2222222222222222,
              "#7201a8"
             ],
             [
              0.3333333333333333,
              "#9c179e"
             ],
             [
              0.4444444444444444,
              "#bd3786"
             ],
             [
              0.5555555555555556,
              "#d8576b"
             ],
             [
              0.6666666666666666,
              "#ed7953"
             ],
             [
              0.7777777777777778,
              "#fb9f3a"
             ],
             [
              0.8888888888888888,
              "#fdca26"
             ],
             [
              1,
              "#f0f921"
             ]
            ],
            "type": "surface"
           }
          ],
          "table": [
           {
            "cells": {
             "fill": {
              "color": "#EBF0F8"
             },
             "line": {
              "color": "white"
             }
            },
            "header": {
             "fill": {
              "color": "#C8D4E3"
             },
             "line": {
              "color": "white"
             }
            },
            "type": "table"
           }
          ]
         },
         "layout": {
          "annotationdefaults": {
           "arrowcolor": "#2a3f5f",
           "arrowhead": 0,
           "arrowwidth": 1
          },
          "autotypenumbers": "strict",
          "coloraxis": {
           "colorbar": {
            "outlinewidth": 0,
            "ticks": ""
           }
          },
          "colorscale": {
           "diverging": [
            [
             0,
             "#8e0152"
            ],
            [
             0.1,
             "#c51b7d"
            ],
            [
             0.2,
             "#de77ae"
            ],
            [
             0.3,
             "#f1b6da"
            ],
            [
             0.4,
             "#fde0ef"
            ],
            [
             0.5,
             "#f7f7f7"
            ],
            [
             0.6,
             "#e6f5d0"
            ],
            [
             0.7,
             "#b8e186"
            ],
            [
             0.8,
             "#7fbc41"
            ],
            [
             0.9,
             "#4d9221"
            ],
            [
             1,
             "#276419"
            ]
           ],
           "sequential": [
            [
             0,
             "#0d0887"
            ],
            [
             0.1111111111111111,
             "#46039f"
            ],
            [
             0.2222222222222222,
             "#7201a8"
            ],
            [
             0.3333333333333333,
             "#9c179e"
            ],
            [
             0.4444444444444444,
             "#bd3786"
            ],
            [
             0.5555555555555556,
             "#d8576b"
            ],
            [
             0.6666666666666666,
             "#ed7953"
            ],
            [
             0.7777777777777778,
             "#fb9f3a"
            ],
            [
             0.8888888888888888,
             "#fdca26"
            ],
            [
             1,
             "#f0f921"
            ]
           ],
           "sequentialminus": [
            [
             0,
             "#0d0887"
            ],
            [
             0.1111111111111111,
             "#46039f"
            ],
            [
             0.2222222222222222,
             "#7201a8"
            ],
            [
             0.3333333333333333,
             "#9c179e"
            ],
            [
             0.4444444444444444,
             "#bd3786"
            ],
            [
             0.5555555555555556,
             "#d8576b"
            ],
            [
             0.6666666666666666,
             "#ed7953"
            ],
            [
             0.7777777777777778,
             "#fb9f3a"
            ],
            [
             0.8888888888888888,
             "#fdca26"
            ],
            [
             1,
             "#f0f921"
            ]
           ]
          },
          "colorway": [
           "#636efa",
           "#EF553B",
           "#00cc96",
           "#ab63fa",
           "#FFA15A",
           "#19d3f3",
           "#FF6692",
           "#B6E880",
           "#FF97FF",
           "#FECB52"
          ],
          "font": {
           "color": "#2a3f5f"
          },
          "geo": {
           "bgcolor": "white",
           "lakecolor": "white",
           "landcolor": "#E5ECF6",
           "showlakes": true,
           "showland": true,
           "subunitcolor": "white"
          },
          "hoverlabel": {
           "align": "left"
          },
          "hovermode": "closest",
          "mapbox": {
           "style": "light"
          },
          "paper_bgcolor": "white",
          "plot_bgcolor": "#E5ECF6",
          "polar": {
           "angularaxis": {
            "gridcolor": "white",
            "linecolor": "white",
            "ticks": ""
           },
           "bgcolor": "#E5ECF6",
           "radialaxis": {
            "gridcolor": "white",
            "linecolor": "white",
            "ticks": ""
           }
          },
          "scene": {
           "xaxis": {
            "backgroundcolor": "#E5ECF6",
            "gridcolor": "white",
            "gridwidth": 2,
            "linecolor": "white",
            "showbackground": true,
            "ticks": "",
            "zerolinecolor": "white"
           },
           "yaxis": {
            "backgroundcolor": "#E5ECF6",
            "gridcolor": "white",
            "gridwidth": 2,
            "linecolor": "white",
            "showbackground": true,
            "ticks": "",
            "zerolinecolor": "white"
           },
           "zaxis": {
            "backgroundcolor": "#E5ECF6",
            "gridcolor": "white",
            "gridwidth": 2,
            "linecolor": "white",
            "showbackground": true,
            "ticks": "",
            "zerolinecolor": "white"
           }
          },
          "shapedefaults": {
           "line": {
            "color": "#2a3f5f"
           }
          },
          "ternary": {
           "aaxis": {
            "gridcolor": "white",
            "linecolor": "white",
            "ticks": ""
           },
           "baxis": {
            "gridcolor": "white",
            "linecolor": "white",
            "ticks": ""
           },
           "bgcolor": "#E5ECF6",
           "caxis": {
            "gridcolor": "white",
            "linecolor": "white",
            "ticks": ""
           }
          },
          "title": {
           "x": 0.05
          },
          "xaxis": {
           "automargin": true,
           "gridcolor": "white",
           "linecolor": "white",
           "ticks": "",
           "title": {
            "standoff": 15
           },
           "zerolinecolor": "white",
           "zerolinewidth": 2
          },
          "yaxis": {
           "automargin": true,
           "gridcolor": "white",
           "linecolor": "white",
           "ticks": "",
           "title": {
            "standoff": 15
           },
           "zerolinecolor": "white",
           "zerolinewidth": 2
          }
         }
        },
        "title": {
         "text": "Средний процент голов по позициям и местам"
        },
        "xaxis": {
         "anchor": "y",
         "autorange": true,
         "categoryarray": [
          1,
          2,
          3,
          4,
          5,
          6,
          7,
          8,
          9,
          10,
          11,
          12,
          13,
          14,
          15,
          16,
          17,
          18,
          19,
          20
         ],
         "categoryorder": "array",
         "domain": [
          0,
          1
         ],
         "range": [
          -0.5,
          19.5
         ],
         "tickmode": "linear",
         "title": {
          "text": "Место в таблице"
         },
         "type": "category"
        },
        "yaxis": {
         "anchor": "x",
         "autorange": true,
         "domain": [
          0,
          1
         ],
         "range": [
          0,
          0.4878674097999006
         ],
         "title": {
          "text": "Доля голов (%)"
         },
         "type": "linear"
        }
       }
      },
      "image/png": "[encoded data removed]",
      "text/html": [
       "<div>                            <div id=\"9bf946ed-c1bf-4dc4-9355-86225a8c8e4d\" class=\"plotly-graph-div\" style=\"height:525px; width:100%;\"></div>            <script type=\"text/javascript\">                require([\"plotly\"], function(Plotly) {                    window.PLOTLYENV=window.PLOTLYENV || {};                                    if (document.getElementById(\"9bf946ed-c1bf-4dc4-9355-86225a8c8e4d\")) {                    Plotly.newPlot(                        \"9bf946ed-c1bf-4dc4-9355-86225a8c8e4d\",                        [{\"alignmentgroup\":\"True\",\"hovertemplate\":\"Position=GK_Percentage\\u003cbr\\u003e\\u041c\\u0435\\u0441\\u0442\\u043e=%{x}\\u003cbr\\u003e\\u0414\\u043e\\u043b\\u044f \\u0433\\u043e\\u043b\\u043e\\u0432 (%)=%{y}\\u003cextra\\u003e\\u003c\\u002fextra\\u003e\",\"legendgroup\":\"GK_Percentage\",\"marker\":{\"color\":\"#636efa\",\"pattern\":{\"shape\":\"\"},\"line\":{\"color\":\"white\",\"width\":1}},\"name\":\"GK_Percentage\",\"offsetgroup\":\"GK_Percentage\",\"orientation\":\"v\",\"showlegend\":true,\"textposition\":\"auto\",\"x\":[1,2,3,4,5,6,7,8,9,10,11,12,13,14,15,16,17,18,19,20],\"xaxis\":\"x\",\"y\":[0.0,0.0,0.0,0.0,0.0,0.0,0.0,0.0,0.0,0.0,0.0,0.0,0.0,0.0,0.0,0.0,0.0,0.0,0.0,0.0],\"yaxis\":\"y\",\"type\":\"bar\"},{\"alignmentgroup\":\"True\",\"hovertemplate\":\"Position=DF_Percentage\\u003cbr\\u003e\\u041c\\u0435\\u0441\\u0442\\u043e=%{x}\\u003cbr\\u003e\\u0414\\u043e\\u043b\\u044f \\u0433\\u043e\\u043b\\u043e\\u0432 (%)=%{y}\\u003cextra\\u003e\\u003c\\u002fextra\\u003e\",\"legendgroup\":\"DF_Percentage\",\"marker\":{\"color\":\"#EF553B\",\"pattern\":{\"shape\":\"\"},\"line\":{\"color\":\"white\",\"width\":1}},\"name\":\"DF_Percentage\",\"offsetgroup\":\"DF_Percentage\",\"orientation\":\"v\",\"showlegend\":true,\"textposition\":\"auto\",\"x\":[1,2,3,4,5,6,7,8,9,10,11,12,13,14,15,16,17,18,19,20],\"xaxis\":\"x\",\"y\":[0.18057703261509941,0.12372688999897004,0.1466227151637486,0.12097255320038462,0.15891869725524035,0.13031677920111062,0.13175956247142687,0.16330010533053577,0.14787530932692222,0.12698817332538265,0.14681915431594508,0.09760180995475112,0.0993937593937594,0.12055233311047264,0.1755289739500266,0.19381609313298118,0.09013975155279504,0.1564242424242424,0.12429214929214931,0.18803418803418803],\"yaxis\":\"y\",\"type\":\"bar\"},{\"alignmentgroup\":\"True\",\"hovertemplate\":\"Position=DF, MF_Percentage\\u003cbr\\u003e\\u041c\\u0435\\u0441\\u0442\\u043e=%{x}\\u003cbr\\u003e\\u0414\\u043e\\u043b\\u044f \\u0433\\u043e\\u043b\\u043e\\u0432 (%)=%{y}\\u003cextra\\u003e\\u003c\\u002fextra\\u003e\",\"legendgroup\":\"DF, MF_Percentage\",\"marker\":{\"color\":\"#00cc96\",\"pattern\":{\"shape\":\"\"},\"line\":{\"color\":\"white\",\"width\":1}},\"name\":\"DF, MF_Percentage\",\"offsetgroup\":\"DF, MF_Percentage\",\"orientation\":\"v\",\"showlegend\":true,\"textposition\":\"auto\",\"x\":[1,2,3,4,5,6,7,8,9,10,11,12,13,14,15,16,17,18,19,20],\"xaxis\":\"x\",\"y\":[0.053046037305388635,0.026785714285714284,0.013172541743970315,0.04126984126984127,0.006060606060606061,0.08088597210828548,0.003389830508474576,0.012617220801364024,0.039369237272463074,0.059829059829059825,0.036778309409888355,0.04296128707893414,0.048695448695448694,0.04531375773236238,0.04666666666666667,0.009326974032856386,0.023219461697722564,0.06327272727272727,0.016666666666666666,0.044444444444444446],\"yaxis\":\"y\",\"type\":\"bar\"},{\"alignmentgroup\":\"True\",\"hovertemplate\":\"Position=MF_Percentage\\u003cbr\\u003e\\u041c\\u0435\\u0441\\u0442\\u043e=%{x}\\u003cbr\\u003e\\u0414\\u043e\\u043b\\u044f \\u0433\\u043e\\u043b\\u043e\\u0432 (%)=%{y}\\u003cextra\\u003e\\u003c\\u002fextra\\u003e\",\"legendgroup\":\"MF_Percentage\",\"marker\":{\"color\":\"#ab63fa\",\"pattern\":{\"shape\":\"\"},\"line\":{\"color\":\"white\",\"width\":1}},\"name\":\"MF_Percentage\",\"offsetgroup\":\"MF_Percentage\",\"orientation\":\"v\",\"showlegend\":true,\"textposition\":\"auto\",\"x\":[1,2,3,4,5,6,7,8,9,10,11,12,13,14,15,16,17,18,19,20],\"xaxis\":\"x\",\"y\":[0.19701588253895413,0.12888640694201256,0.1841422522273586,0.1467136307259222,0.14686652618766244,0.14887521010572694,0.2393126760245404,0.11027326452789195,0.1999189071769717,0.07492894056847546,0.13134230624602897,0.09601206636500755,0.08358461358461358,0.11915017798738729,0.21520290625553784,0.14669538608817545,0.15859213250517598,0.19036363636363635,0.1583011583011583,0.13076923076923078],\"yaxis\":\"y\",\"type\":\"bar\"},{\"alignmentgroup\":\"True\",\"hovertemplate\":\"Position=FW, MF_Percentage\\u003cbr\\u003e\\u041c\\u0435\\u0441\\u0442\\u043e=%{x}\\u003cbr\\u003e\\u0414\\u043e\\u043b\\u044f \\u0433\\u043e\\u043b\\u043e\\u0432 (%)=%{y}\\u003cextra\\u003e\\u003c\\u002fextra\\u003e\",\"legendgroup\":\"FW, MF_Percentage\",\"marker\":{\"color\":\"#FFA15A\",\"pattern\":{\"shape\":\"\"},\"line\":{\"color\":\"white\",\"width\":1}},\"name\":\"FW, MF_Percentage\",\"offsetgroup\":\"FW, MF_Percentage\",\"orientation\":\"v\",\"showlegend\":true,\"textposition\":\"auto\",\"x\":[1,2,3,4,5,6,7,8,9,10,11,12,13,14,15,16,17,18,19,20],\"xaxis\":\"x\",\"y\":[0.20443613228376858,0.3280759475744155,0.18182778365149185,0.30141724849143636,0.24539644675658154,0.34613778346346025,0.2514602685450143,0.29648166361071127,0.2299069450682354,0.39560276287020474,0.34140376810466666,0.36147712418300654,0.41165456165456166,0.4018134957204724,0.29892632465000885,0.2915687983999179,0.4058333333333334,0.3314747474747475,0.3065637065637066,0.37435897435897436],\"yaxis\":\"y\",\"type\":\"bar\"},{\"alignmentgroup\":\"True\",\"hovertemplate\":\"Position=FW_Percentage\\u003cbr\\u003e\\u041c\\u0435\\u0441\\u0442\\u043e=%{x}\\u003cbr\\u003e\\u0414\\u043e\\u043b\\u044f \\u0433\\u043e\\u043b\\u043e\\u0432 (%)=%{y}\\u003cextra\\u003e\\u003c\\u002fextra\\u003e\",\"legendgroup\":\"FW_Percentage\",\"marker\":{\"color\":\"#19d3f3\",\"pattern\":{\"shape\":\"\"},\"line\":{\"color\":\"white\",\"width\":1}},\"name\":\"FW_Percentage\",\"offsetgroup\":\"FW_Percentage\",\"orientation\":\"v\",\"showlegend\":true,\"textposition\":\"auto\",\"x\":[1,2,3,4,5,6,7,8,9,10,11,12,13,14,15,16,17,18,19,20],\"xaxis\":\"x\",\"y\":[0.3649249152567893,0.3894000411988876,0.4634740393099056,0.38546005964574886,0.4427577237399096,0.2824635004044356,0.3095291262409906,0.4129799196425405,0.38292960115540764,0.3370955078513218,0.32544507980964976,0.3920653594771242,0.3566716166716167,0.29347792775699755,0.26367512847776003,0.33061182624749985,0.29530020703933746,0.18890909090909092,0.3941763191763192,0.2512820512820513],\"yaxis\":\"y\",\"type\":\"bar\"},{\"alignmentgroup\":\"True\",\"hovertemplate\":\"Position=DF, FW_Percentage\\u003cbr\\u003e\\u041c\\u0435\\u0441\\u0442\\u043e=%{x}\\u003cbr\\u003e\\u0414\\u043e\\u043b\\u044f \\u0433\\u043e\\u043b\\u043e\\u0432 (%)=%{y}\\u003cextra\\u003e\\u003c\\u002fextra\\u003e\",\"legendgroup\":\"DF, FW_Percentage\",\"marker\":{\"color\":\"#FF6692\",\"pattern\":{\"shape\":\"\"},\"line\":{\"color\":\"white\",\"width\":1}},\"name\":\"DF, FW_Percentage\",\"offsetgroup\":\"DF, FW_Percentage\",\"orientation\":\"v\",\"showlegend\":true,\"textposition\":\"auto\",\"x\":[1,2,3,4,5,6,7,8,9,10,11,12,13,14,15,16,17,18,19,20],\"xaxis\":\"x\",\"y\":[0.0,0.003125,0.010760667903525045,0.004166666666666667,0.0,0.011320754716981133,0.06454853620955317,0.004347826086956522,0.0,0.005555555555555555,0.018211382113821138,0.00988235294117647,0.0,0.019692307692307693,0.0,0.02798092209856916,0.02691511387163561,0.06955555555555556,0.0,0.011111111111111112],\"yaxis\":\"y\",\"type\":\"bar\"}],                        {\"template\":{\"data\":{\"histogram2dcontour\":[{\"type\":\"histogram2dcontour\",\"colorbar\":{\"outlinewidth\":0,\"ticks\":\"\"},\"colorscale\":[[0.0,\"#0d0887\"],[0.1111111111111111,\"#46039f\"],[0.2222222222222222,\"#7201a8\"],[0.3333333333333333,\"#9c179e\"],[0.4444444444444444,\"#bd3786\"],[0.5555555555555556,\"#d8576b\"],[0.6666666666666666,\"#ed7953\"],[0.7777777777777778,\"#fb9f3a\"],[0.8888888888888888,\"#fdca26\"],[1.0,\"#f0f921\"]]}],\"choropleth\":[{\"type\":\"choropleth\",\"colorbar\":{\"outlinewidth\":0,\"ticks\":\"\"}}],\"histogram2d\":[{\"type\":\"histogram2d\",\"colorbar\":{\"outlinewidth\":0,\"ticks\":\"\"},\"colorscale\":[[0.0,\"#0d0887\"],[0.1111111111111111,\"#46039f\"],[0.2222222222222222,\"#7201a8\"],[0.3333333333333333,\"#9c179e\"],[0.4444444444444444,\"#bd3786\"],[0.5555555555555556,\"#d8576b\"],[0.6666666666666666,\"#ed7953\"],[0.7777777777777778,\"#fb9f3a\"],[0.8888888888888888,\"#fdca26\"],[1.0,\"#f0f921\"]]}],\"heatmap\":[{\"type\":\"heatmap\",\"colorbar\":{\"outlinewidth\":0,\"ticks\":\"\"},\"colorscale\":[[0.0,\"#0d0887\"],[0.1111111111111111,\"#46039f\"],[0.2222222222222222,\"#7201a8\"],[0.3333333333333333,\"#9c179e\"],[0.4444444444444444,\"#bd3786\"],[0.5555555555555556,\"#d8576b\"],[0.6666666666666666,\"#ed7953\"],[0.7777777777777778,\"#fb9f3a\"],[0.8888888888888888,\"#fdca26\"],[1.0,\"#f0f921\"]]}],\"heatmapgl\":[{\"type\":\"heatmapgl\",\"colorbar\":{\"outlinewidth\":0,\"ticks\":\"\"},\"colorscale\":[[0.0,\"#0d0887\"],[0.1111111111111111,\"#46039f\"],[0.2222222222222222,\"#7201a8\"],[0.3333333333333333,\"#9c179e\"],[0.4444444444444444,\"#bd3786\"],[0.5555555555555556,\"#d8576b\"],[0.6666666666666666,\"#ed7953\"],[0.7777777777777778,\"#fb9f3a\"],[0.8888888888888888,\"#fdca26\"],[1.0,\"#f0f921\"]]}],\"contourcarpet\":[{\"type\":\"contourcarpet\",\"colorbar\":{\"outlinewidth\":0,\"ticks\":\"\"}}],\"contour\":[{\"type\":\"contour\",\"colorbar\":{\"outlinewidth\":0,\"ticks\":\"\"},\"colorscale\":[[0.0,\"#0d0887\"],[0.1111111111111111,\"#46039f\"],[0.2222222222222222,\"#7201a8\"],[0.3333333333333333,\"#9c179e\"],[0.4444444444444444,\"#bd3786\"],[0.5555555555555556,\"#d8576b\"],[0.6666666666666666,\"#ed7953\"],[0.7777777777777778,\"#fb9f3a\"],[0.8888888888888888,\"#fdca26\"],[1.0,\"#f0f921\"]]}],\"surface\":[{\"type\":\"surface\",\"colorbar\":{\"outlinewidth\":0,\"ticks\":\"\"},\"colorscale\":[[0.0,\"#0d0887\"],[0.1111111111111111,\"#46039f\"],[0.2222222222222222,\"#7201a8\"],[0.3333333333333333,\"#9c179e\"],[0.4444444444444444,\"#bd3786\"],[0.5555555555555556,\"#d8576b\"],[0.6666666666666666,\"#ed7953\"],[0.7777777777777778,\"#fb9f3a\"],[0.8888888888888888,\"#fdca26\"],[1.0,\"#f0f921\"]]}],\"mesh3d\":[{\"type\":\"mesh3d\",\"colorbar\":{\"outlinewidth\":0,\"ticks\":\"\"}}],\"scatter\":[{\"fillpattern\":{\"fillmode\":\"overlay\",\"size\":10,\"solidity\":0.2},\"type\":\"scatter\"}],\"parcoords\":[{\"type\":\"parcoords\",\"line\":{\"colorbar\":{\"outlinewidth\":0,\"ticks\":\"\"}}}],\"scatterpolargl\":[{\"type\":\"scatterpolargl\",\"marker\":{\"colorbar\":{\"outlinewidth\":0,\"ticks\":\"\"}}}],\"bar\":[{\"error_x\":{\"color\":\"#2a3f5f\"},\"error_y\":{\"color\":\"#2a3f5f\"},\"marker\":{\"line\":{\"color\":\"#E5ECF6\",\"width\":0.5},\"pattern\":{\"fillmode\":\"overlay\",\"size\":10,\"solidity\":0.2}},\"type\":\"bar\"}],\"scattergeo\":[{\"type\":\"scattergeo\",\"marker\":{\"colorbar\":{\"outlinewidth\":0,\"ticks\":\"\"}}}],\"scatterpolar\":[{\"type\":\"scatterpolar\",\"marker\":{\"colorbar\":{\"outlinewidth\":0,\"ticks\":\"\"}}}],\"histogram\":[{\"marker\":{\"pattern\":{\"fillmode\":\"overlay\",\"size\":10,\"solidity\":0.2}},\"type\":\"histogram\"}],\"scattergl\":[{\"type\":\"scattergl\",\"marker\":{\"colorbar\":{\"outlinewidth\":0,\"ticks\":\"\"}}}],\"scatter3d\":[{\"type\":\"scatter3d\",\"line\":{\"colorbar\":{\"outlinewidth\":0,\"ticks\":\"\"}},\"marker\":{\"colorbar\":{\"outlinewidth\":0,\"ticks\":\"\"}}}],\"scattermapbox\":[{\"type\":\"scattermapbox\",\"marker\":{\"colorbar\":{\"outlinewidth\":0,\"ticks\":\"\"}}}],\"scatterternary\":[{\"type\":\"scatterternary\",\"marker\":{\"colorbar\":{\"outlinewidth\":0,\"ticks\":\"\"}}}],\"scattercarpet\":[{\"type\":\"scattercarpet\",\"marker\":{\"colorbar\":{\"outlinewidth\":0,\"ticks\":\"\"}}}],\"carpet\":[{\"aaxis\":{\"endlinecolor\":\"#2a3f5f\",\"gridcolor\":\"white\",\"linecolor\":\"white\",\"minorgridcolor\":\"white\",\"startlinecolor\":\"#2a3f5f\"},\"baxis\":{\"endlinecolor\":\"#2a3f5f\",\"gridcolor\":\"white\",\"linecolor\":\"white\",\"minorgridcolor\":\"white\",\"startlinecolor\":\"#2a3f5f\"},\"type\":\"carpet\"}],\"table\":[{\"cells\":{\"fill\":{\"color\":\"#EBF0F8\"},\"line\":{\"color\":\"white\"}},\"header\":{\"fill\":{\"color\":\"#C8D4E3\"},\"line\":{\"color\":\"white\"}},\"type\":\"table\"}],\"barpolar\":[{\"marker\":{\"line\":{\"color\":\"#E5ECF6\",\"width\":0.5},\"pattern\":{\"fillmode\":\"overlay\",\"size\":10,\"solidity\":0.2}},\"type\":\"barpolar\"}],\"pie\":[{\"automargin\":true,\"type\":\"pie\"}]},\"layout\":{\"autotypenumbers\":\"strict\",\"colorway\":[\"#636efa\",\"#EF553B\",\"#00cc96\",\"#ab63fa\",\"#FFA15A\",\"#19d3f3\",\"#FF6692\",\"#B6E880\",\"#FF97FF\",\"#FECB52\"],\"font\":{\"color\":\"#2a3f5f\"},\"hovermode\":\"closest\",\"hoverlabel\":{\"align\":\"left\"},\"paper_bgcolor\":\"white\",\"plot_bgcolor\":\"#E5ECF6\",\"polar\":{\"bgcolor\":\"#E5ECF6\",\"angularaxis\":{\"gridcolor\":\"white\",\"linecolor\":\"white\",\"ticks\":\"\"},\"radialaxis\":{\"gridcolor\":\"white\",\"linecolor\":\"white\",\"ticks\":\"\"}},\"ternary\":{\"bgcolor\":\"#E5ECF6\",\"aaxis\":{\"gridcolor\":\"white\",\"linecolor\":\"white\",\"ticks\":\"\"},\"baxis\":{\"gridcolor\":\"white\",\"linecolor\":\"white\",\"ticks\":\"\"},\"caxis\":{\"gridcolor\":\"white\",\"linecolor\":\"white\",\"ticks\":\"\"}},\"coloraxis\":{\"colorbar\":{\"outlinewidth\":0,\"ticks\":\"\"}},\"colorscale\":{\"sequential\":[[0.0,\"#0d0887\"],[0.1111111111111111,\"#46039f\"],[0.2222222222222222,\"#7201a8\"],[0.3333333333333333,\"#9c179e\"],[0.4444444444444444,\"#bd3786\"],[0.5555555555555556,\"#d8576b\"],[0.6666666666666666,\"#ed7953\"],[0.7777777777777778,\"#fb9f3a\"],[0.8888888888888888,\"#fdca26\"],[1.0,\"#f0f921\"]],\"sequentialminus\":[[0.0,\"#0d0887\"],[0.1111111111111111,\"#46039f\"],[0.2222222222222222,\"#7201a8\"],[0.3333333333333333,\"#9c179e\"],[0.4444444444444444,\"#bd3786\"],[0.5555555555555556,\"#d8576b\"],[0.6666666666666666,\"#ed7953\"],[0.7777777777777778,\"#fb9f3a\"],[0.8888888888888888,\"#fdca26\"],[1.0,\"#f0f921\"]],\"diverging\":[[0,\"#8e0152\"],[0.1,\"#c51b7d\"],[0.2,\"#de77ae\"],[0.3,\"#f1b6da\"],[0.4,\"#fde0ef\"],[0.5,\"#f7f7f7\"],[0.6,\"#e6f5d0\"],[0.7,\"#b8e186\"],[0.8,\"#7fbc41\"],[0.9,\"#4d9221\"],[1,\"#276419\"]]},\"xaxis\":{\"gridcolor\":\"white\",\"linecolor\":\"white\",\"ticks\":\"\",\"title\":{\"standoff\":15},\"zerolinecolor\":\"white\",\"automargin\":true,\"zerolinewidth\":2},\"yaxis\":{\"gridcolor\":\"white\",\"linecolor\":\"white\",\"ticks\":\"\",\"title\":{\"standoff\":15},\"zerolinecolor\":\"white\",\"automargin\":true,\"zerolinewidth\":2},\"scene\":{\"xaxis\":{\"backgroundcolor\":\"#E5ECF6\",\"gridcolor\":\"white\",\"linecolor\":\"white\",\"showbackground\":true,\"ticks\":\"\",\"zerolinecolor\":\"white\",\"gridwidth\":2},\"yaxis\":{\"backgroundcolor\":\"#E5ECF6\",\"gridcolor\":\"white\",\"linecolor\":\"white\",\"showbackground\":true,\"ticks\":\"\",\"zerolinecolor\":\"white\",\"gridwidth\":2},\"zaxis\":{\"backgroundcolor\":\"#E5ECF6\",\"gridcolor\":\"white\",\"linecolor\":\"white\",\"showbackground\":true,\"ticks\":\"\",\"zerolinecolor\":\"white\",\"gridwidth\":2}},\"shapedefaults\":{\"line\":{\"color\":\"#2a3f5f\"}},\"annotationdefaults\":{\"arrowcolor\":\"#2a3f5f\",\"arrowhead\":0,\"arrowwidth\":1},\"geo\":{\"bgcolor\":\"white\",\"landcolor\":\"#E5ECF6\",\"subunitcolor\":\"white\",\"showland\":true,\"showlakes\":true,\"lakecolor\":\"white\"},\"title\":{\"x\":0.05},\"mapbox\":{\"style\":\"light\"}}},\"xaxis\":{\"anchor\":\"y\",\"domain\":[0.0,1.0],\"title\":{\"text\":\"\\u041c\\u0435\\u0441\\u0442\\u043e \\u0432 \\u0442\\u0430\\u0431\\u043b\\u0438\\u0446\\u0435\"},\"categoryorder\":\"array\",\"categoryarray\":[1,2,3,4,5,6,7,8,9,10,11,12,13,14,15,16,17,18,19,20],\"type\":\"category\",\"tickmode\":\"linear\"},\"yaxis\":{\"anchor\":\"x\",\"domain\":[0.0,1.0],\"title\":{\"text\":\"\\u0414\\u043e\\u043b\\u044f \\u0433\\u043e\\u043b\\u043e\\u0432 (%)\"}},\"legend\":{\"title\":{\"text\":\"\\u041f\\u043e\\u0437\\u0438\\u0446\\u0438\\u044f\"},\"tracegroupgap\":0,\"traceorder\":\"normal\"},\"title\":{\"text\":\"\\u0421\\u0440\\u0435\\u0434\\u043d\\u0438\\u0439 \\u043f\\u0440\\u043e\\u0446\\u0435\\u043d\\u0442 \\u0433\\u043e\\u043b\\u043e\\u0432 \\u043f\\u043e \\u043f\\u043e\\u0437\\u0438\\u0446\\u0438\\u044f\\u043c \\u0438 \\u043c\\u0435\\u0441\\u0442\\u0430\\u043c\"},\"barmode\":\"stack\"},                        {\"responsive\": true}                    ).then(function(){\n",
       "                            \n",
       "var gd = document.getElementById('9bf946ed-c1bf-4dc4-9355-86225a8c8e4d');\n",
       "var x = new MutationObserver(function (mutations, observer) {{\n",
       "        var display = window.getComputedStyle(gd).display;\n",
       "        if (!display || display === 'none') {{\n",
       "            console.log([gd, 'removed!']);\n",
       "            Plotly.purge(gd);\n",
       "            observer.disconnect();\n",
       "        }}\n",
       "}});\n",
       "\n",
       "// Listen for the removal of the full notebook cells\n",
       "var notebookContainer = gd.closest('#notebook-container');\n",
       "if (notebookContainer) {{\n",
       "    x.observe(notebookContainer, {childList: true});\n",
       "}}\n",
       "\n",
       "// Listen for the clearing of the current output cell\n",
       "var outputEl = gd.closest('.output');\n",
       "if (outputEl) {{\n",
       "    x.observe(outputEl, {childList: true});\n",
       "}}\n",
       "\n",
       "                        })                };                });            </script>        </div>"
      ]
     },
     "metadata": {},
     "output_type": "display_data"
    }
   ],
   "source": [
    "custom_order = ['GK_Percentage', 'DF_Percentage', 'DF, MF_Percentage', 'MF_Percentage', 'FW, MF_Percentage', 'FW_Percentage', 'DF, FW_Percentage']\n",
    "position_cols = [col for col in custom_order if col in data_teams.columns]\n",
    "agg_df = data_teams.groupby('Rank')[position_cols].mean().reset_index()\n",
    "melted_df = pd.melt(\n",
    "    agg_df, \n",
    "    id_vars='Rank', \n",
    "    value_vars=position_cols, \n",
    "    var_name='Position', \n",
    "    value_name='Percentage'\n",
    ")\n",
    "melted_df['Position'] = pd.Categorical(\n",
    "    melted_df['Position'], \n",
    "    categories=custom_order, \n",
    "    ordered=True\n",
    ")\n",
    "melted_df = melted_df.sort_values(['Rank', 'Position'])\n",
    "melted_df = melted_df.sort_values('Rank')\n",
    "fig = px.bar(\n",
    "    melted_df,\n",
    "    x='Rank',\n",
    "    y='Percentage',\n",
    "    color='Position',\n",
    "    title='Средний процент голов по позициям и местам',\n",
    "    labels={'Rank': 'Место', 'Percentage': 'Доля голов (%)'},\n",
    "    category_orders={\n",
    "        \"Position\": custom_order,\n",
    "        \"Rank\": sorted(melted_df['Rank'].unique())\n",
    "    },\n",
    "    barmode='stack'\n",
    ")\n",
    "fig.update_xaxes(\n",
    "    type='category',\n",
    "    title_text='Место в таблице',\n",
    "    categoryorder='array',\n",
    "    categoryarray=sorted(melted_df['Rank'].unique())\n",
    ")\n",
    "fig.update_yaxes(title_text='Доля голов (%)')\n",
    "fig.update_traces(marker_line_width=1, marker_line_color='white')\n",
    "fig.update_layout(\n",
    "    legend_title='Позиция',\n",
    "    legend_traceorder='normal',\n",
    "    xaxis={'tickmode': 'linear'}\n",
    ")\n",
    "\n",
    "fig.show()"
   ]
  },
  {
   "cell_type": "code",
   "execution_count": 98,
   "id": "f3d62c26-d8b8-4cf9-9ad3-54c99a8c7d04",
   "metadata": {},
   "outputs": [
    {
     "data": {
      "text/html": [
       "<div>\n",
       "<style scoped>\n",
       "    .dataframe tbody tr th:only-of-type {\n",
       "        vertical-align: middle;\n",
       "    }\n",
       "\n",
       "    .dataframe tbody tr th {\n",
       "        vertical-align: top;\n",
       "    }\n",
       "\n",
       "    .dataframe thead th {\n",
       "        text-align: right;\n",
       "    }\n",
       "</style>\n",
       "<table border=\"1\" class=\"dataframe\">\n",
       "  <thead>\n",
       "    <tr style=\"text-align: right;\">\n",
       "      <th></th>\n",
       "      <th>Rank</th>\n",
       "      <th>GK_Percentage</th>\n",
       "      <th>DF_Percentage</th>\n",
       "      <th>DF, MF_Percentage</th>\n",
       "      <th>MF_Percentage</th>\n",
       "      <th>FW, MF_Percentage</th>\n",
       "      <th>FW_Percentage</th>\n",
       "      <th>DF, FW_Percentage</th>\n",
       "    </tr>\n",
       "  </thead>\n",
       "  <tbody>\n",
       "    <tr>\n",
       "      <th>0</th>\n",
       "      <td>1</td>\n",
       "      <td>0.0</td>\n",
       "      <td>0.180577</td>\n",
       "      <td>0.053046</td>\n",
       "      <td>0.197016</td>\n",
       "      <td>0.204436</td>\n",
       "      <td>0.364925</td>\n",
       "      <td>0.000000</td>\n",
       "    </tr>\n",
       "    <tr>\n",
       "      <th>1</th>\n",
       "      <td>2</td>\n",
       "      <td>0.0</td>\n",
       "      <td>0.123727</td>\n",
       "      <td>0.026786</td>\n",
       "      <td>0.128886</td>\n",
       "      <td>0.328076</td>\n",
       "      <td>0.389400</td>\n",
       "      <td>0.003125</td>\n",
       "    </tr>\n",
       "    <tr>\n",
       "      <th>2</th>\n",
       "      <td>3</td>\n",
       "      <td>0.0</td>\n",
       "      <td>0.146623</td>\n",
       "      <td>0.013173</td>\n",
       "      <td>0.184142</td>\n",
       "      <td>0.181828</td>\n",
       "      <td>0.463474</td>\n",
       "      <td>0.010761</td>\n",
       "    </tr>\n",
       "    <tr>\n",
       "      <th>3</th>\n",
       "      <td>4</td>\n",
       "      <td>0.0</td>\n",
       "      <td>0.120973</td>\n",
       "      <td>0.041270</td>\n",
       "      <td>0.146714</td>\n",
       "      <td>0.301417</td>\n",
       "      <td>0.385460</td>\n",
       "      <td>0.004167</td>\n",
       "    </tr>\n",
       "    <tr>\n",
       "      <th>4</th>\n",
       "      <td>5</td>\n",
       "      <td>0.0</td>\n",
       "      <td>0.158919</td>\n",
       "      <td>0.006061</td>\n",
       "      <td>0.146867</td>\n",
       "      <td>0.245396</td>\n",
       "      <td>0.442758</td>\n",
       "      <td>0.000000</td>\n",
       "    </tr>\n",
       "  </tbody>\n",
       "</table>\n",
       "</div>"
      ],
      "text/plain": [
       "   Rank  GK_Percentage  DF_Percentage  DF, MF_Percentage  MF_Percentage  \\\n",
       "0     1            0.0       0.180577           0.053046       0.197016   \n",
       "1     2            0.0       0.123727           0.026786       0.128886   \n",
       "2     3            0.0       0.146623           0.013173       0.184142   \n",
       "3     4            0.0       0.120973           0.041270       0.146714   \n",
       "4     5            0.0       0.158919           0.006061       0.146867   \n",
       "\n",
       "   FW, MF_Percentage  FW_Percentage  DF, FW_Percentage  \n",
       "0           0.204436       0.364925           0.000000  \n",
       "1           0.328076       0.389400           0.003125  \n",
       "2           0.181828       0.463474           0.010761  \n",
       "3           0.301417       0.385460           0.004167  \n",
       "4           0.245396       0.442758           0.000000  "
      ]
     },
     "execution_count": 98,
     "metadata": {},
     "output_type": "execute_result"
    }
   ],
   "source": [
    "agg_df.head()"
   ]
  },
  {
   "cell_type": "code",
   "execution_count": 102,
   "id": "d7e35b44-1c31-4d43-bbef-921d7404b76c",
   "metadata": {},
   "outputs": [
    {
     "name": "stdout",
     "output_type": "stream",
     "text": [
      "Ручные вычисления для FW_Percentage:\n",
      "Средние: X̄=10.5000, Ȳ=0.3431\n",
      "Sxy=-4.5747, Sxx=665.0000, Syy=0.0891\n",
      "slope=-0.0069, intercept=0.4154\n",
      "r=-0.5944\n",
      "t-stat=-3.1362, p-value=0.0057\n",
      "❌ Гипотеза не подтверждается: статистически значимой зависимости нет.\n"
     ]
    }
   ],
   "source": [
    "X = np.array(agg_df['Rank'])\n",
    "Y = np.array(agg_df['FW_Percentage'])\n",
    "n = len(X)\n",
    "\n",
    "X_mean = np.mean(X)\n",
    "Y_mean = np.mean(Y)\n",
    "\n",
    "Sxy = np.sum((X - X_mean) * (Y - Y_mean))\n",
    "Sxx = np.sum((X - X_mean)**2)\n",
    "Syy = np.sum((Y - Y_mean)**2)\n",
    "\n",
    "slope = Sxy / Sxx\n",
    "intercept = Y_mean - slope * X_mean\n",
    "r = Sxy / np.sqrt(Sxx * Syy)\n",
    "\n",
    "t_stat = r * np.sqrt((n - 2) / (1 - r**2))\n",
    "df = n - 2\n",
    "p_value = 2 * (1 - t.cdf(abs(t_stat), df))\n",
    "\n",
    "print(\"Ручные вычисления для FW_Percentage:\")\n",
    "print(f\"Средние: X̄={X_mean:.4f}, Ȳ={Y_mean:.4f}\")\n",
    "print(f\"Sxy={Sxy:.4f}, Sxx={Sxx:.4f}, Syy={Syy:.4f}\")\n",
    "print(f\"slope={slope:.4f}, intercept={intercept:.4f}\")\n",
    "print(f\"r={r:.4f}\")\n",
    "print(f\"t-stat={t_stat:.4f}, p-value={p_value:.4f}\")\n",
    "\n",
    "if round(slope,1) < 0 and p_value < 0.05:\n",
    "    print(\"✅ Гипотеза подтверждается: чем сильнее команда, тем больше голов забивают нападающие.\")\n",
    "else:\n",
    "    print(\"❌ Гипотеза не подтверждается: статистически значимой зависимости нет.\")"
   ]
  },
  {
   "cell_type": "code",
   "execution_count": null,
   "id": "a5742c57-3c26-47d4-9f5e-c1ea2caf3730",
   "metadata": {},
   "outputs": [],
   "source": [
    "# Мы видим, что гипотеза не подтверждается"
   ]
  },
  {
   "cell_type": "code",
   "execution_count": null,
   "id": "de482ec1-f121-4113-9ea6-b40080a58802",
   "metadata": {},
   "outputs": [],
   "source": [
    "# Гипотеза 3: существуют корреляция между забитыми мячами и характеристиками продвижения\n",
    "# У нас в таблице есть значения PrC, PrP, PrR - количество выносов, пасов и пробежек, которые продвигали команду вперёд. Мы добавим к этим\n",
    "# характеристикам стандартные G-PK и Ast, чтобы посмотреть, как они коррелируют между собой"
   ]
  },
  {
   "cell_type": "code",
   "execution_count": 104,
   "id": "5964b1cc-378e-4340-a022-763ae83092fa",
   "metadata": {},
   "outputs": [
    {
     "data": {
      "image/png": "[encoded data removed]",
      "text/plain": [
       "<Figure size 800x600 with 2 Axes>"
      ]
     },
     "metadata": {},
     "output_type": "display_data"
    }
   ],
   "source": [
    "columns = ['Gls', 'PK', 'Ast', 'PrgC', 'PrgP', 'PrgR']\n",
    "df_corr = data_players[columns].dropna()\n",
    "df_corr['Gls_no_PK'] = df_corr['Gls'] - df_corr['PK']\n",
    "\n",
    "# Построение корреляционной матрицы\n",
    "corr_matrix = df_corr[['Gls_no_PK', 'Ast', 'PrgC', 'PrgP', 'PrgR']].corr()\n",
    "\n",
    "# График\n",
    "plt.figure(figsize=(8, 6))\n",
    "sns.heatmap(corr_matrix, annot=True, cmap=\"Blues\", fmt=\".2f\")\n",
    "plt.title(\"Корреляционная матрица: результативность и продвижение мяча\")\n",
    "plt.tight_layout()\n",
    "plt.show()"
   ]
  },
  {
   "cell_type": "code",
   "execution_count": 106,
   "id": "9282e6bc-13ff-430f-9fa6-7e4c64bd57c2",
   "metadata": {},
   "outputs": [
    {
     "data": {
      "text/html": [
       "<div>\n",
       "<style scoped>\n",
       "    .dataframe tbody tr th:only-of-type {\n",
       "        vertical-align: middle;\n",
       "    }\n",
       "\n",
       "    .dataframe tbody tr th {\n",
       "        vertical-align: top;\n",
       "    }\n",
       "\n",
       "    .dataframe thead th {\n",
       "        text-align: right;\n",
       "    }\n",
       "</style>\n",
       "<table border=\"1\" class=\"dataframe\">\n",
       "  <thead>\n",
       "    <tr style=\"text-align: right;\">\n",
       "      <th></th>\n",
       "      <th>Корреляция Gls_no_PK</th>\n",
       "      <th>p-value Gls_no_PK</th>\n",
       "      <th>Корреляция Ast</th>\n",
       "      <th>p-value Ast</th>\n",
       "      <th>Гипотеза Gls_no_PK</th>\n",
       "      <th>Гипотеза Ast</th>\n",
       "    </tr>\n",
       "  </thead>\n",
       "  <tbody>\n",
       "    <tr>\n",
       "      <th>PrgC</th>\n",
       "      <td>0.504227</td>\n",
       "      <td>8.336436e-184</td>\n",
       "      <td>0.691139</td>\n",
       "      <td>0.000000e+00</td>\n",
       "      <td>✅ подтверждена</td>\n",
       "      <td>✅ подтверждена</td>\n",
       "    </tr>\n",
       "    <tr>\n",
       "      <th>PrgP</th>\n",
       "      <td>0.287740</td>\n",
       "      <td>1.694402e-55</td>\n",
       "      <td>0.547678</td>\n",
       "      <td>5.537069e-223</td>\n",
       "      <td>✅ подтверждена</td>\n",
       "      <td>✅ подтверждена</td>\n",
       "    </tr>\n",
       "    <tr>\n",
       "      <th>PrgR</th>\n",
       "      <td>0.657851</td>\n",
       "      <td>0.000000e+00</td>\n",
       "      <td>0.730579</td>\n",
       "      <td>0.000000e+00</td>\n",
       "      <td>✅ подтверждена</td>\n",
       "      <td>✅ подтверждена</td>\n",
       "    </tr>\n",
       "  </tbody>\n",
       "</table>\n",
       "</div>"
      ],
      "text/plain": [
       "      Корреляция Gls_no_PK  p-value Gls_no_PK  Корреляция Ast    p-value Ast  \\\n",
       "PrgC              0.504227      8.336436e-184        0.691139   0.000000e+00   \n",
       "PrgP              0.287740       1.694402e-55        0.547678  5.537069e-223   \n",
       "PrgR              0.657851       0.000000e+00        0.730579   0.000000e+00   \n",
       "\n",
       "     Гипотеза Gls_no_PK    Гипотеза Ast  \n",
       "PrgC     ✅ подтверждена  ✅ подтверждена  \n",
       "PrgP     ✅ подтверждена  ✅ подтверждена  \n",
       "PrgR     ✅ подтверждена  ✅ подтверждена  "
      ]
     },
     "execution_count": 106,
     "metadata": {},
     "output_type": "execute_result"
    }
   ],
   "source": [
    "correlation_results = {}\n",
    "goal_eff = df_corr['Gls_no_PK']\n",
    "ast = df_corr['Ast']\n",
    "\n",
    "for var in ['PrgC', 'PrgP', 'PrgR']:\n",
    "    r_goal, p_goal = pearsonr(goal_eff, df_corr[var])\n",
    "    r_ast, p_ast = pearsonr(ast, df_corr[var])\n",
    "    correlation_results[var] = {\n",
    "        'r_goal': r_goal,\n",
    "        'p_goal': p_goal,\n",
    "        'r_ast': r_ast,\n",
    "        'p_ast': p_ast\n",
    "    }\n",
    "\n",
    "correlation_df = pd.DataFrame(correlation_results).T\n",
    "correlation_df.columns = [\n",
    "    'Корреляция Gls_no_PK', 'p-value Gls_no_PK',\n",
    "    'Корреляция Ast', 'p-value Ast'\n",
    "]\n",
    "\n",
    "alpha = 0.05\n",
    "def is_significant(p):\n",
    "    return \"✅ подтверждена\" if p < alpha else \"❌ не подтверждена\"\n",
    "\n",
    "correlation_df[\"Гипотеза Gls_no_PK\"] = correlation_df[\"p-value Gls_no_PK\"].apply(is_significant)\n",
    "correlation_df[\"Гипотеза Ast\"] = correlation_df[\"p-value Ast\"].apply(is_significant)\n",
    "\n",
    "correlation_df"
   ]
  },
  {
   "cell_type": "code",
   "execution_count": null,
   "id": "68f60a8a-b744-43a3-8118-5e10e565174b",
   "metadata": {},
   "outputs": [],
   "source": [
    "# Можем отметить, что проходы вперёд и выносы хорошо коррелируют между собой. Обратим внимание на корреляцию голов, ассистов и параметров продвижения:\n",
    "# Видим, что корреляция параметров продвижения с ассистами сильнее, чем с голами. Это может навести на следующую гипотезу"
   ]
  },
  {
   "cell_type": "code",
   "execution_count": null,
   "id": "a0643ed9-cfe3-4ae0-9600-76578b02b1e4",
   "metadata": {},
   "outputs": [],
   "source": [
    "# Гипотеза 4: Сумма параметров продвижения можно рассматривать, как основной параметр сравнения защитников\n",
    "# Почему именно защитники? Задача нападающих - забивать голы, задача вратаря - защищать ворота. А вот защитники - должны заниматься именно выносамм\n",
    "# пасами и пробежками, чтобы доставить мяч до нападающих. Поэтому для них было бы неплохо придумать характеристику сравнения"
   ]
  },
  {
   "cell_type": "code",
   "execution_count": null,
   "id": "421c18fb-8999-43a9-b204-c438991f8986",
   "metadata": {},
   "outputs": [],
   "source": [
    "# Сначала введём параметр Sum Progress Activity On Match (SPAOM) = (PrgC + PrP + PrgR) * 90 / Min"
   ]
  },
  {
   "cell_type": "code",
   "execution_count": 107,
   "id": "1a59ad01-902d-432c-8461-c5ddd4e6f118",
   "metadata": {},
   "outputs": [
    {
     "data": {
      "text/html": [
       "<div>\n",
       "<style scoped>\n",
       "    .dataframe tbody tr th:only-of-type {\n",
       "        vertical-align: middle;\n",
       "    }\n",
       "\n",
       "    .dataframe tbody tr th {\n",
       "        vertical-align: top;\n",
       "    }\n",
       "\n",
       "    .dataframe thead th {\n",
       "        text-align: right;\n",
       "    }\n",
       "</style>\n",
       "<table border=\"1\" class=\"dataframe\">\n",
       "  <thead>\n",
       "    <tr style=\"text-align: right;\">\n",
       "      <th></th>\n",
       "      <th>Rk</th>\n",
       "      <th>Player</th>\n",
       "      <th>Nation</th>\n",
       "      <th>Pos</th>\n",
       "      <th>Team</th>\n",
       "      <th>Comp</th>\n",
       "      <th>Age</th>\n",
       "      <th>Born</th>\n",
       "      <th>MP</th>\n",
       "      <th>Starts</th>\n",
       "      <th>Min</th>\n",
       "      <th>90s</th>\n",
       "      <th>Gls</th>\n",
       "      <th>Ast</th>\n",
       "      <th>G+A</th>\n",
       "      <th>G-PK</th>\n",
       "      <th>PK</th>\n",
       "      <th>PKatt</th>\n",
       "      <th>CrdY</th>\n",
       "      <th>CrdR</th>\n",
       "      <th>xG</th>\n",
       "      <th>npxG</th>\n",
       "      <th>xAG</th>\n",
       "      <th>npxG+xAG</th>\n",
       "      <th>PrgC</th>\n",
       "      <th>PrgP</th>\n",
       "      <th>PrgR</th>\n",
       "      <th>Gls_90</th>\n",
       "      <th>Ast_90</th>\n",
       "      <th>G+A_90</th>\n",
       "      <th>G-PK_90</th>\n",
       "      <th>G+A-PK_90</th>\n",
       "      <th>xG_90</th>\n",
       "      <th>xAG_90</th>\n",
       "      <th>xG+xAG_90</th>\n",
       "      <th>npxG_90</th>\n",
       "      <th>npxG+xAG_90</th>\n",
       "      <th>is_better</th>\n",
       "      <th>SPAOM</th>\n",
       "    </tr>\n",
       "  </thead>\n",
       "  <tbody>\n",
       "    <tr>\n",
       "      <th>0</th>\n",
       "      <td>1</td>\n",
       "      <td>Max Aarons</td>\n",
       "      <td>eng ENG</td>\n",
       "      <td>DF</td>\n",
       "      <td>Bournemouth</td>\n",
       "      <td>eng Premier League</td>\n",
       "      <td>23.0</td>\n",
       "      <td>2000.0</td>\n",
       "      <td>20</td>\n",
       "      <td>13</td>\n",
       "      <td>1237</td>\n",
       "      <td>13.7</td>\n",
       "      <td>0</td>\n",
       "      <td>1</td>\n",
       "      <td>1</td>\n",
       "      <td>0</td>\n",
       "      <td>0</td>\n",
       "      <td>0</td>\n",
       "      <td>1</td>\n",
       "      <td>0</td>\n",
       "      <td>0.0</td>\n",
       "      <td>0.0</td>\n",
       "      <td>0.8</td>\n",
       "      <td>0.9</td>\n",
       "      <td>22.0</td>\n",
       "      <td>43.0</td>\n",
       "      <td>26.0</td>\n",
       "      <td>0.00</td>\n",
       "      <td>0.07</td>\n",
       "      <td>0.07</td>\n",
       "      <td>0.00</td>\n",
       "      <td>0.07</td>\n",
       "      <td>0.00</td>\n",
       "      <td>0.06</td>\n",
       "      <td>0.06</td>\n",
       "      <td>0.00</td>\n",
       "      <td>0.06</td>\n",
       "      <td>True</td>\n",
       "      <td>6.620857</td>\n",
       "    </tr>\n",
       "    <tr>\n",
       "      <th>1</th>\n",
       "      <td>2</td>\n",
       "      <td>Brenden Aaronson</td>\n",
       "      <td>us USA</td>\n",
       "      <td>FW, MF</td>\n",
       "      <td>Union Berlin</td>\n",
       "      <td>de Bundesliga</td>\n",
       "      <td>22.0</td>\n",
       "      <td>2000.0</td>\n",
       "      <td>30</td>\n",
       "      <td>14</td>\n",
       "      <td>1267</td>\n",
       "      <td>14.1</td>\n",
       "      <td>2</td>\n",
       "      <td>2</td>\n",
       "      <td>4</td>\n",
       "      <td>2</td>\n",
       "      <td>0</td>\n",
       "      <td>0</td>\n",
       "      <td>3</td>\n",
       "      <td>1</td>\n",
       "      <td>2.0</td>\n",
       "      <td>2.0</td>\n",
       "      <td>1.9</td>\n",
       "      <td>3.8</td>\n",
       "      <td>37.0</td>\n",
       "      <td>56.0</td>\n",
       "      <td>91.0</td>\n",
       "      <td>0.14</td>\n",
       "      <td>0.14</td>\n",
       "      <td>0.28</td>\n",
       "      <td>0.14</td>\n",
       "      <td>0.28</td>\n",
       "      <td>0.14</td>\n",
       "      <td>0.13</td>\n",
       "      <td>0.27</td>\n",
       "      <td>0.14</td>\n",
       "      <td>0.27</td>\n",
       "      <td>True</td>\n",
       "      <td>13.070245</td>\n",
       "    </tr>\n",
       "    <tr>\n",
       "      <th>2</th>\n",
       "      <td>3</td>\n",
       "      <td>Paxten Aaronson</td>\n",
       "      <td>us USA</td>\n",
       "      <td>MF</td>\n",
       "      <td>Eint Frankfurt</td>\n",
       "      <td>de Bundesliga</td>\n",
       "      <td>19.0</td>\n",
       "      <td>2003.0</td>\n",
       "      <td>7</td>\n",
       "      <td>1</td>\n",
       "      <td>101</td>\n",
       "      <td>1.1</td>\n",
       "      <td>0</td>\n",
       "      <td>1</td>\n",
       "      <td>1</td>\n",
       "      <td>0</td>\n",
       "      <td>0</td>\n",
       "      <td>0</td>\n",
       "      <td>0</td>\n",
       "      <td>0</td>\n",
       "      <td>0.1</td>\n",
       "      <td>0.1</td>\n",
       "      <td>0.1</td>\n",
       "      <td>0.2</td>\n",
       "      <td>2.0</td>\n",
       "      <td>5.0</td>\n",
       "      <td>7.0</td>\n",
       "      <td>0.00</td>\n",
       "      <td>0.89</td>\n",
       "      <td>0.89</td>\n",
       "      <td>0.00</td>\n",
       "      <td>0.89</td>\n",
       "      <td>0.11</td>\n",
       "      <td>0.07</td>\n",
       "      <td>0.19</td>\n",
       "      <td>0.11</td>\n",
       "      <td>0.19</td>\n",
       "      <td>True</td>\n",
       "      <td>12.475248</td>\n",
       "    </tr>\n",
       "    <tr>\n",
       "      <th>3</th>\n",
       "      <td>4</td>\n",
       "      <td>Keyliane Abdallah</td>\n",
       "      <td>fr FRA</td>\n",
       "      <td>FW</td>\n",
       "      <td>Marseille</td>\n",
       "      <td>fr Ligue 1</td>\n",
       "      <td>17.0</td>\n",
       "      <td>2006.0</td>\n",
       "      <td>1</td>\n",
       "      <td>0</td>\n",
       "      <td>4</td>\n",
       "      <td>0.0</td>\n",
       "      <td>0</td>\n",
       "      <td>0</td>\n",
       "      <td>0</td>\n",
       "      <td>0</td>\n",
       "      <td>0</td>\n",
       "      <td>0</td>\n",
       "      <td>0</td>\n",
       "      <td>0</td>\n",
       "      <td>0.0</td>\n",
       "      <td>0.0</td>\n",
       "      <td>0.0</td>\n",
       "      <td>0.0</td>\n",
       "      <td>0.0</td>\n",
       "      <td>0.0</td>\n",
       "      <td>0.0</td>\n",
       "      <td>0.00</td>\n",
       "      <td>0.00</td>\n",
       "      <td>0.00</td>\n",
       "      <td>0.00</td>\n",
       "      <td>0.00</td>\n",
       "      <td>0.00</td>\n",
       "      <td>0.00</td>\n",
       "      <td>0.00</td>\n",
       "      <td>0.00</td>\n",
       "      <td>0.00</td>\n",
       "      <td>False</td>\n",
       "      <td>0.000000</td>\n",
       "    </tr>\n",
       "    <tr>\n",
       "      <th>4</th>\n",
       "      <td>5</td>\n",
       "      <td>Yunis Abdelhamid</td>\n",
       "      <td>ma MAR</td>\n",
       "      <td>DF</td>\n",
       "      <td>Reims</td>\n",
       "      <td>fr Ligue 1</td>\n",
       "      <td>35.0</td>\n",
       "      <td>1987.0</td>\n",
       "      <td>31</td>\n",
       "      <td>31</td>\n",
       "      <td>2781</td>\n",
       "      <td>30.9</td>\n",
       "      <td>4</td>\n",
       "      <td>0</td>\n",
       "      <td>4</td>\n",
       "      <td>3</td>\n",
       "      <td>1</td>\n",
       "      <td>1</td>\n",
       "      <td>5</td>\n",
       "      <td>0</td>\n",
       "      <td>3.4</td>\n",
       "      <td>2.6</td>\n",
       "      <td>0.3</td>\n",
       "      <td>2.9</td>\n",
       "      <td>36.0</td>\n",
       "      <td>137.0</td>\n",
       "      <td>9.0</td>\n",
       "      <td>0.13</td>\n",
       "      <td>0.00</td>\n",
       "      <td>0.13</td>\n",
       "      <td>0.10</td>\n",
       "      <td>0.10</td>\n",
       "      <td>0.11</td>\n",
       "      <td>0.01</td>\n",
       "      <td>0.12</td>\n",
       "      <td>0.09</td>\n",
       "      <td>0.09</td>\n",
       "      <td>True</td>\n",
       "      <td>5.889968</td>\n",
       "    </tr>\n",
       "  </tbody>\n",
       "</table>\n",
       "</div>"
      ],
      "text/plain": [
       "   Rk             Player   Nation     Pos            Team                Comp  \\\n",
       "0   1         Max Aarons  eng ENG      DF     Bournemouth  eng Premier League   \n",
       "1   2   Brenden Aaronson   us USA  FW, MF    Union Berlin       de Bundesliga   \n",
       "2   3    Paxten Aaronson   us USA      MF  Eint Frankfurt       de Bundesliga   \n",
       "3   4  Keyliane Abdallah   fr FRA      FW       Marseille          fr Ligue 1   \n",
       "4   5   Yunis Abdelhamid   ma MAR      DF           Reims          fr Ligue 1   \n",
       "\n",
       "    Age    Born  MP  Starts   Min   90s  Gls  Ast  G+A  G-PK  PK  PKatt  CrdY  \\\n",
       "0  23.0  2000.0  20      13  1237  13.7    0    1    1     0   0      0     1   \n",
       "1  22.0  2000.0  30      14  1267  14.1    2    2    4     2   0      0     3   \n",
       "2  19.0  2003.0   7       1   101   1.1    0    1    1     0   0      0     0   \n",
       "3  17.0  2006.0   1       0     4   0.0    0    0    0     0   0      0     0   \n",
       "4  35.0  1987.0  31      31  2781  30.9    4    0    4     3   1      1     5   \n",
       "\n",
       "   CrdR   xG  npxG  xAG  npxG+xAG  PrgC   PrgP  PrgR  Gls_90  Ast_90  G+A_90  \\\n",
       "0     0  0.0   0.0  0.8       0.9  22.0   43.0  26.0    0.00    0.07    0.07   \n",
       "1     1  2.0   2.0  1.9       3.8  37.0   56.0  91.0    0.14    0.14    0.28   \n",
       "2     0  0.1   0.1  0.1       0.2   2.0    5.0   7.0    0.00    0.89    0.89   \n",
       "3     0  0.0   0.0  0.0       0.0   0.0    0.0   0.0    0.00    0.00    0.00   \n",
       "4     0  3.4   2.6  0.3       2.9  36.0  137.0   9.0    0.13    0.00    0.13   \n",
       "\n",
       "   G-PK_90  G+A-PK_90  xG_90  xAG_90  xG+xAG_90  npxG_90  npxG+xAG_90  \\\n",
       "0     0.00       0.07   0.00    0.06       0.06     0.00         0.06   \n",
       "1     0.14       0.28   0.14    0.13       0.27     0.14         0.27   \n",
       "2     0.00       0.89   0.11    0.07       0.19     0.11         0.19   \n",
       "3     0.00       0.00   0.00    0.00       0.00     0.00         0.00   \n",
       "4     0.10       0.10   0.11    0.01       0.12     0.09         0.09   \n",
       "\n",
       "   is_better      SPAOM  \n",
       "0       True   6.620857  \n",
       "1       True  13.070245  \n",
       "2       True  12.475248  \n",
       "3      False   0.000000  \n",
       "4       True   5.889968  "
      ]
     },
     "execution_count": 107,
     "metadata": {},
     "output_type": "execute_result"
    }
   ],
   "source": [
    "data_players['SPAOM'] = np.where(\n",
    "    data_players['Min'] >= 60, (data_players['PrgC'] + data_players['PrgP'] + data_players['PrgR']) * 90 / data_players['Min'],0)\n",
    "data_players.head()"
   ]
  },
  {
   "cell_type": "code",
   "execution_count": 108,
   "id": "094080ae-5f9c-4c07-abd8-3a522c612c7f",
   "metadata": {},
   "outputs": [
    {
     "data": {
      "text/html": [
       "<div>\n",
       "<style scoped>\n",
       "    .dataframe tbody tr th:only-of-type {\n",
       "        vertical-align: middle;\n",
       "    }\n",
       "\n",
       "    .dataframe tbody tr th {\n",
       "        vertical-align: top;\n",
       "    }\n",
       "\n",
       "    .dataframe thead th {\n",
       "        text-align: right;\n",
       "    }\n",
       "</style>\n",
       "<table border=\"1\" class=\"dataframe\">\n",
       "  <thead>\n",
       "    <tr style=\"text-align: right;\">\n",
       "      <th></th>\n",
       "      <th>Rk</th>\n",
       "      <th>Player</th>\n",
       "      <th>Nation</th>\n",
       "      <th>Pos</th>\n",
       "      <th>Team</th>\n",
       "      <th>Comp</th>\n",
       "      <th>Age</th>\n",
       "      <th>Born</th>\n",
       "      <th>MP</th>\n",
       "      <th>Starts</th>\n",
       "      <th>Min</th>\n",
       "      <th>90s</th>\n",
       "      <th>Gls</th>\n",
       "      <th>Ast</th>\n",
       "      <th>G+A</th>\n",
       "      <th>G-PK</th>\n",
       "      <th>PK</th>\n",
       "      <th>PKatt</th>\n",
       "      <th>CrdY</th>\n",
       "      <th>CrdR</th>\n",
       "      <th>xG</th>\n",
       "      <th>npxG</th>\n",
       "      <th>xAG</th>\n",
       "      <th>npxG+xAG</th>\n",
       "      <th>PrgC</th>\n",
       "      <th>PrgP</th>\n",
       "      <th>PrgR</th>\n",
       "      <th>Gls_90</th>\n",
       "      <th>Ast_90</th>\n",
       "      <th>G+A_90</th>\n",
       "      <th>G-PK_90</th>\n",
       "      <th>G+A-PK_90</th>\n",
       "      <th>xG_90</th>\n",
       "      <th>xAG_90</th>\n",
       "      <th>xG+xAG_90</th>\n",
       "      <th>npxG_90</th>\n",
       "      <th>npxG+xAG_90</th>\n",
       "      <th>is_better</th>\n",
       "      <th>SPAOM</th>\n",
       "    </tr>\n",
       "  </thead>\n",
       "  <tbody>\n",
       "    <tr>\n",
       "      <th>741</th>\n",
       "      <td>742</td>\n",
       "      <td>Jeremy Doku</td>\n",
       "      <td>be BEL</td>\n",
       "      <td>FW, MF</td>\n",
       "      <td>Manchester City</td>\n",
       "      <td>eng Premier League</td>\n",
       "      <td>21.0</td>\n",
       "      <td>2002.0</td>\n",
       "      <td>29</td>\n",
       "      <td>18</td>\n",
       "      <td>1595</td>\n",
       "      <td>17.7</td>\n",
       "      <td>3</td>\n",
       "      <td>8</td>\n",
       "      <td>11</td>\n",
       "      <td>3</td>\n",
       "      <td>0</td>\n",
       "      <td>0</td>\n",
       "      <td>3</td>\n",
       "      <td>0</td>\n",
       "      <td>2.5</td>\n",
       "      <td>2.5</td>\n",
       "      <td>4.6</td>\n",
       "      <td>7.1</td>\n",
       "      <td>218.0</td>\n",
       "      <td>57.0</td>\n",
       "      <td>295.0</td>\n",
       "      <td>0.17</td>\n",
       "      <td>0.45</td>\n",
       "      <td>0.62</td>\n",
       "      <td>0.17</td>\n",
       "      <td>0.62</td>\n",
       "      <td>0.14</td>\n",
       "      <td>0.26</td>\n",
       "      <td>0.40</td>\n",
       "      <td>0.14</td>\n",
       "      <td>0.40</td>\n",
       "      <td>True</td>\n",
       "      <td>32.163009</td>\n",
       "    </tr>\n",
       "    <tr>\n",
       "      <th>670</th>\n",
       "      <td>671</td>\n",
       "      <td>Ousmane Dembélé</td>\n",
       "      <td>fr FRA</td>\n",
       "      <td>FW, MF</td>\n",
       "      <td>Paris S-G</td>\n",
       "      <td>fr Ligue 1</td>\n",
       "      <td>26.0</td>\n",
       "      <td>1997.0</td>\n",
       "      <td>26</td>\n",
       "      <td>17</td>\n",
       "      <td>1506</td>\n",
       "      <td>16.7</td>\n",
       "      <td>3</td>\n",
       "      <td>8</td>\n",
       "      <td>11</td>\n",
       "      <td>3</td>\n",
       "      <td>0</td>\n",
       "      <td>0</td>\n",
       "      <td>0</td>\n",
       "      <td>0</td>\n",
       "      <td>4.4</td>\n",
       "      <td>4.4</td>\n",
       "      <td>6.7</td>\n",
       "      <td>11.1</td>\n",
       "      <td>160.0</td>\n",
       "      <td>133.0</td>\n",
       "      <td>247.0</td>\n",
       "      <td>0.18</td>\n",
       "      <td>0.48</td>\n",
       "      <td>0.66</td>\n",
       "      <td>0.18</td>\n",
       "      <td>0.66</td>\n",
       "      <td>0.26</td>\n",
       "      <td>0.40</td>\n",
       "      <td>0.67</td>\n",
       "      <td>0.26</td>\n",
       "      <td>0.67</td>\n",
       "      <td>False</td>\n",
       "      <td>32.270916</td>\n",
       "    </tr>\n",
       "    <tr>\n",
       "      <th>2473</th>\n",
       "      <td>2474</td>\n",
       "      <td>Manor Solomon</td>\n",
       "      <td>il ISR</td>\n",
       "      <td>FW</td>\n",
       "      <td>Tottenham</td>\n",
       "      <td>eng Premier League</td>\n",
       "      <td>24.0</td>\n",
       "      <td>1999.0</td>\n",
       "      <td>5</td>\n",
       "      <td>2</td>\n",
       "      <td>199</td>\n",
       "      <td>2.2</td>\n",
       "      <td>0</td>\n",
       "      <td>2</td>\n",
       "      <td>2</td>\n",
       "      <td>0</td>\n",
       "      <td>0</td>\n",
       "      <td>0</td>\n",
       "      <td>1</td>\n",
       "      <td>0</td>\n",
       "      <td>0.4</td>\n",
       "      <td>0.4</td>\n",
       "      <td>0.8</td>\n",
       "      <td>1.2</td>\n",
       "      <td>17.0</td>\n",
       "      <td>11.0</td>\n",
       "      <td>44.0</td>\n",
       "      <td>0.00</td>\n",
       "      <td>0.90</td>\n",
       "      <td>0.90</td>\n",
       "      <td>0.00</td>\n",
       "      <td>0.90</td>\n",
       "      <td>0.19</td>\n",
       "      <td>0.38</td>\n",
       "      <td>0.56</td>\n",
       "      <td>0.19</td>\n",
       "      <td>0.56</td>\n",
       "      <td>True</td>\n",
       "      <td>32.562814</td>\n",
       "    </tr>\n",
       "    <tr>\n",
       "      <th>975</th>\n",
       "      <td>976</td>\n",
       "      <td>Bryan Gil</td>\n",
       "      <td>es ESP</td>\n",
       "      <td>FW, MF</td>\n",
       "      <td>Tottenham</td>\n",
       "      <td>eng Premier League</td>\n",
       "      <td>22.0</td>\n",
       "      <td>2001.0</td>\n",
       "      <td>11</td>\n",
       "      <td>2</td>\n",
       "      <td>209</td>\n",
       "      <td>2.3</td>\n",
       "      <td>0</td>\n",
       "      <td>0</td>\n",
       "      <td>0</td>\n",
       "      <td>0</td>\n",
       "      <td>0</td>\n",
       "      <td>0</td>\n",
       "      <td>0</td>\n",
       "      <td>0</td>\n",
       "      <td>0.8</td>\n",
       "      <td>0.8</td>\n",
       "      <td>0.2</td>\n",
       "      <td>1.0</td>\n",
       "      <td>11.0</td>\n",
       "      <td>16.0</td>\n",
       "      <td>49.0</td>\n",
       "      <td>0.00</td>\n",
       "      <td>0.00</td>\n",
       "      <td>0.00</td>\n",
       "      <td>0.00</td>\n",
       "      <td>0.00</td>\n",
       "      <td>0.32</td>\n",
       "      <td>0.09</td>\n",
       "      <td>0.41</td>\n",
       "      <td>0.32</td>\n",
       "      <td>0.41</td>\n",
       "      <td>False</td>\n",
       "      <td>32.727273</td>\n",
       "    </tr>\n",
       "    <tr>\n",
       "      <th>2101</th>\n",
       "      <td>2102</td>\n",
       "      <td>Ivan Perišić</td>\n",
       "      <td>hr CRO</td>\n",
       "      <td>FW</td>\n",
       "      <td>Tottenham</td>\n",
       "      <td>eng Premier League</td>\n",
       "      <td>34.0</td>\n",
       "      <td>1989.0</td>\n",
       "      <td>5</td>\n",
       "      <td>0</td>\n",
       "      <td>103</td>\n",
       "      <td>1.1</td>\n",
       "      <td>0</td>\n",
       "      <td>1</td>\n",
       "      <td>1</td>\n",
       "      <td>0</td>\n",
       "      <td>0</td>\n",
       "      <td>0</td>\n",
       "      <td>2</td>\n",
       "      <td>0</td>\n",
       "      <td>0.1</td>\n",
       "      <td>0.1</td>\n",
       "      <td>0.9</td>\n",
       "      <td>1.0</td>\n",
       "      <td>15.0</td>\n",
       "      <td>9.0</td>\n",
       "      <td>17.0</td>\n",
       "      <td>0.00</td>\n",
       "      <td>0.87</td>\n",
       "      <td>0.87</td>\n",
       "      <td>0.00</td>\n",
       "      <td>0.87</td>\n",
       "      <td>0.10</td>\n",
       "      <td>0.75</td>\n",
       "      <td>0.85</td>\n",
       "      <td>0.10</td>\n",
       "      <td>0.85</td>\n",
       "      <td>False</td>\n",
       "      <td>35.825243</td>\n",
       "    </tr>\n",
       "  </tbody>\n",
       "</table>\n",
       "</div>"
      ],
      "text/plain": [
       "        Rk           Player  Nation     Pos             Team  \\\n",
       "741    742      Jeremy Doku  be BEL  FW, MF  Manchester City   \n",
       "670    671  Ousmane Dembélé  fr FRA  FW, MF        Paris S-G   \n",
       "2473  2474    Manor Solomon  il ISR      FW        Tottenham   \n",
       "975    976        Bryan Gil  es ESP  FW, MF        Tottenham   \n",
       "2101  2102     Ivan Perišić  hr CRO      FW        Tottenham   \n",
       "\n",
       "                    Comp   Age    Born  MP  Starts   Min   90s  Gls  Ast  G+A  \\\n",
       "741   eng Premier League  21.0  2002.0  29      18  1595  17.7    3    8   11   \n",
       "670           fr Ligue 1  26.0  1997.0  26      17  1506  16.7    3    8   11   \n",
       "2473  eng Premier League  24.0  1999.0   5       2   199   2.2    0    2    2   \n",
       "975   eng Premier League  22.0  2001.0  11       2   209   2.3    0    0    0   \n",
       "2101  eng Premier League  34.0  1989.0   5       0   103   1.1    0    1    1   \n",
       "\n",
       "      G-PK  PK  PKatt  CrdY  CrdR   xG  npxG  xAG  npxG+xAG   PrgC   PrgP  \\\n",
       "741      3   0      0     3     0  2.5   2.5  4.6       7.1  218.0   57.0   \n",
       "670      3   0      0     0     0  4.4   4.4  6.7      11.1  160.0  133.0   \n",
       "2473     0   0      0     1     0  0.4   0.4  0.8       1.2   17.0   11.0   \n",
       "975      0   0      0     0     0  0.8   0.8  0.2       1.0   11.0   16.0   \n",
       "2101     0   0      0     2     0  0.1   0.1  0.9       1.0   15.0    9.0   \n",
       "\n",
       "       PrgR  Gls_90  Ast_90  G+A_90  G-PK_90  G+A-PK_90  xG_90  xAG_90  \\\n",
       "741   295.0    0.17    0.45    0.62     0.17       0.62   0.14    0.26   \n",
       "670   247.0    0.18    0.48    0.66     0.18       0.66   0.26    0.40   \n",
       "2473   44.0    0.00    0.90    0.90     0.00       0.90   0.19    0.38   \n",
       "975    49.0    0.00    0.00    0.00     0.00       0.00   0.32    0.09   \n",
       "2101   17.0    0.00    0.87    0.87     0.00       0.87   0.10    0.75   \n",
       "\n",
       "      xG+xAG_90  npxG_90  npxG+xAG_90  is_better      SPAOM  \n",
       "741        0.40     0.14         0.40       True  32.163009  \n",
       "670        0.67     0.26         0.67      False  32.270916  \n",
       "2473       0.56     0.19         0.56       True  32.562814  \n",
       "975        0.41     0.32         0.41      False  32.727273  \n",
       "2101       0.85     0.10         0.85      False  35.825243  "
      ]
     },
     "execution_count": 108,
     "metadata": {},
     "output_type": "execute_result"
    }
   ],
   "source": [
    "data_players.sort_values(['SPAOM']).tail()"
   ]
  },
  {
   "cell_type": "code",
   "execution_count": 109,
   "id": "604c9869-d2f4-474a-af66-5f63cd100c46",
   "metadata": {},
   "outputs": [
    {
     "data": {
      "text/html": [
       "<div>\n",
       "<style scoped>\n",
       "    .dataframe tbody tr th:only-of-type {\n",
       "        vertical-align: middle;\n",
       "    }\n",
       "\n",
       "    .dataframe tbody tr th {\n",
       "        vertical-align: top;\n",
       "    }\n",
       "\n",
       "    .dataframe thead th {\n",
       "        text-align: right;\n",
       "    }\n",
       "</style>\n",
       "<table border=\"1\" class=\"dataframe\">\n",
       "  <thead>\n",
       "    <tr style=\"text-align: right;\">\n",
       "      <th></th>\n",
       "      <th>id</th>\n",
       "      <th>League</th>\n",
       "      <th>Team</th>\n",
       "      <th>Team_Rus</th>\n",
       "      <th>Plays</th>\n",
       "      <th>Wins</th>\n",
       "      <th>Draws</th>\n",
       "      <th>Falls</th>\n",
       "      <th>Goals</th>\n",
       "      <th>Miss goals</th>\n",
       "      <th>Different</th>\n",
       "      <th>Score</th>\n",
       "      <th>Rank</th>\n",
       "      <th>p_better</th>\n",
       "      <th>DF_Percentage</th>\n",
       "      <th>FW, MF_Percentage</th>\n",
       "      <th>MF_Percentage</th>\n",
       "      <th>FW_Percentage</th>\n",
       "      <th>DF, FW_Percentage</th>\n",
       "      <th>GK_Percentage</th>\n",
       "      <th>DF, MF_Percentage</th>\n",
       "      <th>DF_SPAOM</th>\n",
       "      <th>FW, MF_SPAOM</th>\n",
       "      <th>MF_SPAOM</th>\n",
       "      <th>FW_SPAOM</th>\n",
       "      <th>DF, FW_SPAOM</th>\n",
       "      <th>GK_SPAOM</th>\n",
       "      <th>DF, MF_SPAOM</th>\n",
       "    </tr>\n",
       "  </thead>\n",
       "  <tbody>\n",
       "    <tr>\n",
       "      <th>0</th>\n",
       "      <td>1</td>\n",
       "      <td>eng Premier League</td>\n",
       "      <td>Manchester City</td>\n",
       "      <td>Манчестер Сити</td>\n",
       "      <td>38</td>\n",
       "      <td>28</td>\n",
       "      <td>7</td>\n",
       "      <td>3</td>\n",
       "      <td>96</td>\n",
       "      <td>34</td>\n",
       "      <td>62</td>\n",
       "      <td>91</td>\n",
       "      <td>1</td>\n",
       "      <td>0.391304</td>\n",
       "      <td>0.070588</td>\n",
       "      <td>0.482353</td>\n",
       "      <td>0.152941</td>\n",
       "      <td>0.235294</td>\n",
       "      <td>0.0</td>\n",
       "      <td>0.0</td>\n",
       "      <td>0.058824</td>\n",
       "      <td>8.010781</td>\n",
       "      <td>18.384636</td>\n",
       "      <td>11.423276</td>\n",
       "      <td>6.594828</td>\n",
       "      <td>0.0</td>\n",
       "      <td>0.064632</td>\n",
       "      <td>9.191153</td>\n",
       "    </tr>\n",
       "    <tr>\n",
       "      <th>1</th>\n",
       "      <td>2</td>\n",
       "      <td>eng Premier League</td>\n",
       "      <td>Arsenal</td>\n",
       "      <td>Арсенал</td>\n",
       "      <td>38</td>\n",
       "      <td>28</td>\n",
       "      <td>5</td>\n",
       "      <td>5</td>\n",
       "      <td>91</td>\n",
       "      <td>29</td>\n",
       "      <td>62</td>\n",
       "      <td>89</td>\n",
       "      <td>2</td>\n",
       "      <td>0.434783</td>\n",
       "      <td>0.184211</td>\n",
       "      <td>0.315789</td>\n",
       "      <td>0.171053</td>\n",
       "      <td>0.328947</td>\n",
       "      <td>0.0</td>\n",
       "      <td>0.0</td>\n",
       "      <td>0.000000</td>\n",
       "      <td>10.552172</td>\n",
       "      <td>15.090235</td>\n",
       "      <td>10.975124</td>\n",
       "      <td>14.317578</td>\n",
       "      <td>0.0</td>\n",
       "      <td>0.197917</td>\n",
       "      <td>11.078680</td>\n",
       "    </tr>\n",
       "    <tr>\n",
       "      <th>2</th>\n",
       "      <td>3</td>\n",
       "      <td>eng Premier League</td>\n",
       "      <td>Liverpool</td>\n",
       "      <td>Ливерпуль</td>\n",
       "      <td>38</td>\n",
       "      <td>24</td>\n",
       "      <td>10</td>\n",
       "      <td>4</td>\n",
       "      <td>86</td>\n",
       "      <td>41</td>\n",
       "      <td>45</td>\n",
       "      <td>82</td>\n",
       "      <td>3</td>\n",
       "      <td>0.250000</td>\n",
       "      <td>0.148649</td>\n",
       "      <td>0.148649</td>\n",
       "      <td>0.135135</td>\n",
       "      <td>0.567568</td>\n",
       "      <td>0.0</td>\n",
       "      <td>0.0</td>\n",
       "      <td>0.000000</td>\n",
       "      <td>10.314946</td>\n",
       "      <td>16.771555</td>\n",
       "      <td>8.555603</td>\n",
       "      <td>9.904746</td>\n",
       "      <td>0.0</td>\n",
       "      <td>0.139286</td>\n",
       "      <td>0.000000</td>\n",
       "    </tr>\n",
       "    <tr>\n",
       "      <th>3</th>\n",
       "      <td>4</td>\n",
       "      <td>eng Premier League</td>\n",
       "      <td>Aston Villa</td>\n",
       "      <td>Астон Вилла</td>\n",
       "      <td>38</td>\n",
       "      <td>20</td>\n",
       "      <td>8</td>\n",
       "      <td>10</td>\n",
       "      <td>76</td>\n",
       "      <td>61</td>\n",
       "      <td>15</td>\n",
       "      <td>68</td>\n",
       "      <td>4</td>\n",
       "      <td>0.379310</td>\n",
       "      <td>0.117647</td>\n",
       "      <td>0.514706</td>\n",
       "      <td>0.088235</td>\n",
       "      <td>0.279412</td>\n",
       "      <td>0.0</td>\n",
       "      <td>0.0</td>\n",
       "      <td>0.000000</td>\n",
       "      <td>7.086011</td>\n",
       "      <td>11.082597</td>\n",
       "      <td>3.406306</td>\n",
       "      <td>3.086727</td>\n",
       "      <td>0.0</td>\n",
       "      <td>0.029851</td>\n",
       "      <td>1.776316</td>\n",
       "    </tr>\n",
       "    <tr>\n",
       "      <th>4</th>\n",
       "      <td>5</td>\n",
       "      <td>eng Premier League</td>\n",
       "      <td>Tottenham</td>\n",
       "      <td>Тоттенхэм Хотспур</td>\n",
       "      <td>38</td>\n",
       "      <td>20</td>\n",
       "      <td>6</td>\n",
       "      <td>12</td>\n",
       "      <td>74</td>\n",
       "      <td>61</td>\n",
       "      <td>13</td>\n",
       "      <td>66</td>\n",
       "      <td>5</td>\n",
       "      <td>0.392857</td>\n",
       "      <td>0.223881</td>\n",
       "      <td>0.119403</td>\n",
       "      <td>0.149254</td>\n",
       "      <td>0.507463</td>\n",
       "      <td>0.0</td>\n",
       "      <td>0.0</td>\n",
       "      <td>0.000000</td>\n",
       "      <td>6.925770</td>\n",
       "      <td>27.491442</td>\n",
       "      <td>12.182766</td>\n",
       "      <td>15.957792</td>\n",
       "      <td>0.0</td>\n",
       "      <td>0.078947</td>\n",
       "      <td>8.910891</td>\n",
       "    </tr>\n",
       "  </tbody>\n",
       "</table>\n",
       "</div>"
      ],
      "text/plain": [
       "   id              League             Team           Team_Rus  Plays  Wins  \\\n",
       "0   1  eng Premier League  Manchester City     Манчестер Сити     38    28   \n",
       "1   2  eng Premier League          Arsenal            Арсенал     38    28   \n",
       "2   3  eng Premier League        Liverpool          Ливерпуль     38    24   \n",
       "3   4  eng Premier League      Aston Villa        Астон Вилла     38    20   \n",
       "4   5  eng Premier League        Tottenham  Тоттенхэм Хотспур     38    20   \n",
       "\n",
       "   Draws  Falls  Goals  Miss goals Different  Score  Rank  p_better  \\\n",
       "0      7      3     96          34        62     91     1  0.391304   \n",
       "1      5      5     91          29        62     89     2  0.434783   \n",
       "2     10      4     86          41        45     82     3  0.250000   \n",
       "3      8     10     76          61        15     68     4  0.379310   \n",
       "4      6     12     74          61        13     66     5  0.392857   \n",
       "\n",
       "   DF_Percentage  FW, MF_Percentage  MF_Percentage  FW_Percentage  \\\n",
       "0       0.070588           0.482353       0.152941       0.235294   \n",
       "1       0.184211           0.315789       0.171053       0.328947   \n",
       "2       0.148649           0.148649       0.135135       0.567568   \n",
       "3       0.117647           0.514706       0.088235       0.279412   \n",
       "4       0.223881           0.119403       0.149254       0.507463   \n",
       "\n",
       "   DF, FW_Percentage  GK_Percentage  DF, MF_Percentage   DF_SPAOM  \\\n",
       "0                0.0            0.0           0.058824   8.010781   \n",
       "1                0.0            0.0           0.000000  10.552172   \n",
       "2                0.0            0.0           0.000000  10.314946   \n",
       "3                0.0            0.0           0.000000   7.086011   \n",
       "4                0.0            0.0           0.000000   6.925770   \n",
       "\n",
       "   FW, MF_SPAOM   MF_SPAOM   FW_SPAOM  DF, FW_SPAOM  GK_SPAOM  DF, MF_SPAOM  \n",
       "0     18.384636  11.423276   6.594828           0.0  0.064632      9.191153  \n",
       "1     15.090235  10.975124  14.317578           0.0  0.197917     11.078680  \n",
       "2     16.771555   8.555603   9.904746           0.0  0.139286      0.000000  \n",
       "3     11.082597   3.406306   3.086727           0.0  0.029851      1.776316  \n",
       "4     27.491442  12.182766  15.957792           0.0  0.078947      8.910891  "
      ]
     },
     "execution_count": 109,
     "metadata": {},
     "output_type": "execute_result"
    }
   ],
   "source": [
    "for pos in positions_list:\n",
    "    players_at_pos = data_players[data_players['Pos'] == pos]\n",
    "    team_spaom = players_at_pos.groupby('Team')['SPAOM'].mean()\n",
    "    column_name = f'{pos}_SPAOM'\n",
    "    data_teams[column_name] = data_teams['Team'].map(team_spaom)\n",
    "data_teams.fillna(value=0, inplace=True)\n",
    "data_teams.head()"
   ]
  },
  {
   "cell_type": "code",
   "execution_count": 110,
   "id": "d5e1f5c3-ce63-414a-9424-958f00c22eb4",
   "metadata": {},
   "outputs": [
    {
     "data": {
      "text/plain": [
       "Index(['id', 'League', 'Team', 'Team_Rus', 'Plays', 'Wins', 'Draws', 'Falls',\n",
       "       'Goals', 'Miss goals', 'Different', 'Score', 'Rank', 'p_better',\n",
       "       'DF_Percentage', 'FW, MF_Percentage', 'MF_Percentage', 'FW_Percentage',\n",
       "       'DF, FW_Percentage', 'GK_Percentage', 'DF, MF_Percentage', 'DF_SPAOM',\n",
       "       'FW, MF_SPAOM', 'MF_SPAOM', 'FW_SPAOM', 'DF, FW_SPAOM', 'GK_SPAOM',\n",
       "       'DF, MF_SPAOM'],\n",
       "      dtype='object')"
      ]
     },
     "execution_count": 110,
     "metadata": {},
     "output_type": "execute_result"
    }
   ],
   "source": [
    "data_teams.columns"
   ]
  },
  {
   "cell_type": "code",
   "execution_count": 111,
   "id": "47c51155-8fd7-4f97-b1fa-a37df7f05486",
   "metadata": {},
   "outputs": [
    {
     "data": {
      "application/vnd.plotly.v1+json": {
       "config": {
        "plotlyServerURL": "https://plot.ly"
       },
       "data": [
        {
         "alignmentgroup": "True",
         "hovertemplate": "Position=GK_SPAOM<br>Место=%{x}<br>Доля голов (%)=%{y}<extra></extra>",
         "legendgroup": "GK_SPAOM",
         "marker": {
          "color": "#636efa",
          "line": {
           "color": "white",
           "width": 1
          },
          "pattern": {
           "shape": ""
          }
         },
         "name": "GK_SPAOM",
         "offsetgroup": "GK_SPAOM",
         "orientation": "v",
         "showlegend": true,
         "textposition": "auto",
         "type": "bar",
         "visible": "legendonly",
         "x": [
          1,
          2,
          3,
          4,
          5,
          6,
          7,
          8,
          9,
          10,
          11,
          12,
          13,
          14,
          15,
          16,
          17,
          18,
          19,
          20
         ],
         "xaxis": "x",
         "y": [
          0.015956694412708774,
          0.05482142857142856,
          0.05436690807064025,
          0.034010818587765446,
          0.030822447305313645,
          0.0231346762310738,
          0.04237956451063702,
          0.18033927794693344,
          0.044575401261391735,
          0.01764705882352941,
          0.047138900636282254,
          0.007133704735376045,
          0.003333333333333333,
          0.023344130036048134,
          0.03987240829346093,
          0.09926891262617903,
          0.030980392156862747,
          0.04710553739756525,
          0.05714285714285714,
          0.00980392156862745
         ],
         "yaxis": "y"
        },
        {
         "alignmentgroup": "True",
         "hovertemplate": "Position=DF_SPAOM<br>Место=%{x}<br>Доля голов (%)=%{y}<extra></extra>",
         "legendgroup": "DF_SPAOM",
         "marker": {
          "color": "#EF553B",
          "line": {
           "color": "white",
           "width": 1
          },
          "pattern": {
           "shape": ""
          }
         },
         "name": "DF_SPAOM",
         "offsetgroup": "DF_SPAOM",
         "orientation": "v",
         "showlegend": true,
         "textposition": "auto",
         "type": "bar",
         "visible": true,
         "x": [
          1,
          2,
          3,
          4,
          5,
          6,
          7,
          8,
          9,
          10,
          11,
          12,
          13,
          14,
          15,
          16,
          17,
          18,
          19,
          20
         ],
         "xaxis": "x",
         "y": [
          10.194822494247976,
          9.150877021221218,
          6.935349035530043,
          8.018504296483968,
          7.3592825478490935,
          7.125334928294689,
          6.38920502827265,
          7.5619996589224785,
          5.382014677806489,
          6.89721168335862,
          6.875036032855826,
          5.512366376770016,
          4.9951212746219,
          5.819525367824541,
          5.318002059050878,
          5.534151260646743,
          5.5836383236311375,
          5.665006057396793,
          5.275408845635378,
          3.8925682023183015
         ],
         "yaxis": "y"
        },
        {
         "alignmentgroup": "True",
         "hovertemplate": "Position=DF, MF_SPAOM<br>Место=%{x}<br>Доля голов (%)=%{y}<extra></extra>",
         "legendgroup": "DF, MF_SPAOM",
         "marker": {
          "color": "#00cc96",
          "line": {
           "color": "white",
           "width": 1
          },
          "pattern": {
           "shape": ""
          }
         },
         "name": "DF, MF_SPAOM",
         "offsetgroup": "DF, MF_SPAOM",
         "orientation": "v",
         "showlegend": true,
         "textposition": "auto",
         "type": "bar",
         "visible": "legendonly",
         "x": [
          1,
          2,
          3,
          4,
          5,
          6,
          7,
          8,
          9,
          10,
          11,
          12,
          13,
          14,
          15,
          16,
          17,
          18,
          19,
          20
         ],
         "xaxis": "x",
         "y": [
          6.828641488871722,
          8.480437267829748,
          5.602977280475004,
          5.209035864562646,
          5.500355996182494,
          4.913464368779565,
          2.5630546955624354,
          6.298087657382402,
          5.630802593834537,
          2.8625981974091075,
          5.611474750362286,
          6.457612769553512,
          6.869205568441002,
          4.919830797262685,
          9.293304538697717,
          4.576199046104219,
          8.365196854522747,
          7.625975011690461,
          3.9901528183957597,
          5.21138766419005
         ],
         "yaxis": "y"
        },
        {
         "alignmentgroup": "True",
         "hovertemplate": "Position=MF_SPAOM<br>Место=%{x}<br>Доля голов (%)=%{y}<extra></extra>",
         "legendgroup": "MF_SPAOM",
         "marker": {
          "color": "#ab63fa",
          "line": {
           "color": "white",
           "width": 1
          },
          "pattern": {
           "shape": ""
          }
         },
         "name": "MF_SPAOM",
         "offsetgroup": "MF_SPAOM",
         "orientation": "v",
         "showlegend": true,
         "textposition": "auto",
         "type": "bar",
         "visible": "legendonly",
         "x": [
          1,
          2,
          3,
          4,
          5,
          6,
          7,
          8,
          9,
          10,
          11,
          12,
          13,
          14,
          15,
          16,
          17,
          18,
          19,
          20
         ],
         "xaxis": "x",
         "y": [
          10.582841313786465,
          8.698583085175597,
          8.76938493446918,
          8.467762497145069,
          8.79936508746697,
          8.182005603357265,
          9.024166851943852,
          6.64925513875188,
          7.197861691179395,
          6.28590429233456,
          6.579507888739274,
          6.0862645264049835,
          7.205287492276939,
          7.377921195380978,
          6.610671570092019,
          7.444780201753495,
          6.165214912930777,
          5.717135842151813,
          6.60129003295933,
          5.8547588217960325
         ],
         "yaxis": "y"
        },
        {
         "alignmentgroup": "True",
         "hovertemplate": "Position=FW, MF_SPAOM<br>Место=%{x}<br>Доля голов (%)=%{y}<extra></extra>",
         "legendgroup": "FW, MF_SPAOM",
         "marker": {
          "color": "#FFA15A",
          "line": {
           "color": "white",
           "width": 1
          },
          "pattern": {
           "shape": ""
          }
         },
         "name": "FW, MF_SPAOM",
         "offsetgroup": "FW, MF_SPAOM",
         "orientation": "v",
         "showlegend": true,
         "textposition": "auto",
         "type": "bar",
         "visible": "legendonly",
         "x": [
          1,
          2,
          3,
          4,
          5,
          6,
          7,
          8,
          9,
          10,
          11,
          12,
          13,
          14,
          15,
          16,
          17,
          18,
          19,
          20
         ],
         "xaxis": "x",
         "y": [
          15.687459162384135,
          14.457135721223944,
          14.297676579330673,
          13.8316584124662,
          15.423797624296757,
          13.596379846478078,
          14.401039302482905,
          13.091588700827042,
          12.586850016126247,
          12.194425908554587,
          12.619003715867297,
          11.671767466344331,
          12.95798688406182,
          10.78079759719597,
          11.233750402237437,
          10.627503062559574,
          10.851574185536638,
          9.985639011558046,
          11.342507084153889,
          9.696954070356243
         ],
         "yaxis": "y"
        },
        {
         "alignmentgroup": "True",
         "hovertemplate": "Position=FW_SPAOM<br>Место=%{x}<br>Доля голов (%)=%{y}<extra></extra>",
         "legendgroup": "FW_SPAOM",
         "marker": {
          "color": "#19d3f3",
          "line": {
           "color": "white",
           "width": 1
          },
          "pattern": {
           "shape": ""
          }
         },
         "name": "FW_SPAOM",
         "offsetgroup": "FW_SPAOM",
         "orientation": "v",
         "showlegend": true,
         "textposition": "auto",
         "type": "bar",
         "visible": "legendonly",
         "x": [
          1,
          2,
          3,
          4,
          5,
          6,
          7,
          8,
          9,
          10,
          11,
          12,
          13,
          14,
          15,
          16,
          17,
          18,
          19,
          20
         ],
         "xaxis": "x",
         "y": [
          10.24074500996737,
          12.24505176998577,
          8.586176623756211,
          7.813482105370762,
          11.363940744993915,
          8.671299639562536,
          11.03708686916588,
          10.0841225907925,
          7.08011595021366,
          9.85452970256477,
          7.022915624421832,
          6.717616852804705,
          6.223818862915222,
          6.523149388825199,
          6.341457613706578,
          9.854902677366352,
          5.676828630919491,
          7.613432739206172,
          7.862825778466703,
          4.2111673537339
         ],
         "yaxis": "y"
        },
        {
         "alignmentgroup": "True",
         "hovertemplate": "Position=DF, FW_SPAOM<br>Место=%{x}<br>Доля голов (%)=%{y}<extra></extra>",
         "legendgroup": "DF, FW_SPAOM",
         "marker": {
          "color": "#FF6692",
          "line": {
           "color": "white",
           "width": 1
          },
          "pattern": {
           "shape": ""
          }
         },
         "name": "DF, FW_SPAOM",
         "offsetgroup": "DF, FW_SPAOM",
         "orientation": "v",
         "showlegend": true,
         "textposition": "auto",
         "type": "bar",
         "visible": "legendonly",
         "x": [
          1,
          2,
          3,
          4,
          5,
          6,
          7,
          8,
          9,
          10,
          11,
          12,
          13,
          14,
          15,
          16,
          17,
          18,
          19,
          20
         ],
         "xaxis": "x",
         "y": [
          0,
          5.13584175166161,
          7.549639025041197,
          2.0173638516179953,
          2.6862514688601644,
          2.52974945077937,
          5.729666487154544,
          3.5357142857142856,
          3.934295736643281,
          5.20102766798419,
          5.79231359034885,
          7.707482313233601,
          1.7234042553191489,
          4.090161607029648,
          2.3125,
          5.764494351443622,
          6.479779441163987,
          4.6797883922770716,
          3.411764705882353,
          3.7920621225194133
         ],
         "yaxis": "y"
        }
       ],
       "layout": {
        "autosize": true,
        "barmode": "stack",
        "legend": {
         "title": {
          "text": "Позиция"
         },
         "tracegroupgap": 0,
         "traceorder": "normal"
        },
        "template": {
         "data": {
          "bar": [
           {
            "error_x": {
             "color": "#2a3f5f"
            },
            "error_y": {
             "color": "#2a3f5f"
            },
            "marker": {
             "line": {
              "color": "#E5ECF6",
              "width": 0.5
             },
             "pattern": {
              "fillmode": "overlay",
              "size": 10,
              "solidity": 0.2
             }
            },
            "type": "bar"
           }
          ],
          "barpolar": [
           {
            "marker": {
             "line": {
              "color": "#E5ECF6",
              "width": 0.5
             },
             "pattern": {
              "fillmode": "overlay",
              "size": 10,
              "solidity": 0.2
             }
            },
            "type": "barpolar"
           }
          ],
          "carpet": [
           {
            "aaxis": {
             "endlinecolor": "#2a3f5f",
             "gridcolor": "white",
             "linecolor": "white",
             "minorgridcolor": "white",
             "startlinecolor": "#2a3f5f"
            },
            "baxis": {
             "endlinecolor": "#2a3f5f",
             "gridcolor": "white",
             "linecolor": "white",
             "minorgridcolor": "white",
             "startlinecolor": "#2a3f5f"
            },
            "type": "carpet"
           }
          ],
          "choropleth": [
           {
            "colorbar": {
             "outlinewidth": 0,
             "ticks": ""
            },
            "type": "choropleth"
           }
          ],
          "contour": [
           {
            "colorbar": {
             "outlinewidth": 0,
             "ticks": ""
            },
            "colorscale": [
             [
              0,
              "#0d0887"
             ],
             [
              0.1111111111111111,
              "#46039f"
             ],
             [
              0.2222222222222222,
              "#7201a8"
             ],
             [
              0.3333333333333333,
              "#9c179e"
             ],
             [
              0.4444444444444444,
              "#bd3786"
             ],
             [
              0.5555555555555556,
              "#d8576b"
             ],
             [
              0.6666666666666666,
              "#ed7953"
             ],
             [
              0.7777777777777778,
              "#fb9f3a"
             ],
             [
              0.8888888888888888,
              "#fdca26"
             ],
             [
              1,
              "#f0f921"
             ]
            ],
            "type": "contour"
           }
          ],
          "contourcarpet": [
           {
            "colorbar": {
             "outlinewidth": 0,
             "ticks": ""
            },
            "type": "contourcarpet"
           }
          ],
          "heatmap": [
           {
            "colorbar": {
             "outlinewidth": 0,
             "ticks": ""
            },
            "colorscale": [
             [
              0,
              "#0d0887"
             ],
             [
              0.1111111111111111,
              "#46039f"
             ],
             [
              0.2222222222222222,
              "#7201a8"
             ],
             [
              0.3333333333333333,
              "#9c179e"
             ],
             [
              0.4444444444444444,
              "#bd3786"
             ],
             [
              0.5555555555555556,
              "#d8576b"
             ],
             [
              0.6666666666666666,
              "#ed7953"
             ],
             [
              0.7777777777777778,
              "#fb9f3a"
             ],
             [
              0.8888888888888888,
              "#fdca26"
             ],
             [
              1,
              "#f0f921"
             ]
            ],
            "type": "heatmap"
           }
          ],
          "heatmapgl": [
           {
            "colorbar": {
             "outlinewidth": 0,
             "ticks": ""
            },
            "colorscale": [
             [
              0,
              "#0d0887"
             ],
             [
              0.1111111111111111,
              "#46039f"
             ],
             [
              0.2222222222222222,
              "#7201a8"
             ],
             [
              0.3333333333333333,
              "#9c179e"
             ],
             [
              0.4444444444444444,
              "#bd3786"
             ],
             [
              0.5555555555555556,
              "#d8576b"
             ],
             [
              0.6666666666666666,
              "#ed7953"
             ],
             [
              0.7777777777777778,
              "#fb9f3a"
             ],
             [
              0.8888888888888888,
              "#fdca26"
             ],
             [
              1,
              "#f0f921"
             ]
            ],
            "type": "heatmapgl"
           }
          ],
          "histogram": [
           {
            "marker": {
             "pattern": {
              "fillmode": "overlay",
              "size": 10,
              "solidity": 0.2
             }
            },
            "type": "histogram"
           }
          ],
          "histogram2d": [
           {
            "colorbar": {
             "outlinewidth": 0,
             "ticks": ""
            },
            "colorscale": [
             [
              0,
              "#0d0887"
             ],
             [
              0.1111111111111111,
              "#46039f"
             ],
             [
              0.2222222222222222,
              "#7201a8"
             ],
             [
              0.3333333333333333,
              "#9c179e"
             ],
             [
              0.4444444444444444,
              "#bd3786"
             ],
             [
              0.5555555555555556,
              "#d8576b"
             ],
             [
              0.6666666666666666,
              "#ed7953"
             ],
             [
              0.7777777777777778,
              "#fb9f3a"
             ],
             [
              0.8888888888888888,
              "#fdca26"
             ],
             [
              1,
              "#f0f921"
             ]
            ],
            "type": "histogram2d"
           }
          ],
          "histogram2dcontour": [
           {
            "colorbar": {
             "outlinewidth": 0,
             "ticks": ""
            },
            "colorscale": [
             [
              0,
              "#0d0887"
             ],
             [
              0.1111111111111111,
              "#46039f"
             ],
             [
              0.2222222222222222,
              "#7201a8"
             ],
             [
              0.3333333333333333,
              "#9c179e"
             ],
             [
              0.4444444444444444,
              "#bd3786"
             ],
             [
              0.5555555555555556,
              "#d8576b"
             ],
             [
              0.6666666666666666,
              "#ed7953"
             ],
             [
              0.7777777777777778,
              "#fb9f3a"
             ],
             [
              0.8888888888888888,
              "#fdca26"
             ],
             [
              1,
              "#f0f921"
             ]
            ],
            "type": "histogram2dcontour"
           }
          ],
          "mesh3d": [
           {
            "colorbar": {
             "outlinewidth": 0,
             "ticks": ""
            },
            "type": "mesh3d"
           }
          ],
          "parcoords": [
           {
            "line": {
             "colorbar": {
              "outlinewidth": 0,
              "ticks": ""
             }
            },
            "type": "parcoords"
           }
          ],
          "pie": [
           {
            "automargin": true,
            "type": "pie"
           }
          ],
          "scatter": [
           {
            "fillpattern": {
             "fillmode": "overlay",
             "size": 10,
             "solidity": 0.2
            },
            "type": "scatter"
           }
          ],
          "scatter3d": [
           {
            "line": {
             "colorbar": {
              "outlinewidth": 0,
              "ticks": ""
             }
            },
            "marker": {
             "colorbar": {
              "outlinewidth": 0,
              "ticks": ""
             }
            },
            "type": "scatter3d"
           }
          ],
          "scattercarpet": [
           {
            "marker": {
             "colorbar": {
              "outlinewidth": 0,
              "ticks": ""
             }
            },
            "type": "scattercarpet"
           }
          ],
          "scattergeo": [
           {
            "marker": {
             "colorbar": {
              "outlinewidth": 0,
              "ticks": ""
             }
            },
            "type": "scattergeo"
           }
          ],
          "scattergl": [
           {
            "marker": {
             "colorbar": {
              "outlinewidth": 0,
              "ticks": ""
             }
            },
            "type": "scattergl"
           }
          ],
          "scattermapbox": [
           {
            "marker": {
             "colorbar": {
              "outlinewidth": 0,
              "ticks": ""
             }
            },
            "type": "scattermapbox"
           }
          ],
          "scatterpolar": [
           {
            "marker": {
             "colorbar": {
              "outlinewidth": 0,
              "ticks": ""
             }
            },
            "type": "scatterpolar"
           }
          ],
          "scatterpolargl": [
           {
            "marker": {
             "colorbar": {
              "outlinewidth": 0,
              "ticks": ""
             }
            },
            "type": "scatterpolargl"
           }
          ],
          "scatterternary": [
           {
            "marker": {
             "colorbar": {
              "outlinewidth": 0,
              "ticks": ""
             }
            },
            "type": "scatterternary"
           }
          ],
          "surface": [
           {
            "colorbar": {
             "outlinewidth": 0,
             "ticks": ""
            },
            "colorscale": [
             [
              0,
              "#0d0887"
             ],
             [
              0.1111111111111111,
              "#46039f"
             ],
             [
              0.2222222222222222,
              "#7201a8"
             ],
             [
              0.3333333333333333,
              "#9c179e"
             ],
             [
              0.4444444444444444,
              "#bd3786"
             ],
             [
              0.5555555555555556,
              "#d8576b"
             ],
             [
              0.6666666666666666,
              "#ed7953"
             ],
             [
              0.7777777777777778,
              "#fb9f3a"
             ],
             [
              0.8888888888888888,
              "#fdca26"
             ],
             [
              1,
              "#f0f921"
             ]
            ],
            "type": "surface"
           }
          ],
          "table": [
           {
            "cells": {
             "fill": {
              "color": "#EBF0F8"
             },
             "line": {
              "color": "white"
             }
            },
            "header": {
             "fill": {
              "color": "#C8D4E3"
             },
             "line": {
              "color": "white"
             }
            },
            "type": "table"
           }
          ]
         },
         "layout": {
          "annotationdefaults": {
           "arrowcolor": "#2a3f5f",
           "arrowhead": 0,
           "arrowwidth": 1
          },
          "autotypenumbers": "strict",
          "coloraxis": {
           "colorbar": {
            "outlinewidth": 0,
            "ticks": ""
           }
          },
          "colorscale": {
           "diverging": [
            [
             0,
             "#8e0152"
            ],
            [
             0.1,
             "#c51b7d"
            ],
            [
             0.2,
             "#de77ae"
            ],
            [
             0.3,
             "#f1b6da"
            ],
            [
             0.4,
             "#fde0ef"
            ],
            [
             0.5,
             "#f7f7f7"
            ],
            [
             0.6,
             "#e6f5d0"
            ],
            [
             0.7,
             "#b8e186"
            ],
            [
             0.8,
             "#7fbc41"
            ],
            [
             0.9,
             "#4d9221"
            ],
            [
             1,
             "#276419"
            ]
           ],
           "sequential": [
            [
             0,
             "#0d0887"
            ],
            [
             0.1111111111111111,
             "#46039f"
            ],
            [
             0.2222222222222222,
             "#7201a8"
            ],
            [
             0.3333333333333333,
             "#9c179e"
            ],
            [
             0.4444444444444444,
             "#bd3786"
            ],
            [
             0.5555555555555556,
             "#d8576b"
            ],
            [
             0.6666666666666666,
             "#ed7953"
            ],
            [
             0.7777777777777778,
             "#fb9f3a"
            ],
            [
             0.8888888888888888,
             "#fdca26"
            ],
            [
             1,
             "#f0f921"
            ]
           ],
           "sequentialminus": [
            [
             0,
             "#0d0887"
            ],
            [
             0.1111111111111111,
             "#46039f"
            ],
            [
             0.2222222222222222,
             "#7201a8"
            ],
            [
             0.3333333333333333,
             "#9c179e"
            ],
            [
             0.4444444444444444,
             "#bd3786"
            ],
            [
             0.5555555555555556,
             "#d8576b"
            ],
            [
             0.6666666666666666,
             "#ed7953"
            ],
            [
             0.7777777777777778,
             "#fb9f3a"
            ],
            [
             0.8888888888888888,
             "#fdca26"
            ],
            [
             1,
             "#f0f921"
            ]
           ]
          },
          "colorway": [
           "#636efa",
           "#EF553B",
           "#00cc96",
           "#ab63fa",
           "#FFA15A",
           "#19d3f3",
           "#FF6692",
           "#B6E880",
           "#FF97FF",
           "#FECB52"
          ],
          "font": {
           "color": "#2a3f5f"
          },
          "geo": {
           "bgcolor": "white",
           "lakecolor": "white",
           "landcolor": "#E5ECF6",
           "showlakes": true,
           "showland": true,
           "subunitcolor": "white"
          },
          "hoverlabel": {
           "align": "left"
          },
          "hovermode": "closest",
          "mapbox": {
           "style": "light"
          },
          "paper_bgcolor": "white",
          "plot_bgcolor": "#E5ECF6",
          "polar": {
           "angularaxis": {
            "gridcolor": "white",
            "linecolor": "white",
            "ticks": ""
           },
           "bgcolor": "#E5ECF6",
           "radialaxis": {
            "gridcolor": "white",
            "linecolor": "white",
            "ticks": ""
           }
          },
          "scene": {
           "xaxis": {
            "backgroundcolor": "#E5ECF6",
            "gridcolor": "white",
            "gridwidth": 2,
            "linecolor": "white",
            "showbackground": true,
            "ticks": "",
            "zerolinecolor": "white"
           },
           "yaxis": {
            "backgroundcolor": "#E5ECF6",
            "gridcolor": "white",
            "gridwidth": 2,
            "linecolor": "white",
            "showbackground": true,
            "ticks": "",
            "zerolinecolor": "white"
           },
           "zaxis": {
            "backgroundcolor": "#E5ECF6",
            "gridcolor": "white",
            "gridwidth": 2,
            "linecolor": "white",
            "showbackground": true,
            "ticks": "",
            "zerolinecolor": "white"
           }
          },
          "shapedefaults": {
           "line": {
            "color": "#2a3f5f"
           }
          },
          "ternary": {
           "aaxis": {
            "gridcolor": "white",
            "linecolor": "white",
            "ticks": ""
           },
           "baxis": {
            "gridcolor": "white",
            "linecolor": "white",
            "ticks": ""
           },
           "bgcolor": "#E5ECF6",
           "caxis": {
            "gridcolor": "white",
            "linecolor": "white",
            "ticks": ""
           }
          },
          "title": {
           "x": 0.05
          },
          "xaxis": {
           "automargin": true,
           "gridcolor": "white",
           "linecolor": "white",
           "ticks": "",
           "title": {
            "standoff": 15
           },
           "zerolinecolor": "white",
           "zerolinewidth": 2
          },
          "yaxis": {
           "automargin": true,
           "gridcolor": "white",
           "linecolor": "white",
           "ticks": "",
           "title": {
            "standoff": 15
           },
           "zerolinecolor": "white",
           "zerolinewidth": 2
          }
         }
        },
        "title": {
         "text": "Средний показатель SPAOM"
        },
        "xaxis": {
         "anchor": "y",
         "autorange": true,
         "categoryarray": [
          1,
          2,
          3,
          4,
          5,
          6,
          7,
          8,
          9,
          10,
          11,
          12,
          13,
          14,
          15,
          16,
          17,
          18,
          19,
          20
         ],
         "categoryorder": "array",
         "domain": [
          0,
          1
         ],
         "range": [
          -0.5,
          19.5
         ],
         "tickmode": "linear",
         "title": {
          "text": "Место в таблице"
         },
         "type": "category"
        },
        "yaxis": {
         "anchor": "x",
         "autorange": true,
         "domain": [
          0,
          1
         ],
         "range": [
          0,
          10.731392099208396
         ],
         "title": {
          "text": "Показатель SPAOM"
         },
         "type": "linear"
        }
       }
      },
      "image/png": "[encoded data removed]",
      "text/html": [
       "<div>                            <div id=\"553c74d3-2f07-4ef9-93d0-749b78b0a606\" class=\"plotly-graph-div\" style=\"height:525px; width:100%;\"></div>            <script type=\"text/javascript\">                require([\"plotly\"], function(Plotly) {                    window.PLOTLYENV=window.PLOTLYENV || {};                                    if (document.getElementById(\"553c74d3-2f07-4ef9-93d0-749b78b0a606\")) {                    Plotly.newPlot(                        \"553c74d3-2f07-4ef9-93d0-749b78b0a606\",                        [{\"alignmentgroup\":\"True\",\"hovertemplate\":\"Position=GK_SPAOM\\u003cbr\\u003e\\u041c\\u0435\\u0441\\u0442\\u043e=%{x}\\u003cbr\\u003e\\u0414\\u043e\\u043b\\u044f \\u0433\\u043e\\u043b\\u043e\\u0432 (%)=%{y}\\u003cextra\\u003e\\u003c\\u002fextra\\u003e\",\"legendgroup\":\"GK_SPAOM\",\"marker\":{\"color\":\"#636efa\",\"pattern\":{\"shape\":\"\"},\"line\":{\"color\":\"white\",\"width\":1}},\"name\":\"GK_SPAOM\",\"offsetgroup\":\"GK_SPAOM\",\"orientation\":\"v\",\"showlegend\":true,\"textposition\":\"auto\",\"x\":[1,2,3,4,5,6,7,8,9,10,11,12,13,14,15,16,17,18,19,20],\"xaxis\":\"x\",\"y\":[0.015956694412708774,0.05482142857142856,0.05436690807064025,0.034010818587765446,0.030822447305313645,0.0231346762310738,0.04237956451063702,0.18033927794693344,0.044575401261391735,0.01764705882352941,0.047138900636282254,0.007133704735376045,0.003333333333333333,0.023344130036048134,0.03987240829346093,0.09926891262617903,0.030980392156862747,0.04710553739756525,0.05714285714285714,0.00980392156862745],\"yaxis\":\"y\",\"type\":\"bar\"},{\"alignmentgroup\":\"True\",\"hovertemplate\":\"Position=DF_SPAOM\\u003cbr\\u003e\\u041c\\u0435\\u0441\\u0442\\u043e=%{x}\\u003cbr\\u003e\\u0414\\u043e\\u043b\\u044f \\u0433\\u043e\\u043b\\u043e\\u0432 (%)=%{y}\\u003cextra\\u003e\\u003c\\u002fextra\\u003e\",\"legendgroup\":\"DF_SPAOM\",\"marker\":{\"color\":\"#EF553B\",\"pattern\":{\"shape\":\"\"},\"line\":{\"color\":\"white\",\"width\":1}},\"name\":\"DF_SPAOM\",\"offsetgroup\":\"DF_SPAOM\",\"orientation\":\"v\",\"showlegend\":true,\"textposition\":\"auto\",\"x\":[1,2,3,4,5,6,7,8,9,10,11,12,13,14,15,16,17,18,19,20],\"xaxis\":\"x\",\"y\":[10.194822494247976,9.150877021221218,6.935349035530043,8.018504296483968,7.3592825478490935,7.125334928294689,6.38920502827265,7.5619996589224785,5.382014677806489,6.89721168335862,6.875036032855826,5.512366376770016,4.9951212746219,5.819525367824541,5.318002059050878,5.534151260646743,5.5836383236311375,5.665006057396793,5.275408845635378,3.8925682023183015],\"yaxis\":\"y\",\"type\":\"bar\"},{\"alignmentgroup\":\"True\",\"hovertemplate\":\"Position=DF, MF_SPAOM\\u003cbr\\u003e\\u041c\\u0435\\u0441\\u0442\\u043e=%{x}\\u003cbr\\u003e\\u0414\\u043e\\u043b\\u044f \\u0433\\u043e\\u043b\\u043e\\u0432 (%)=%{y}\\u003cextra\\u003e\\u003c\\u002fextra\\u003e\",\"legendgroup\":\"DF, MF_SPAOM\",\"marker\":{\"color\":\"#00cc96\",\"pattern\":{\"shape\":\"\"},\"line\":{\"color\":\"white\",\"width\":1}},\"name\":\"DF, MF_SPAOM\",\"offsetgroup\":\"DF, MF_SPAOM\",\"orientation\":\"v\",\"showlegend\":true,\"textposition\":\"auto\",\"x\":[1,2,3,4,5,6,7,8,9,10,11,12,13,14,15,16,17,18,19,20],\"xaxis\":\"x\",\"y\":[6.828641488871722,8.480437267829748,5.602977280475004,5.209035864562646,5.500355996182494,4.913464368779565,2.5630546955624354,6.298087657382402,5.630802593834537,2.8625981974091075,5.611474750362286,6.457612769553512,6.869205568441002,4.919830797262685,9.293304538697717,4.576199046104219,8.365196854522747,7.625975011690461,3.9901528183957597,5.21138766419005],\"yaxis\":\"y\",\"type\":\"bar\"},{\"alignmentgroup\":\"True\",\"hovertemplate\":\"Position=MF_SPAOM\\u003cbr\\u003e\\u041c\\u0435\\u0441\\u0442\\u043e=%{x}\\u003cbr\\u003e\\u0414\\u043e\\u043b\\u044f \\u0433\\u043e\\u043b\\u043e\\u0432 (%)=%{y}\\u003cextra\\u003e\\u003c\\u002fextra\\u003e\",\"legendgroup\":\"MF_SPAOM\",\"marker\":{\"color\":\"#ab63fa\",\"pattern\":{\"shape\":\"\"},\"line\":{\"color\":\"white\",\"width\":1}},\"name\":\"MF_SPAOM\",\"offsetgroup\":\"MF_SPAOM\",\"orientation\":\"v\",\"showlegend\":true,\"textposition\":\"auto\",\"x\":[1,2,3,4,5,6,7,8,9,10,11,12,13,14,15,16,17,18,19,20],\"xaxis\":\"x\",\"y\":[10.582841313786465,8.698583085175597,8.76938493446918,8.467762497145069,8.79936508746697,8.182005603357265,9.024166851943852,6.64925513875188,7.197861691179395,6.28590429233456,6.579507888739274,6.0862645264049835,7.205287492276939,7.377921195380978,6.610671570092019,7.444780201753495,6.165214912930777,5.717135842151813,6.60129003295933,5.8547588217960325],\"yaxis\":\"y\",\"type\":\"bar\"},{\"alignmentgroup\":\"True\",\"hovertemplate\":\"Position=FW, MF_SPAOM\\u003cbr\\u003e\\u041c\\u0435\\u0441\\u0442\\u043e=%{x}\\u003cbr\\u003e\\u0414\\u043e\\u043b\\u044f \\u0433\\u043e\\u043b\\u043e\\u0432 (%)=%{y}\\u003cextra\\u003e\\u003c\\u002fextra\\u003e\",\"legendgroup\":\"FW, MF_SPAOM\",\"marker\":{\"color\":\"#FFA15A\",\"pattern\":{\"shape\":\"\"},\"line\":{\"color\":\"white\",\"width\":1}},\"name\":\"FW, MF_SPAOM\",\"offsetgroup\":\"FW, MF_SPAOM\",\"orientation\":\"v\",\"showlegend\":true,\"textposition\":\"auto\",\"x\":[1,2,3,4,5,6,7,8,9,10,11,12,13,14,15,16,17,18,19,20],\"xaxis\":\"x\",\"y\":[15.687459162384135,14.457135721223944,14.297676579330673,13.8316584124662,15.423797624296757,13.596379846478078,14.401039302482905,13.091588700827042,12.586850016126247,12.194425908554587,12.619003715867297,11.671767466344331,12.95798688406182,10.78079759719597,11.233750402237437,10.627503062559574,10.851574185536638,9.985639011558046,11.342507084153889,9.696954070356243],\"yaxis\":\"y\",\"type\":\"bar\"},{\"alignmentgroup\":\"True\",\"hovertemplate\":\"Position=FW_SPAOM\\u003cbr\\u003e\\u041c\\u0435\\u0441\\u0442\\u043e=%{x}\\u003cbr\\u003e\\u0414\\u043e\\u043b\\u044f \\u0433\\u043e\\u043b\\u043e\\u0432 (%)=%{y}\\u003cextra\\u003e\\u003c\\u002fextra\\u003e\",\"legendgroup\":\"FW_SPAOM\",\"marker\":{\"color\":\"#19d3f3\",\"pattern\":{\"shape\":\"\"},\"line\":{\"color\":\"white\",\"width\":1}},\"name\":\"FW_SPAOM\",\"offsetgroup\":\"FW_SPAOM\",\"orientation\":\"v\",\"showlegend\":true,\"textposition\":\"auto\",\"x\":[1,2,3,4,5,6,7,8,9,10,11,12,13,14,15,16,17,18,19,20],\"xaxis\":\"x\",\"y\":[10.24074500996737,12.24505176998577,8.586176623756211,7.813482105370762,11.363940744993915,8.671299639562536,11.03708686916588,10.0841225907925,7.08011595021366,9.85452970256477,7.022915624421832,6.717616852804705,6.223818862915222,6.523149388825199,6.341457613706578,9.854902677366352,5.676828630919491,7.613432739206172,7.862825778466703,4.2111673537339],\"yaxis\":\"y\",\"type\":\"bar\"},{\"alignmentgroup\":\"True\",\"hovertemplate\":\"Position=DF, FW_SPAOM\\u003cbr\\u003e\\u041c\\u0435\\u0441\\u0442\\u043e=%{x}\\u003cbr\\u003e\\u0414\\u043e\\u043b\\u044f \\u0433\\u043e\\u043b\\u043e\\u0432 (%)=%{y}\\u003cextra\\u003e\\u003c\\u002fextra\\u003e\",\"legendgroup\":\"DF, FW_SPAOM\",\"marker\":{\"color\":\"#FF6692\",\"pattern\":{\"shape\":\"\"},\"line\":{\"color\":\"white\",\"width\":1}},\"name\":\"DF, FW_SPAOM\",\"offsetgroup\":\"DF, FW_SPAOM\",\"orientation\":\"v\",\"showlegend\":true,\"textposition\":\"auto\",\"x\":[1,2,3,4,5,6,7,8,9,10,11,12,13,14,15,16,17,18,19,20],\"xaxis\":\"x\",\"y\":[0.0,5.13584175166161,7.549639025041197,2.0173638516179953,2.6862514688601644,2.52974945077937,5.729666487154544,3.5357142857142856,3.934295736643281,5.20102766798419,5.79231359034885,7.707482313233601,1.7234042553191489,4.090161607029648,2.3125,5.764494351443622,6.479779441163987,4.6797883922770716,3.411764705882353,3.7920621225194133],\"yaxis\":\"y\",\"type\":\"bar\"}],                        {\"template\":{\"data\":{\"histogram2dcontour\":[{\"type\":\"histogram2dcontour\",\"colorbar\":{\"outlinewidth\":0,\"ticks\":\"\"},\"colorscale\":[[0.0,\"#0d0887\"],[0.1111111111111111,\"#46039f\"],[0.2222222222222222,\"#7201a8\"],[0.3333333333333333,\"#9c179e\"],[0.4444444444444444,\"#bd3786\"],[0.5555555555555556,\"#d8576b\"],[0.6666666666666666,\"#ed7953\"],[0.7777777777777778,\"#fb9f3a\"],[0.8888888888888888,\"#fdca26\"],[1.0,\"#f0f921\"]]}],\"choropleth\":[{\"type\":\"choropleth\",\"colorbar\":{\"outlinewidth\":0,\"ticks\":\"\"}}],\"histogram2d\":[{\"type\":\"histogram2d\",\"colorbar\":{\"outlinewidth\":0,\"ticks\":\"\"},\"colorscale\":[[0.0,\"#0d0887\"],[0.1111111111111111,\"#46039f\"],[0.2222222222222222,\"#7201a8\"],[0.3333333333333333,\"#9c179e\"],[0.4444444444444444,\"#bd3786\"],[0.5555555555555556,\"#d8576b\"],[0.6666666666666666,\"#ed7953\"],[0.7777777777777778,\"#fb9f3a\"],[0.8888888888888888,\"#fdca26\"],[1.0,\"#f0f921\"]]}],\"heatmap\":[{\"type\":\"heatmap\",\"colorbar\":{\"outlinewidth\":0,\"ticks\":\"\"},\"colorscale\":[[0.0,\"#0d0887\"],[0.1111111111111111,\"#46039f\"],[0.2222222222222222,\"#7201a8\"],[0.3333333333333333,\"#9c179e\"],[0.4444444444444444,\"#bd3786\"],[0.5555555555555556,\"#d8576b\"],[0.6666666666666666,\"#ed7953\"],[0.7777777777777778,\"#fb9f3a\"],[0.8888888888888888,\"#fdca26\"],[1.0,\"#f0f921\"]]}],\"heatmapgl\":[{\"type\":\"heatmapgl\",\"colorbar\":{\"outlinewidth\":0,\"ticks\":\"\"},\"colorscale\":[[0.0,\"#0d0887\"],[0.1111111111111111,\"#46039f\"],[0.2222222222222222,\"#7201a8\"],[0.3333333333333333,\"#9c179e\"],[0.4444444444444444,\"#bd3786\"],[0.5555555555555556,\"#d8576b\"],[0.6666666666666666,\"#ed7953\"],[0.7777777777777778,\"#fb9f3a\"],[0.8888888888888888,\"#fdca26\"],[1.0,\"#f0f921\"]]}],\"contourcarpet\":[{\"type\":\"contourcarpet\",\"colorbar\":{\"outlinewidth\":0,\"ticks\":\"\"}}],\"contour\":[{\"type\":\"contour\",\"colorbar\":{\"outlinewidth\":0,\"ticks\":\"\"},\"colorscale\":[[0.0,\"#0d0887\"],[0.1111111111111111,\"#46039f\"],[0.2222222222222222,\"#7201a8\"],[0.3333333333333333,\"#9c179e\"],[0.4444444444444444,\"#bd3786\"],[0.5555555555555556,\"#d8576b\"],[0.6666666666666666,\"#ed7953\"],[0.7777777777777778,\"#fb9f3a\"],[0.8888888888888888,\"#fdca26\"],[1.0,\"#f0f921\"]]}],\"surface\":[{\"type\":\"surface\",\"colorbar\":{\"outlinewidth\":0,\"ticks\":\"\"},\"colorscale\":[[0.0,\"#0d0887\"],[0.1111111111111111,\"#46039f\"],[0.2222222222222222,\"#7201a8\"],[0.3333333333333333,\"#9c179e\"],[0.4444444444444444,\"#bd3786\"],[0.5555555555555556,\"#d8576b\"],[0.6666666666666666,\"#ed7953\"],[0.7777777777777778,\"#fb9f3a\"],[0.8888888888888888,\"#fdca26\"],[1.0,\"#f0f921\"]]}],\"mesh3d\":[{\"type\":\"mesh3d\",\"colorbar\":{\"outlinewidth\":0,\"ticks\":\"\"}}],\"scatter\":[{\"fillpattern\":{\"fillmode\":\"overlay\",\"size\":10,\"solidity\":0.2},\"type\":\"scatter\"}],\"parcoords\":[{\"type\":\"parcoords\",\"line\":{\"colorbar\":{\"outlinewidth\":0,\"ticks\":\"\"}}}],\"scatterpolargl\":[{\"type\":\"scatterpolargl\",\"marker\":{\"colorbar\":{\"outlinewidth\":0,\"ticks\":\"\"}}}],\"bar\":[{\"error_x\":{\"color\":\"#2a3f5f\"},\"error_y\":{\"color\":\"#2a3f5f\"},\"marker\":{\"line\":{\"color\":\"#E5ECF6\",\"width\":0.5},\"pattern\":{\"fillmode\":\"overlay\",\"size\":10,\"solidity\":0.2}},\"type\":\"bar\"}],\"scattergeo\":[{\"type\":\"scattergeo\",\"marker\":{\"colorbar\":{\"outlinewidth\":0,\"ticks\":\"\"}}}],\"scatterpolar\":[{\"type\":\"scatterpolar\",\"marker\":{\"colorbar\":{\"outlinewidth\":0,\"ticks\":\"\"}}}],\"histogram\":[{\"marker\":{\"pattern\":{\"fillmode\":\"overlay\",\"size\":10,\"solidity\":0.2}},\"type\":\"histogram\"}],\"scattergl\":[{\"type\":\"scattergl\",\"marker\":{\"colorbar\":{\"outlinewidth\":0,\"ticks\":\"\"}}}],\"scatter3d\":[{\"type\":\"scatter3d\",\"line\":{\"colorbar\":{\"outlinewidth\":0,\"ticks\":\"\"}},\"marker\":{\"colorbar\":{\"outlinewidth\":0,\"ticks\":\"\"}}}],\"scattermapbox\":[{\"type\":\"scattermapbox\",\"marker\":{\"colorbar\":{\"outlinewidth\":0,\"ticks\":\"\"}}}],\"scatterternary\":[{\"type\":\"scatterternary\",\"marker\":{\"colorbar\":{\"outlinewidth\":0,\"ticks\":\"\"}}}],\"scattercarpet\":[{\"type\":\"scattercarpet\",\"marker\":{\"colorbar\":{\"outlinewidth\":0,\"ticks\":\"\"}}}],\"carpet\":[{\"aaxis\":{\"endlinecolor\":\"#2a3f5f\",\"gridcolor\":\"white\",\"linecolor\":\"white\",\"minorgridcolor\":\"white\",\"startlinecolor\":\"#2a3f5f\"},\"baxis\":{\"endlinecolor\":\"#2a3f5f\",\"gridcolor\":\"white\",\"linecolor\":\"white\",\"minorgridcolor\":\"white\",\"startlinecolor\":\"#2a3f5f\"},\"type\":\"carpet\"}],\"table\":[{\"cells\":{\"fill\":{\"color\":\"#EBF0F8\"},\"line\":{\"color\":\"white\"}},\"header\":{\"fill\":{\"color\":\"#C8D4E3\"},\"line\":{\"color\":\"white\"}},\"type\":\"table\"}],\"barpolar\":[{\"marker\":{\"line\":{\"color\":\"#E5ECF6\",\"width\":0.5},\"pattern\":{\"fillmode\":\"overlay\",\"size\":10,\"solidity\":0.2}},\"type\":\"barpolar\"}],\"pie\":[{\"automargin\":true,\"type\":\"pie\"}]},\"layout\":{\"autotypenumbers\":\"strict\",\"colorway\":[\"#636efa\",\"#EF553B\",\"#00cc96\",\"#ab63fa\",\"#FFA15A\",\"#19d3f3\",\"#FF6692\",\"#B6E880\",\"#FF97FF\",\"#FECB52\"],\"font\":{\"color\":\"#2a3f5f\"},\"hovermode\":\"closest\",\"hoverlabel\":{\"align\":\"left\"},\"paper_bgcolor\":\"white\",\"plot_bgcolor\":\"#E5ECF6\",\"polar\":{\"bgcolor\":\"#E5ECF6\",\"angularaxis\":{\"gridcolor\":\"white\",\"linecolor\":\"white\",\"ticks\":\"\"},\"radialaxis\":{\"gridcolor\":\"white\",\"linecolor\":\"white\",\"ticks\":\"\"}},\"ternary\":{\"bgcolor\":\"#E5ECF6\",\"aaxis\":{\"gridcolor\":\"white\",\"linecolor\":\"white\",\"ticks\":\"\"},\"baxis\":{\"gridcolor\":\"white\",\"linecolor\":\"white\",\"ticks\":\"\"},\"caxis\":{\"gridcolor\":\"white\",\"linecolor\":\"white\",\"ticks\":\"\"}},\"coloraxis\":{\"colorbar\":{\"outlinewidth\":0,\"ticks\":\"\"}},\"colorscale\":{\"sequential\":[[0.0,\"#0d0887\"],[0.1111111111111111,\"#46039f\"],[0.2222222222222222,\"#7201a8\"],[0.3333333333333333,\"#9c179e\"],[0.4444444444444444,\"#bd3786\"],[0.5555555555555556,\"#d8576b\"],[0.6666666666666666,\"#ed7953\"],[0.7777777777777778,\"#fb9f3a\"],[0.8888888888888888,\"#fdca26\"],[1.0,\"#f0f921\"]],\"sequentialminus\":[[0.0,\"#0d0887\"],[0.1111111111111111,\"#46039f\"],[0.2222222222222222,\"#7201a8\"],[0.3333333333333333,\"#9c179e\"],[0.4444444444444444,\"#bd3786\"],[0.5555555555555556,\"#d8576b\"],[0.6666666666666666,\"#ed7953\"],[0.7777777777777778,\"#fb9f3a\"],[0.8888888888888888,\"#fdca26\"],[1.0,\"#f0f921\"]],\"diverging\":[[0,\"#8e0152\"],[0.1,\"#c51b7d\"],[0.2,\"#de77ae\"],[0.3,\"#f1b6da\"],[0.4,\"#fde0ef\"],[0.5,\"#f7f7f7\"],[0.6,\"#e6f5d0\"],[0.7,\"#b8e186\"],[0.8,\"#7fbc41\"],[0.9,\"#4d9221\"],[1,\"#276419\"]]},\"xaxis\":{\"gridcolor\":\"white\",\"linecolor\":\"white\",\"ticks\":\"\",\"title\":{\"standoff\":15},\"zerolinecolor\":\"white\",\"automargin\":true,\"zerolinewidth\":2},\"yaxis\":{\"gridcolor\":\"white\",\"linecolor\":\"white\",\"ticks\":\"\",\"title\":{\"standoff\":15},\"zerolinecolor\":\"white\",\"automargin\":true,\"zerolinewidth\":2},\"scene\":{\"xaxis\":{\"backgroundcolor\":\"#E5ECF6\",\"gridcolor\":\"white\",\"linecolor\":\"white\",\"showbackground\":true,\"ticks\":\"\",\"zerolinecolor\":\"white\",\"gridwidth\":2},\"yaxis\":{\"backgroundcolor\":\"#E5ECF6\",\"gridcolor\":\"white\",\"linecolor\":\"white\",\"showbackground\":true,\"ticks\":\"\",\"zerolinecolor\":\"white\",\"gridwidth\":2},\"zaxis\":{\"backgroundcolor\":\"#E5ECF6\",\"gridcolor\":\"white\",\"linecolor\":\"white\",\"showbackground\":true,\"ticks\":\"\",\"zerolinecolor\":\"white\",\"gridwidth\":2}},\"shapedefaults\":{\"line\":{\"color\":\"#2a3f5f\"}},\"annotationdefaults\":{\"arrowcolor\":\"#2a3f5f\",\"arrowhead\":0,\"arrowwidth\":1},\"geo\":{\"bgcolor\":\"white\",\"landcolor\":\"#E5ECF6\",\"subunitcolor\":\"white\",\"showland\":true,\"showlakes\":true,\"lakecolor\":\"white\"},\"title\":{\"x\":0.05},\"mapbox\":{\"style\":\"light\"}}},\"xaxis\":{\"anchor\":\"y\",\"domain\":[0.0,1.0],\"title\":{\"text\":\"\\u041c\\u0435\\u0441\\u0442\\u043e \\u0432 \\u0442\\u0430\\u0431\\u043b\\u0438\\u0446\\u0435\"},\"categoryorder\":\"array\",\"categoryarray\":[1,2,3,4,5,6,7,8,9,10,11,12,13,14,15,16,17,18,19,20],\"type\":\"category\",\"tickmode\":\"linear\"},\"yaxis\":{\"anchor\":\"x\",\"domain\":[0.0,1.0],\"title\":{\"text\":\"\\u041f\\u043e\\u043a\\u0430\\u0437\\u0430\\u0442\\u0435\\u043b\\u044c SPAOM\"}},\"legend\":{\"title\":{\"text\":\"\\u041f\\u043e\\u0437\\u0438\\u0446\\u0438\\u044f\"},\"tracegroupgap\":0,\"traceorder\":\"normal\"},\"title\":{\"text\":\"\\u0421\\u0440\\u0435\\u0434\\u043d\\u0438\\u0439 \\u043f\\u043e\\u043a\\u0430\\u0437\\u0430\\u0442\\u0435\\u043b\\u044c SPAOM\"},\"barmode\":\"stack\"},                        {\"responsive\": true}                    ).then(function(){\n",
       "                            \n",
       "var gd = document.getElementById('553c74d3-2f07-4ef9-93d0-749b78b0a606');\n",
       "var x = new MutationObserver(function (mutations, observer) {{\n",
       "        var display = window.getComputedStyle(gd).display;\n",
       "        if (!display || display === 'none') {{\n",
       "            console.log([gd, 'removed!']);\n",
       "            Plotly.purge(gd);\n",
       "            observer.disconnect();\n",
       "        }}\n",
       "}});\n",
       "\n",
       "// Listen for the removal of the full notebook cells\n",
       "var notebookContainer = gd.closest('#notebook-container');\n",
       "if (notebookContainer) {{\n",
       "    x.observe(notebookContainer, {childList: true});\n",
       "}}\n",
       "\n",
       "// Listen for the clearing of the current output cell\n",
       "var outputEl = gd.closest('.output');\n",
       "if (outputEl) {{\n",
       "    x.observe(outputEl, {childList: true});\n",
       "}}\n",
       "\n",
       "                        })                };                });            </script>        </div>"
      ]
     },
     "metadata": {},
     "output_type": "display_data"
    }
   ],
   "source": [
    "custom_order = ['GK_SPAOM', 'DF_SPAOM', 'DF, MF_SPAOM', 'MF_SPAOM', 'FW, MF_SPAOM', 'FW_SPAOM', 'DF, FW_SPAOM']\n",
    "position_cols = [col for col in custom_order if col in data_teams.columns]\n",
    "agg_df_SPAOM = data_teams.groupby('Rank')[position_cols].mean().reset_index()\n",
    "melted_df = pd.melt(\n",
    "    agg_df_SPAOM, \n",
    "    id_vars='Rank', \n",
    "    value_vars=position_cols, \n",
    "    var_name='Position', \n",
    "    value_name='Percentage'\n",
    ")\n",
    "melted_df['Position'] = pd.Categorical(\n",
    "    melted_df['Position'], \n",
    "    categories=custom_order, \n",
    "    ordered=True\n",
    ")\n",
    "melted_df = melted_df.sort_values(['Rank', 'Position'])\n",
    "melted_df = melted_df.sort_values('Rank')\n",
    "fig = px.bar(\n",
    "    melted_df,\n",
    "    x='Rank',\n",
    "    y='Percentage',\n",
    "    color='Position',\n",
    "    title='Средний показатель SPAOM',\n",
    "    labels={'Rank': 'Место', 'Percentage': 'Доля голов (%)'},\n",
    "    category_orders={\n",
    "        \"Position\": custom_order,\n",
    "        \"Rank\": sorted(melted_df['Rank'].unique())\n",
    "    },\n",
    "    barmode='stack'\n",
    ")\n",
    "fig.update_xaxes(\n",
    "    type='category',\n",
    "    title_text='Место в таблице',\n",
    "    categoryorder='array',\n",
    "    categoryarray=sorted(melted_df['Rank'].unique())\n",
    ")\n",
    "fig.update_yaxes(title_text='Показатель SPAOM')\n",
    "fig.update_traces(marker_line_width=1, marker_line_color='white')\n",
    "fig.update_layout(\n",
    "    legend_title='Позиция',\n",
    "    legend_traceorder='normal',\n",
    "    xaxis={'tickmode': 'linear'}\n",
    ")\n",
    "\n",
    "fig.show()"
   ]
  },
  {
   "cell_type": "code",
   "execution_count": null,
   "id": "fee55f34-b1d1-4a9f-9211-8826674bc8ab",
   "metadata": {},
   "outputs": [],
   "source": [
    "# (послание) Сделай вывод с помощью статистических методов. График интерактивный, поэтому ты можешь включать и отключать категории. Категории GK_SPAOM \n",
    "# и DF,FW_SPAOM не рассматривай. Во всех остальных категориях нисходящая тенденция прослеживается, определи где угол наклона больше - там параметр\n",
    "# наиболее важный. (судя по всему это DF всё-таки)"
   ]
  },
  {
   "cell_type": "code",
   "execution_count": 112,
   "id": "af645cc2-55d7-45c1-87dc-f6c8bbcf23d8",
   "metadata": {},
   "outputs": [
    {
     "data": {
      "text/html": [
       "<div>\n",
       "<style scoped>\n",
       "    .dataframe tbody tr th:only-of-type {\n",
       "        vertical-align: middle;\n",
       "    }\n",
       "\n",
       "    .dataframe tbody tr th {\n",
       "        vertical-align: top;\n",
       "    }\n",
       "\n",
       "    .dataframe thead th {\n",
       "        text-align: right;\n",
       "    }\n",
       "</style>\n",
       "<table border=\"1\" class=\"dataframe\">\n",
       "  <thead>\n",
       "    <tr style=\"text-align: right;\">\n",
       "      <th></th>\n",
       "      <th>Rank</th>\n",
       "      <th>GK_Percentage</th>\n",
       "      <th>DF_Percentage</th>\n",
       "      <th>DF, MF_Percentage</th>\n",
       "      <th>MF_Percentage</th>\n",
       "      <th>FW, MF_Percentage</th>\n",
       "      <th>FW_Percentage</th>\n",
       "      <th>DF, FW_Percentage</th>\n",
       "    </tr>\n",
       "  </thead>\n",
       "  <tbody>\n",
       "    <tr>\n",
       "      <th>0</th>\n",
       "      <td>1</td>\n",
       "      <td>0.0</td>\n",
       "      <td>0.180577</td>\n",
       "      <td>0.053046</td>\n",
       "      <td>0.197016</td>\n",
       "      <td>0.204436</td>\n",
       "      <td>0.364925</td>\n",
       "      <td>0.000000</td>\n",
       "    </tr>\n",
       "    <tr>\n",
       "      <th>1</th>\n",
       "      <td>2</td>\n",
       "      <td>0.0</td>\n",
       "      <td>0.123727</td>\n",
       "      <td>0.026786</td>\n",
       "      <td>0.128886</td>\n",
       "      <td>0.328076</td>\n",
       "      <td>0.389400</td>\n",
       "      <td>0.003125</td>\n",
       "    </tr>\n",
       "    <tr>\n",
       "      <th>2</th>\n",
       "      <td>3</td>\n",
       "      <td>0.0</td>\n",
       "      <td>0.146623</td>\n",
       "      <td>0.013173</td>\n",
       "      <td>0.184142</td>\n",
       "      <td>0.181828</td>\n",
       "      <td>0.463474</td>\n",
       "      <td>0.010761</td>\n",
       "    </tr>\n",
       "    <tr>\n",
       "      <th>3</th>\n",
       "      <td>4</td>\n",
       "      <td>0.0</td>\n",
       "      <td>0.120973</td>\n",
       "      <td>0.041270</td>\n",
       "      <td>0.146714</td>\n",
       "      <td>0.301417</td>\n",
       "      <td>0.385460</td>\n",
       "      <td>0.004167</td>\n",
       "    </tr>\n",
       "    <tr>\n",
       "      <th>4</th>\n",
       "      <td>5</td>\n",
       "      <td>0.0</td>\n",
       "      <td>0.158919</td>\n",
       "      <td>0.006061</td>\n",
       "      <td>0.146867</td>\n",
       "      <td>0.245396</td>\n",
       "      <td>0.442758</td>\n",
       "      <td>0.000000</td>\n",
       "    </tr>\n",
       "  </tbody>\n",
       "</table>\n",
       "</div>"
      ],
      "text/plain": [
       "   Rank  GK_Percentage  DF_Percentage  DF, MF_Percentage  MF_Percentage  \\\n",
       "0     1            0.0       0.180577           0.053046       0.197016   \n",
       "1     2            0.0       0.123727           0.026786       0.128886   \n",
       "2     3            0.0       0.146623           0.013173       0.184142   \n",
       "3     4            0.0       0.120973           0.041270       0.146714   \n",
       "4     5            0.0       0.158919           0.006061       0.146867   \n",
       "\n",
       "   FW, MF_Percentage  FW_Percentage  DF, FW_Percentage  \n",
       "0           0.204436       0.364925           0.000000  \n",
       "1           0.328076       0.389400           0.003125  \n",
       "2           0.181828       0.463474           0.010761  \n",
       "3           0.301417       0.385460           0.004167  \n",
       "4           0.245396       0.442758           0.000000  "
      ]
     },
     "execution_count": 112,
     "metadata": {},
     "output_type": "execute_result"
    }
   ],
   "source": [
    "agg_df.head()"
   ]
  },
  {
   "cell_type": "code",
   "execution_count": 113,
   "id": "a429f4b7-e43a-429d-9948-4a407ca38ce9",
   "metadata": {},
   "outputs": [
    {
     "name": "stdout",
     "output_type": "stream",
     "text": [
      "\n",
      "Ручные вычисления для FW_SPAOM:\n",
      "Средние: X̄=10.5000, Ȳ=8.2512\n",
      "Sxy=-161.9068, Sxx=665.0000, Syy=85.8243\n",
      "slope=-0.2435, intercept=10.8077\n",
      "r=-0.6777\n",
      "t-stat=-3.9103, p-value=0.0010\n",
      "✅ Гипотеза подтверждается для FW_SPAOM: чем сильнее команда, тем больше коэффициент SPAOM.\n",
      "\n",
      "Ручные вычисления для MF_SPAOM:\n",
      "Средние: X̄=10.5000, Ȳ=7.4150\n",
      "Sxy=-121.0158, Sxx=665.0000, Syy=32.3260\n",
      "slope=-0.1820, intercept=9.3258\n",
      "r=-0.8254\n",
      "t-stat=-6.2026, p-value=0.0000\n",
      "✅ Гипотеза подтверждается для MF_SPAOM: чем сильнее команда, тем больше коэффициент SPAOM.\n",
      "\n",
      "Ручные вычисления для DF_SPAOM:\n",
      "Средние: X̄=10.5000, Ȳ=6.4743\n",
      "Sxy=-144.5650, Sxx=665.0000, Syy=42.8472\n",
      "slope=-0.2174, intercept=8.7569\n",
      "r=-0.8564\n",
      "t-stat=-7.0381, p-value=0.0000\n",
      "✅ Гипотеза подтверждается для DF_SPAOM: чем сильнее команда, тем больше коэффициент SPAOM.\n",
      "\n",
      "📌 Наибольшая сила связи (по |r|) наблюдается у: DF_SPAOM с r=-0.8564\n"
     ]
    }
   ],
   "source": [
    "positions = ['FW_SPAOM', 'MF_SPAOM', 'DF_SPAOM']\n",
    "results = {}\n",
    "\n",
    "X = np.array(agg_df_SPAOM['Rank'])\n",
    "n = len(X)\n",
    "X_mean = np.mean(X)\n",
    "Sxx = np.sum((X - X_mean)**2)\n",
    "\n",
    "for pos in positions:\n",
    "    Y = np.array(agg_df_SPAOM[pos])\n",
    "    Y_mean = np.mean(Y)\n",
    "    Syy = np.sum((Y - Y_mean)**2)\n",
    "    Sxy = np.sum((X - X_mean) * (Y - Y_mean))\n",
    "    \n",
    "    slope = Sxy / Sxx\n",
    "    intercept = Y_mean - slope * X_mean\n",
    "    r = Sxy / np.sqrt(Sxx * Syy)\n",
    "    \n",
    "    t_stat = r * np.sqrt((n - 2) / (1 - r**2))\n",
    "    df = n - 2\n",
    "    p_value = 2 * (1 - t.cdf(abs(t_stat), df))\n",
    "    \n",
    "    results[pos] = {\n",
    "        'slope': slope,\n",
    "        'intercept': intercept,\n",
    "        'r': r,\n",
    "        'p_value': p_value\n",
    "    }\n",
    "\n",
    "    print(f\"\\nРучные вычисления для {pos}:\")\n",
    "    print(f\"Средние: X̄={X_mean:.4f}, Ȳ={Y_mean:.4f}\")\n",
    "    print(f\"Sxy={Sxy:.4f}, Sxx={Sxx:.4f}, Syy={Syy:.4f}\")\n",
    "    print(f\"slope={slope:.4f}, intercept={intercept:.4f}\")\n",
    "    print(f\"r={r:.4f}\")\n",
    "    print(f\"t-stat={t_stat:.4f}, p-value={p_value:.4f}\")\n",
    "    \n",
    "    if round(slope,1) < 0 and p_value < 0.05:\n",
    "        print(f\"✅ Гипотеза подтверждается для {pos}: чем сильнее команда, тем больше коэффициент SPAOM.\")\n",
    "    else:\n",
    "        print(f\"❌ Гипотеза не подтверждается для {pos}: статистически значимой зависимости нет.\")\n",
    "\n",
    "strongest_pos = max(results, key=lambda x: abs(results[x]['r']))\n",
    "print(f\"\\n Наибольшая сила связи (по |r|) наблюдается у: {strongest_pos} с r={results[strongest_pos]['r']:.4f}\")"
   ]
  },
  {
   "cell_type": "code",
   "execution_count": null,
   "id": "dad4acca-a344-4f30-902f-4acdf22c70c8",
   "metadata": {},
   "outputs": [],
   "source": [
    "# Вывод: на параметр SPAOM нужно опираться при выборе [позиция]"
   ]
  }
 ],
 "metadata": {
  "kernelspec": {
   "display_name": "Python 3 (ipykernel)",
   "language": "python",
   "name": "python3"
  },
  "language_info": {
   "codemirror_mode": {
    "name": "ipython",
    "version": 3
   },
   "file_extension": ".py",
   "mimetype": "text/x-python",
   "name": "python",
   "nbconvert_exporter": "python",
   "pygments_lexer": "ipython3",
   "version": "3.12.2"
  }
 },
 "nbformat": 4,
 "nbformat_minor": 5
}
